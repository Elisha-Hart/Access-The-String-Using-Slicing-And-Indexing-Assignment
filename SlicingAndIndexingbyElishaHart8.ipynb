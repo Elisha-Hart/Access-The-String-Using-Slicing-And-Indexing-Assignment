{
 "cells": [
  {
   "cell_type": "code",
   "execution_count": 4,
   "id": "ffc9611c-12b8-4c10-ae1c-f5fafd4473c4",
   "metadata": {},
   "outputs": [
    {
     "name": "stdout",
     "output_type": "stream",
     "text": [
      "ES\n"
     ]
    }
   ],
   "source": [
    "### Python program to demonstrate string slicing\n",
    "\n",
    "String = 'LETSUPGRADE'\n",
    "\n",
    "print(String[1:5:2])"
   ]
  },
  {
   "cell_type": "code",
   "execution_count": 5,
   "id": "44e09303-21ff-49da-b6e1-60822a785e51",
   "metadata": {},
   "outputs": [
    {
     "name": "stdout",
     "output_type": "stream",
     "text": [
      "LET\n"
     ]
    }
   ],
   "source": [
    "String = 'LETSUPGRADE'\n",
    "\n",
    "print(String[:3])"
   ]
  },
  {
   "cell_type": "code",
   "execution_count": null,
   "id": "09b81dd9-f3fd-455e-ab87-bc7588d8aeec",
   "metadata": {},
   "outputs": [],
   "source": []
  }
 ],
 "metadata": {
  "kernelspec": {
   "display_name": "anaconda-2022.05-py39",
   "language": "python",
   "name": "conda-env-anaconda-2022.05-py39-py"
  },
  "language_info": {
   "codemirror_mode": {
    "name": "ipython",
    "version": 3
   },
   "file_extension": ".py",
   "mimetype": "text/x-python",
   "name": "python",
   "nbconvert_exporter": "python",
   "pygments_lexer": "ipython3",
   "version": "3.9.12"
  }
 },
 "nbformat": 4,
 "nbformat_minor": 5
}
