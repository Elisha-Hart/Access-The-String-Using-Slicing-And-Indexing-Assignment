{
  "nbformat": 4,
  "nbformat_minor": 0,
  "metadata": {
    "colab": {
      "provenance": [],
      "authorship_tag": "ABX9TyPeiQW0RV8bsRQ4XciV6/Bz",
      "include_colab_link": true
    },
    "kernelspec": {
      "name": "python3",
      "display_name": "Python 3"
    },
    "language_info": {
      "name": "python"
    }
  },
  "cells": [
    {
      "cell_type": "markdown",
      "metadata": {
        "id": "view-in-github",
        "colab_type": "text"
      },
      "source": [
        "<a href=\"https://colab.research.google.com/github/Elisha-Hart/Access-The-String-Using-Slicing-And-Indexing-Assignment/blob/main/EDA_Univariate_Cross_Validation_Pipeline_Project1.ipynb\" target=\"_parent\"><img src=\"https://colab.research.google.com/assets/colab-badge.svg\" alt=\"Open In Colab\"/></a>"
      ]
    },
    {
      "cell_type": "code",
      "execution_count": 630,
      "metadata": {
        "id": "J8laFVqoA2g4"
      },
      "outputs": [],
      "source": [
        "import numpy as np\n",
        "from sklearn.linear_model import LogisticRegression\n",
        "from sklearn.model_selection import train_test_split\n",
        "from sklearn.metrics import roc_curve\n",
        "from sklearn.metrics import precision_recall_curve\n",
        "from sklearn.metrics import average_precision_score\n",
        "from sklearn.metrics import roc_auc_score\n",
        "from sklearn.pipeline import Pipeline\n",
        "from sklearn.preprocessing import StandardScaler\n",
        "from sklearn.datasets import make_classification\n",
        "import collections\n",
        "import matplotlib.pyplot as plt\n",
        "%matplotlib inline \n",
        "import pandas as pd\n",
        "import seaborn as sns "
      ]
    },
    {
      "cell_type": "code",
      "source": [
        "data = pd.read_csv(\"/content/gender_submission.csv\")"
      ],
      "metadata": {
        "id": "ImvNBwJvBwxt"
      },
      "execution_count": 631,
      "outputs": []
    },
    {
      "cell_type": "code",
      "source": [
        "### Data Quality Checking\n",
        "def quality_check(data):\n",
        "  print(\"Data Information Is :\", data.info())\n",
        "  print(\"Data Description Is :\", data.describe())\n",
        "  print(\"Data columns are : \", data.columns)\n",
        "  print(\"The null counts are: \", data.isnull().sum())"
      ],
      "metadata": {
        "id": "lYiu_NvsuXsg"
      },
      "execution_count": 632,
      "outputs": []
    },
    {
      "cell_type": "code",
      "source": [
        "print(\"The quality report of the data is as follows \\n\", quality_check(data))\n",
        "\n"
      ],
      "metadata": {
        "colab": {
          "base_uri": "https://localhost:8080/"
        },
        "id": "ZvFk2rtKu9An",
        "outputId": "dce32dc9-fbb0-4666-dc48-1c87753c5fa7"
      },
      "execution_count": 633,
      "outputs": [
        {
          "output_type": "stream",
          "name": "stdout",
          "text": [
            "<class 'pandas.core.frame.DataFrame'>\n",
            "RangeIndex: 418 entries, 0 to 417\n",
            "Data columns (total 2 columns):\n",
            " #   Column       Non-Null Count  Dtype\n",
            "---  ------       --------------  -----\n",
            " 0   PassengerId  418 non-null    int64\n",
            " 1   Survived     418 non-null    int64\n",
            "dtypes: int64(2)\n",
            "memory usage: 6.7 KB\n",
            "Data Information Is : None\n",
            "Data Description Is :        PassengerId    Survived\n",
            "count   418.000000  418.000000\n",
            "mean   1100.500000    0.363636\n",
            "std     120.810458    0.481622\n",
            "min     892.000000    0.000000\n",
            "25%     996.250000    0.000000\n",
            "50%    1100.500000    0.000000\n",
            "75%    1204.750000    1.000000\n",
            "max    1309.000000    1.000000\n",
            "Data columns are :  Index(['PassengerId', 'Survived'], dtype='object')\n",
            "The null counts are:  PassengerId    0\n",
            "Survived       0\n",
            "dtype: int64\n",
            "The quality report of the data is as follows \n",
            " None\n"
          ]
        }
      ]
    },
    {
      "cell_type": "code",
      "source": [
        "index = data[\"PassengerId\"].astype(object).value_counts().sort_values(ascending = False).head(10).index\n"
      ],
      "metadata": {
        "id": "8CSGT4x9vGJG"
      },
      "execution_count": 634,
      "outputs": []
    },
    {
      "cell_type": "code",
      "source": [
        "data[\"PassengerId\"].astype(object)"
      ],
      "metadata": {
        "colab": {
          "base_uri": "https://localhost:8080/"
        },
        "id": "wejGsk2Evrzt",
        "outputId": "06e23175-05d5-429b-98d7-644201e068b1"
      },
      "execution_count": 635,
      "outputs": [
        {
          "output_type": "execute_result",
          "data": {
            "text/plain": [
              "0       892\n",
              "1       893\n",
              "2       894\n",
              "3       895\n",
              "4       896\n",
              "       ... \n",
              "413    1305\n",
              "414    1306\n",
              "415    1307\n",
              "416    1308\n",
              "417    1309\n",
              "Name: PassengerId, Length: 418, dtype: object"
            ]
          },
          "metadata": {},
          "execution_count": 635
        }
      ]
    },
    {
      "cell_type": "code",
      "source": [
        "data[\"PassengerId\"].astype(object).value_counts().sort_values(ascending= False)"
      ],
      "metadata": {
        "colab": {
          "base_uri": "https://localhost:8080/"
        },
        "id": "mUeOCSW3v4DQ",
        "outputId": "ca73ae54-7025-4438-f2af-88a0b8dd8bf6"
      },
      "execution_count": 636,
      "outputs": [
        {
          "output_type": "execute_result",
          "data": {
            "text/plain": [
              "892     1\n",
              "995     1\n",
              "895     1\n",
              "896     1\n",
              "897     1\n",
              "       ..\n",
              "1306    1\n",
              "1307    1\n",
              "1308    1\n",
              "1298    1\n",
              "1309    1\n",
              "Name: PassengerId, Length: 418, dtype: int64"
            ]
          },
          "metadata": {},
          "execution_count": 636
        }
      ]
    },
    {
      "cell_type": "code",
      "source": [
        "data[\"PassengerId\"].astype(object).value_counts().sort_values(ascending= False).head(10)"
      ],
      "metadata": {
        "colab": {
          "base_uri": "https://localhost:8080/"
        },
        "id": "QAbXbCxEwQoe",
        "outputId": "6af2027d-5892-4aeb-e9c9-7d31b6547059"
      },
      "execution_count": 637,
      "outputs": [
        {
          "output_type": "execute_result",
          "data": {
            "text/plain": [
              "892    1\n",
              "995    1\n",
              "895    1\n",
              "896    1\n",
              "897    1\n",
              "898    1\n",
              "899    1\n",
              "900    1\n",
              "901    1\n",
              "902    1\n",
              "Name: PassengerId, dtype: int64"
            ]
          },
          "metadata": {},
          "execution_count": 637
        }
      ]
    },
    {
      "cell_type": "code",
      "source": [
        "data[\"PassengerId\"].astype(object).value_counts().sort_values(ascending= False).head(10).index"
      ],
      "metadata": {
        "colab": {
          "base_uri": "https://localhost:8080/"
        },
        "id": "t-8NYO-5wpcu",
        "outputId": "a4bbdbea-37df-4218-e345-b92a3169eb5f"
      },
      "execution_count": 638,
      "outputs": [
        {
          "output_type": "execute_result",
          "data": {
            "text/plain": [
              "Int64Index([892, 995, 895, 896, 897, 898, 899, 900, 901, 902], dtype='int64')"
            ]
          },
          "metadata": {},
          "execution_count": 638
        }
      ]
    },
    {
      "cell_type": "code",
      "source": [
        "data[\"PassengerId\"].astype(object).value_counts().sort_values(ascending= False).head(10).values"
      ],
      "metadata": {
        "colab": {
          "base_uri": "https://localhost:8080/"
        },
        "id": "futkmbjRxCQw",
        "outputId": "cb8b85a5-4bea-4b63-ee98-ad90b7016efe"
      },
      "execution_count": 639,
      "outputs": [
        {
          "output_type": "execute_result",
          "data": {
            "text/plain": [
              "array([1, 1, 1, 1, 1, 1, 1, 1, 1, 1])"
            ]
          },
          "metadata": {},
          "execution_count": 639
        }
      ]
    },
    {
      "cell_type": "code",
      "source": [
        "data[\"PassengerId\"].astype(object).value_counts()"
      ],
      "metadata": {
        "colab": {
          "base_uri": "https://localhost:8080/"
        },
        "id": "3H4sltGNxX5M",
        "outputId": "ce3a46f2-f221-40ec-d4fc-cb68ab8956a4"
      },
      "execution_count": 640,
      "outputs": [
        {
          "output_type": "execute_result",
          "data": {
            "text/plain": [
              "892     1\n",
              "1205    1\n",
              "1177    1\n",
              "1176    1\n",
              "1175    1\n",
              "       ..\n",
              "1028    1\n",
              "1027    1\n",
              "1026    1\n",
              "1025    1\n",
              "1309    1\n",
              "Name: PassengerId, Length: 418, dtype: int64"
            ]
          },
          "metadata": {},
          "execution_count": 640
        }
      ]
    },
    {
      "cell_type": "code",
      "source": [
        "def plot_categorical_data(index, values):\n",
        "  plt.figure(figsize = [20,8])\n",
        "  plt.subplot(1,2,1)\n",
        "  plt.pie(x = values, labels = index, autopct='%1.0f%%')\n",
        "  plt.subplot(1,2,2)\n",
        "  sns.barplot(y = index, x = values, orient = \"h\")\n",
        "  plt.grid();\n",
        "  plt.show()"
      ],
      "metadata": {
        "id": "H1iH7bi4xt2i"
      },
      "execution_count": 641,
      "outputs": []
    },
    {
      "cell_type": "markdown",
      "source": [
        "**EDA-Univariate**\n"
      ],
      "metadata": {
        "id": "D2AYM_sLKBq8"
      }
    },
    {
      "cell_type": "code",
      "source": [
        "index = data[\"PassengerId\"].astype(object).value_counts().sort_values(ascending = False).head(10).index\n",
        "values = data[\"PassengerId\"].astype(object).value_counts().sort_values(ascending = False).head(10).values\n",
        "plot_categorical_data(index, values)\n",
        "\n"
      ],
      "metadata": {
        "colab": {
          "base_uri": "https://localhost:8080/",
          "height": 400
        },
        "id": "uDTCe1nhyIsL",
        "outputId": "f1350c15-a0ab-4065-dfbe-6b7341894491"
      },
      "execution_count": 642,
      "outputs": [
        {
          "output_type": "display_data",
          "data": {
            "text/plain": [
              "<Figure size 2000x800 with 2 Axes>"
            ],
            "image/png": "[encoded data removed]"
          },
          "metadata": {}
        }
      ]
    },
    {
      "cell_type": "code",
      "source": [
        "def plot_continious_data(data, col):\n",
        "  plt.figure(figsize = [20,8])\n",
        "  plt.subplot(1,2,1)\n",
        "  plt.hist(data)\n",
        "  plt.subplot(1,2,2)\n",
        "  sns.boxplot(y = col, data=data)\n",
        "  plt.grid();\n",
        "  plt.show();"
      ],
      "metadata": {
        "id": "gg4H9um22PFF"
      },
      "execution_count": 643,
      "outputs": []
    },
    {
      "cell_type": "markdown",
      "source": [
        "**EDA** \n"
      ],
      "metadata": {
        "id": "GjPNwcvNK9L6"
      }
    },
    {
      "cell_type": "code",
      "source": [
        "plot_continious_data (data, \"PassengerId\")\n"
      ],
      "metadata": {
        "colab": {
          "base_uri": "https://localhost:8080/",
          "height": 381
        },
        "id": "uqAM3VU82QX2",
        "outputId": "a1c54469-cf76-4943-a295-abe40698a35e"
      },
      "execution_count": 644,
      "outputs": [
        {
          "output_type": "display_data",
          "data": {
            "text/plain": [
              "<Figure size 2000x800 with 2 Axes>"
            ],
            "image/png": "[encoded data removed]"
          },
          "metadata": {}
        }
      ]
    },
    {
      "cell_type": "code",
      "source": [
        "data.columns"
      ],
      "metadata": {
        "colab": {
          "base_uri": "https://localhost:8080/"
        },
        "id": "6iuvqv7uKrMy",
        "outputId": "ea514900-c25f-4580-a7f6-77749d95bb48"
      },
      "execution_count": 645,
      "outputs": [
        {
          "output_type": "execute_result",
          "data": {
            "text/plain": [
              "Index(['PassengerId', 'Survived'], dtype='object')"
            ]
          },
          "metadata": {},
          "execution_count": 645
        }
      ]
    },
    {
      "cell_type": "code",
      "source": [
        "data['Survived']"
      ],
      "metadata": {
        "colab": {
          "base_uri": "https://localhost:8080/"
        },
        "id": "h6_DEbZpL5tZ",
        "outputId": "ae69f9ec-8538-4b6c-98cc-1a5d6a455c8d"
      },
      "execution_count": 646,
      "outputs": [
        {
          "output_type": "execute_result",
          "data": {
            "text/plain": [
              "0      0\n",
              "1      1\n",
              "2      0\n",
              "3      0\n",
              "4      1\n",
              "      ..\n",
              "413    0\n",
              "414    1\n",
              "415    0\n",
              "416    0\n",
              "417    0\n",
              "Name: Survived, Length: 418, dtype: int64"
            ]
          },
          "metadata": {},
          "execution_count": 646
        }
      ]
    },
    {
      "cell_type": "code",
      "source": [
        "data['Survived'].max()"
      ],
      "metadata": {
        "colab": {
          "base_uri": "https://localhost:8080/"
        },
        "id": "dQtcVCGfMEI2",
        "outputId": "48be38a0-c0ca-46d2-b608-bdbf5c655434"
      },
      "execution_count": 647,
      "outputs": [
        {
          "output_type": "execute_result",
          "data": {
            "text/plain": [
              "1"
            ]
          },
          "metadata": {},
          "execution_count": 647
        }
      ]
    },
    {
      "cell_type": "code",
      "source": [
        "data['Survived'].min()"
      ],
      "metadata": {
        "colab": {
          "base_uri": "https://localhost:8080/"
        },
        "id": "YMUL-InsMNJA",
        "outputId": "0803db62-e273-4c2b-f69c-12f9d4597ac6"
      },
      "execution_count": 648,
      "outputs": [
        {
          "output_type": "execute_result",
          "data": {
            "text/plain": [
              "0"
            ]
          },
          "metadata": {},
          "execution_count": 648
        }
      ]
    },
    {
      "cell_type": "code",
      "source": [
        "data.groupby(by = ['PassengerId'])['Survived'].count()"
      ],
      "metadata": {
        "colab": {
          "base_uri": "https://localhost:8080/"
        },
        "id": "m0S6k9vU7jwr",
        "outputId": "3f714acf-a3f8-4de4-a8db-bd07aba51ca9"
      },
      "execution_count": 649,
      "outputs": [
        {
          "output_type": "execute_result",
          "data": {
            "text/plain": [
              "PassengerId\n",
              "892     1\n",
              "893     1\n",
              "894     1\n",
              "895     1\n",
              "896     1\n",
              "       ..\n",
              "1305    1\n",
              "1306    1\n",
              "1307    1\n",
              "1308    1\n",
              "1309    1\n",
              "Name: Survived, Length: 418, dtype: int64"
            ]
          },
          "metadata": {},
          "execution_count": 649
        }
      ]
    },
    {
      "cell_type": "code",
      "source": [
        "data.groupby(by = ['PassengerId'])['Survived'].mean()"
      ],
      "metadata": {
        "colab": {
          "base_uri": "https://localhost:8080/"
        },
        "id": "RZivVqbM7uOm",
        "outputId": "76ec198a-0d4a-4259-fc7e-8a6de96c9420"
      },
      "execution_count": 650,
      "outputs": [
        {
          "output_type": "execute_result",
          "data": {
            "text/plain": [
              "PassengerId\n",
              "892     0.0\n",
              "893     1.0\n",
              "894     0.0\n",
              "895     0.0\n",
              "896     1.0\n",
              "       ... \n",
              "1305    0.0\n",
              "1306    1.0\n",
              "1307    0.0\n",
              "1308    0.0\n",
              "1309    0.0\n",
              "Name: Survived, Length: 418, dtype: float64"
            ]
          },
          "metadata": {},
          "execution_count": 650
        }
      ]
    },
    {
      "cell_type": "code",
      "source": [
        "np.median(data['PassengerId'])"
      ],
      "metadata": {
        "colab": {
          "base_uri": "https://localhost:8080/"
        },
        "id": "kyJsUWFcGI3y",
        "outputId": "746d890e-9f7d-4412-9114-8129097215ba"
      },
      "execution_count": 651,
      "outputs": [
        {
          "output_type": "execute_result",
          "data": {
            "text/plain": [
              "1100.5"
            ]
          },
          "metadata": {},
          "execution_count": 651
        }
      ]
    },
    {
      "cell_type": "code",
      "source": [
        "sns.histplot(x = 'PassengerId', data=data, hue = \"Survived\")\n"
      ],
      "metadata": {
        "colab": {
          "base_uri": "https://localhost:8080/",
          "height": 466
        },
        "id": "lBggWTl5GXO9",
        "outputId": "15ac6049-1e26-436b-cbd7-d3ed73906abe"
      },
      "execution_count": 652,
      "outputs": [
        {
          "output_type": "execute_result",
          "data": {
            "text/plain": [
              "<Axes: xlabel='PassengerId', ylabel='Count'>"
            ]
          },
          "metadata": {},
          "execution_count": 652
        },
        {
          "output_type": "display_data",
          "data": {
            "text/plain": [
              "<Figure size 640x480 with 1 Axes>"
            ],
            "image/png": "[encoded data removed]"
          },
          "metadata": {}
        }
      ]
    },
    {
      "cell_type": "code",
      "source": [
        "data.columns"
      ],
      "metadata": {
        "colab": {
          "base_uri": "https://localhost:8080/"
        },
        "id": "9-DVU_BBQAQA",
        "outputId": "68973b3e-d390-4119-827f-115ca078611b"
      },
      "execution_count": 653,
      "outputs": [
        {
          "output_type": "execute_result",
          "data": {
            "text/plain": [
              "Index(['PassengerId', 'Survived'], dtype='object')"
            ]
          },
          "metadata": {},
          "execution_count": 653
        }
      ]
    },
    {
      "cell_type": "code",
      "source": [
        "data.head()"
      ],
      "metadata": {
        "id": "wTJY5wdtQYPl",
        "colab": {
          "base_uri": "https://localhost:8080/",
          "height": 206
        },
        "outputId": "37ec6652-6fc0-45ff-c10e-03e84375ff31"
      },
      "execution_count": 654,
      "outputs": [
        {
          "output_type": "execute_result",
          "data": {
            "text/plain": [
              "   PassengerId  Survived\n",
              "0          892         0\n",
              "1          893         1\n",
              "2          894         0\n",
              "3          895         0\n",
              "4          896         1"
            ],
            "text/html": [
              "\n",
              "  <div id=\"df-ce941adb-48a6-4074-b978-f7c2f4265556\">\n",
              "    <div class=\"colab-df-container\">\n",
              "      <div>\n",
              "<style scoped>\n",
              "    .dataframe tbody tr th:only-of-type {\n",
              "        vertical-align: middle;\n",
              "    }\n",
              "\n",
              "    .dataframe tbody tr th {\n",
              "        vertical-align: top;\n",
              "    }\n",
              "\n",
              "    .dataframe thead th {\n",
              "        text-align: right;\n",
              "    }\n",
              "</style>\n",
              "<table border=\"1\" class=\"dataframe\">\n",
              "  <thead>\n",
              "    <tr style=\"text-align: right;\">\n",
              "      <th></th>\n",
              "      <th>PassengerId</th>\n",
              "      <th>Survived</th>\n",
              "    </tr>\n",
              "  </thead>\n",
              "  <tbody>\n",
              "    <tr>\n",
              "      <th>0</th>\n",
              "      <td>892</td>\n",
              "      <td>0</td>\n",
              "    </tr>\n",
              "    <tr>\n",
              "      <th>1</th>\n",
              "      <td>893</td>\n",
              "      <td>1</td>\n",
              "    </tr>\n",
              "    <tr>\n",
              "      <th>2</th>\n",
              "      <td>894</td>\n",
              "      <td>0</td>\n",
              "    </tr>\n",
              "    <tr>\n",
              "      <th>3</th>\n",
              "      <td>895</td>\n",
              "      <td>0</td>\n",
              "    </tr>\n",
              "    <tr>\n",
              "      <th>4</th>\n",
              "      <td>896</td>\n",
              "      <td>1</td>\n",
              "    </tr>\n",
              "  </tbody>\n",
              "</table>\n",
              "</div>\n",
              "      <button class=\"colab-df-convert\" onclick=\"convertToInteractive('df-ce941adb-48a6-4074-b978-f7c2f4265556')\"\n",
              "              title=\"Convert this dataframe to an interactive table.\"\n",
              "              style=\"display:none;\">\n",
              "        \n",
              "  <svg xmlns=\"http://www.w3.org/2000/svg\" height=\"24px\"viewBox=\"0 0 24 24\"\n",
              "       width=\"24px\">\n",
              "    <path d=\"M0 0h24v24H0V0z\" fill=\"none\"/>\n",
              "    <path d=\"M18.56 5.44l.94 2.06.94-2.06 2.06-.94-2.06-.94-.94-2.06-.94 2.06-2.06.94zm-11 1L8.5 8.5l.94-2.06 2.06-.94-2.06-.94L8.5 2.5l-.94 2.06-2.06.94zm10 10l.94 2.06.94-2.06 2.06-.94-2.06-.94-.94-2.06-.94 2.06-2.06.94z\"/><path d=\"M17.41 7.96l-1.37-1.37c-.4-.4-.92-.59-1.43-.59-.52 0-1.04.2-1.43.59L10.3 9.45l-7.72 7.72c-.78.78-.78 2.05 0 2.83L4 21.41c.39.39.9.59 1.41.59.51 0 1.02-.2 1.41-.59l7.78-7.78 2.81-2.81c.8-.78.8-2.07 0-2.86zM5.41 20L4 18.59l7.72-7.72 1.47 1.35L5.41 20z\"/>\n",
              "  </svg>\n",
              "      </button>\n",
              "      \n",
              "  <style>\n",
              "    .colab-df-container {\n",
              "      display:flex;\n",
              "      flex-wrap:wrap;\n",
              "      gap: 12px;\n",
              "    }\n",
              "\n",
              "    .colab-df-convert {\n",
              "      background-color: #E8F0FE;\n",
              "      border: none;\n",
              "      border-radius: 50%;\n",
              "      cursor: pointer;\n",
              "      display: none;\n",
              "      fill: #1967D2;\n",
              "      height: 32px;\n",
              "      padding: 0 0 0 0;\n",
              "      width: 32px;\n",
              "    }\n",
              "\n",
              "    .colab-df-convert:hover {\n",
              "      background-color: #E2EBFA;\n",
              "      box-shadow: 0px 1px 2px rgba(60, 64, 67, 0.3), 0px 1px 3px 1px rgba(60, 64, 67, 0.15);\n",
              "      fill: #174EA6;\n",
              "    }\n",
              "\n",
              "    [theme=dark] .colab-df-convert {\n",
              "      background-color: #3B4455;\n",
              "      fill: #D2E3FC;\n",
              "    }\n",
              "\n",
              "    [theme=dark] .colab-df-convert:hover {\n",
              "      background-color: #434B5C;\n",
              "      box-shadow: 0px 1px 3px 1px rgba(0, 0, 0, 0.15);\n",
              "      filter: drop-shadow(0px 1px 2px rgba(0, 0, 0, 0.3));\n",
              "      fill: #FFFFFF;\n",
              "    }\n",
              "  </style>\n",
              "\n",
              "      <script>\n",
              "        const buttonEl =\n",
              "          document.querySelector('#df-ce941adb-48a6-4074-b978-f7c2f4265556 button.colab-df-convert');\n",
              "        buttonEl.style.display =\n",
              "          google.colab.kernel.accessAllowed ? 'block' : 'none';\n",
              "\n",
              "        async function convertToInteractive(key) {\n",
              "          const element = document.querySelector('#df-ce941adb-48a6-4074-b978-f7c2f4265556');\n",
              "          const dataTable =\n",
              "            await google.colab.kernel.invokeFunction('convertToInteractive',\n",
              "                                                     [key], {});\n",
              "          if (!dataTable) return;\n",
              "\n",
              "          const docLinkHtml = 'Like what you see? Visit the ' +\n",
              "            '<a target=\"_blank\" href=https://colab.research.google.com/notebooks/data_table.ipynb>data table notebook</a>'\n",
              "            + ' to learn more about interactive tables.';\n",
              "          element.innerHTML = '';\n",
              "          dataTable['output_type'] = 'display_data';\n",
              "          await google.colab.output.renderOutput(dataTable, element);\n",
              "          const docLink = document.createElement('div');\n",
              "          docLink.innerHTML = docLinkHtml;\n",
              "          element.appendChild(docLink);\n",
              "        }\n",
              "      </script>\n",
              "    </div>\n",
              "  </div>\n",
              "  "
            ]
          },
          "metadata": {},
          "execution_count": 654
        }
      ]
    },
    {
      "cell_type": "code",
      "source": [
        "data.tail()"
      ],
      "metadata": {
        "colab": {
          "base_uri": "https://localhost:8080/",
          "height": 206
        },
        "id": "V71EI-KVR5-j",
        "outputId": "dc33404c-57b8-4e58-c508-1e6270b944ff"
      },
      "execution_count": 655,
      "outputs": [
        {
          "output_type": "execute_result",
          "data": {
            "text/plain": [
              "     PassengerId  Survived\n",
              "413         1305         0\n",
              "414         1306         1\n",
              "415         1307         0\n",
              "416         1308         0\n",
              "417         1309         0"
            ],
            "text/html": [
              "\n",
              "  <div id=\"df-b3cf8eaa-518f-47b7-836c-23d28c758f38\">\n",
              "    <div class=\"colab-df-container\">\n",
              "      <div>\n",
              "<style scoped>\n",
              "    .dataframe tbody tr th:only-of-type {\n",
              "        vertical-align: middle;\n",
              "    }\n",
              "\n",
              "    .dataframe tbody tr th {\n",
              "        vertical-align: top;\n",
              "    }\n",
              "\n",
              "    .dataframe thead th {\n",
              "        text-align: right;\n",
              "    }\n",
              "</style>\n",
              "<table border=\"1\" class=\"dataframe\">\n",
              "  <thead>\n",
              "    <tr style=\"text-align: right;\">\n",
              "      <th></th>\n",
              "      <th>PassengerId</th>\n",
              "      <th>Survived</th>\n",
              "    </tr>\n",
              "  </thead>\n",
              "  <tbody>\n",
              "    <tr>\n",
              "      <th>413</th>\n",
              "      <td>1305</td>\n",
              "      <td>0</td>\n",
              "    </tr>\n",
              "    <tr>\n",
              "      <th>414</th>\n",
              "      <td>1306</td>\n",
              "      <td>1</td>\n",
              "    </tr>\n",
              "    <tr>\n",
              "      <th>415</th>\n",
              "      <td>1307</td>\n",
              "      <td>0</td>\n",
              "    </tr>\n",
              "    <tr>\n",
              "      <th>416</th>\n",
              "      <td>1308</td>\n",
              "      <td>0</td>\n",
              "    </tr>\n",
              "    <tr>\n",
              "      <th>417</th>\n",
              "      <td>1309</td>\n",
              "      <td>0</td>\n",
              "    </tr>\n",
              "  </tbody>\n",
              "</table>\n",
              "</div>\n",
              "      <button class=\"colab-df-convert\" onclick=\"convertToInteractive('df-b3cf8eaa-518f-47b7-836c-23d28c758f38')\"\n",
              "              title=\"Convert this dataframe to an interactive table.\"\n",
              "              style=\"display:none;\">\n",
              "        \n",
              "  <svg xmlns=\"http://www.w3.org/2000/svg\" height=\"24px\"viewBox=\"0 0 24 24\"\n",
              "       width=\"24px\">\n",
              "    <path d=\"M0 0h24v24H0V0z\" fill=\"none\"/>\n",
              "    <path d=\"M18.56 5.44l.94 2.06.94-2.06 2.06-.94-2.06-.94-.94-2.06-.94 2.06-2.06.94zm-11 1L8.5 8.5l.94-2.06 2.06-.94-2.06-.94L8.5 2.5l-.94 2.06-2.06.94zm10 10l.94 2.06.94-2.06 2.06-.94-2.06-.94-.94-2.06-.94 2.06-2.06.94z\"/><path d=\"M17.41 7.96l-1.37-1.37c-.4-.4-.92-.59-1.43-.59-.52 0-1.04.2-1.43.59L10.3 9.45l-7.72 7.72c-.78.78-.78 2.05 0 2.83L4 21.41c.39.39.9.59 1.41.59.51 0 1.02-.2 1.41-.59l7.78-7.78 2.81-2.81c.8-.78.8-2.07 0-2.86zM5.41 20L4 18.59l7.72-7.72 1.47 1.35L5.41 20z\"/>\n",
              "  </svg>\n",
              "      </button>\n",
              "      \n",
              "  <style>\n",
              "    .colab-df-container {\n",
              "      display:flex;\n",
              "      flex-wrap:wrap;\n",
              "      gap: 12px;\n",
              "    }\n",
              "\n",
              "    .colab-df-convert {\n",
              "      background-color: #E8F0FE;\n",
              "      border: none;\n",
              "      border-radius: 50%;\n",
              "      cursor: pointer;\n",
              "      display: none;\n",
              "      fill: #1967D2;\n",
              "      height: 32px;\n",
              "      padding: 0 0 0 0;\n",
              "      width: 32px;\n",
              "    }\n",
              "\n",
              "    .colab-df-convert:hover {\n",
              "      background-color: #E2EBFA;\n",
              "      box-shadow: 0px 1px 2px rgba(60, 64, 67, 0.3), 0px 1px 3px 1px rgba(60, 64, 67, 0.15);\n",
              "      fill: #174EA6;\n",
              "    }\n",
              "\n",
              "    [theme=dark] .colab-df-convert {\n",
              "      background-color: #3B4455;\n",
              "      fill: #D2E3FC;\n",
              "    }\n",
              "\n",
              "    [theme=dark] .colab-df-convert:hover {\n",
              "      background-color: #434B5C;\n",
              "      box-shadow: 0px 1px 3px 1px rgba(0, 0, 0, 0.15);\n",
              "      filter: drop-shadow(0px 1px 2px rgba(0, 0, 0, 0.3));\n",
              "      fill: #FFFFFF;\n",
              "    }\n",
              "  </style>\n",
              "\n",
              "      <script>\n",
              "        const buttonEl =\n",
              "          document.querySelector('#df-b3cf8eaa-518f-47b7-836c-23d28c758f38 button.colab-df-convert');\n",
              "        buttonEl.style.display =\n",
              "          google.colab.kernel.accessAllowed ? 'block' : 'none';\n",
              "\n",
              "        async function convertToInteractive(key) {\n",
              "          const element = document.querySelector('#df-b3cf8eaa-518f-47b7-836c-23d28c758f38');\n",
              "          const dataTable =\n",
              "            await google.colab.kernel.invokeFunction('convertToInteractive',\n",
              "                                                     [key], {});\n",
              "          if (!dataTable) return;\n",
              "\n",
              "          const docLinkHtml = 'Like what you see? Visit the ' +\n",
              "            '<a target=\"_blank\" href=https://colab.research.google.com/notebooks/data_table.ipynb>data table notebook</a>'\n",
              "            + ' to learn more about interactive tables.';\n",
              "          element.innerHTML = '';\n",
              "          dataTable['output_type'] = 'display_data';\n",
              "          await google.colab.output.renderOutput(dataTable, element);\n",
              "          const docLink = document.createElement('div');\n",
              "          docLink.innerHTML = docLinkHtml;\n",
              "          element.appendChild(docLink);\n",
              "        }\n",
              "      </script>\n",
              "    </div>\n",
              "  </div>\n",
              "  "
            ]
          },
          "metadata": {},
          "execution_count": 655
        }
      ]
    },
    {
      "cell_type": "code",
      "source": [
        "from sklearn.model_selection import train_test_split as tts\n",
        "X,y = data.drop([\"Survived\"], axis = 1), data[\"Survived\"]"
      ],
      "metadata": {
        "id": "TQPDjTerHadk"
      },
      "execution_count": 656,
      "outputs": []
    },
    {
      "cell_type": "code",
      "source": [
        "X_train, X_test, y_train, y_test = tts(X,y, test_size = 0.25)"
      ],
      "metadata": {
        "id": "8QrObrFmH5yF"
      },
      "execution_count": 657,
      "outputs": []
    },
    {
      "cell_type": "code",
      "source": [
        "X_train.shape,X_test.shape, y_train.shape, y_test.shape"
      ],
      "metadata": {
        "colab": {
          "base_uri": "https://localhost:8080/"
        },
        "id": "F8MBflenIF_6",
        "outputId": "40c439b1-e1e7-40e1-f663-81c7808d7a50"
      },
      "execution_count": 658,
      "outputs": [
        {
          "output_type": "execute_result",
          "data": {
            "text/plain": [
              "((313, 1), (105, 1), (313,), (105,))"
            ]
          },
          "metadata": {},
          "execution_count": 658
        }
      ]
    },
    {
      "cell_type": "code",
      "source": [
        "from sklearn.linear_model import LogisticRegression\n",
        "log_reg = LogisticRegression()"
      ],
      "metadata": {
        "id": "s500hMqHIQP-"
      },
      "execution_count": 659,
      "outputs": []
    },
    {
      "cell_type": "code",
      "source": [
        "# Begin the Logistic Regression Training\n",
        "log_reg.fit(X_train, y_train)"
      ],
      "metadata": {
        "colab": {
          "base_uri": "https://localhost:8080/",
          "height": 75
        },
        "id": "NaHuwA3QIfvP",
        "outputId": "277fa9af-5dbc-4371-b313-3a90f57fe19e"
      },
      "execution_count": 660,
      "outputs": [
        {
          "output_type": "execute_result",
          "data": {
            "text/plain": [
              "LogisticRegression()"
            ],
            "text/html": [
              "<style>#sk-container-id-28 {color: black;background-color: white;}#sk-container-id-28 pre{padding: 0;}#sk-container-id-28 div.sk-toggleable {background-color: white;}#sk-container-id-28 label.sk-toggleable__label {cursor: pointer;display: block;width: 100%;margin-bottom: 0;padding: 0.3em;box-sizing: border-box;text-align: center;}#sk-container-id-28 label.sk-toggleable__label-arrow:before {content: \"▸\";float: left;margin-right: 0.25em;color: #696969;}#sk-container-id-28 label.sk-toggleable__label-arrow:hover:before {color: black;}#sk-container-id-28 div.sk-estimator:hover label.sk-toggleable__label-arrow:before {color: black;}#sk-container-id-28 div.sk-toggleable__content {max-height: 0;max-width: 0;overflow: hidden;text-align: left;background-color: #f0f8ff;}#sk-container-id-28 div.sk-toggleable__content pre {margin: 0.2em;color: black;border-radius: 0.25em;background-color: #f0f8ff;}#sk-container-id-28 input.sk-toggleable__control:checked~div.sk-toggleable__content {max-height: 200px;max-width: 100%;overflow: auto;}#sk-container-id-28 input.sk-toggleable__control:checked~label.sk-toggleable__label-arrow:before {content: \"▾\";}#sk-container-id-28 div.sk-estimator input.sk-toggleable__control:checked~label.sk-toggleable__label {background-color: #d4ebff;}#sk-container-id-28 div.sk-label input.sk-toggleable__control:checked~label.sk-toggleable__label {background-color: #d4ebff;}#sk-container-id-28 input.sk-hidden--visually {border: 0;clip: rect(1px 1px 1px 1px);clip: rect(1px, 1px, 1px, 1px);height: 1px;margin: -1px;overflow: hidden;padding: 0;position: absolute;width: 1px;}#sk-container-id-28 div.sk-estimator {font-family: monospace;background-color: #f0f8ff;border: 1px dotted black;border-radius: 0.25em;box-sizing: border-box;margin-bottom: 0.5em;}#sk-container-id-28 div.sk-estimator:hover {background-color: #d4ebff;}#sk-container-id-28 div.sk-parallel-item::after {content: \"\";width: 100%;border-bottom: 1px solid gray;flex-grow: 1;}#sk-container-id-28 div.sk-label:hover label.sk-toggleable__label {background-color: #d4ebff;}#sk-container-id-28 div.sk-serial::before {content: \"\";position: absolute;border-left: 1px solid gray;box-sizing: border-box;top: 0;bottom: 0;left: 50%;z-index: 0;}#sk-container-id-28 div.sk-serial {display: flex;flex-direction: column;align-items: center;background-color: white;padding-right: 0.2em;padding-left: 0.2em;position: relative;}#sk-container-id-28 div.sk-item {position: relative;z-index: 1;}#sk-container-id-28 div.sk-parallel {display: flex;align-items: stretch;justify-content: center;background-color: white;position: relative;}#sk-container-id-28 div.sk-item::before, #sk-container-id-28 div.sk-parallel-item::before {content: \"\";position: absolute;border-left: 1px solid gray;box-sizing: border-box;top: 0;bottom: 0;left: 50%;z-index: -1;}#sk-container-id-28 div.sk-parallel-item {display: flex;flex-direction: column;z-index: 1;position: relative;background-color: white;}#sk-container-id-28 div.sk-parallel-item:first-child::after {align-self: flex-end;width: 50%;}#sk-container-id-28 div.sk-parallel-item:last-child::after {align-self: flex-start;width: 50%;}#sk-container-id-28 div.sk-parallel-item:only-child::after {width: 0;}#sk-container-id-28 div.sk-dashed-wrapped {border: 1px dashed gray;margin: 0 0.4em 0.5em 0.4em;box-sizing: border-box;padding-bottom: 0.4em;background-color: white;}#sk-container-id-28 div.sk-label label {font-family: monospace;font-weight: bold;display: inline-block;line-height: 1.2em;}#sk-container-id-28 div.sk-label-container {text-align: center;}#sk-container-id-28 div.sk-container {/* jupyter's `normalize.less` sets `[hidden] { display: none; }` but bootstrap.min.css set `[hidden] { display: none !important; }` so we also need the `!important` here to be able to override the default hidden behavior on the sphinx rendered scikit-learn.org. See: https://github.com/scikit-learn/scikit-learn/issues/21755 */display: inline-block !important;position: relative;}#sk-container-id-28 div.sk-text-repr-fallback {display: none;}</style><div id=\"sk-container-id-28\" class=\"sk-top-container\"><div class=\"sk-text-repr-fallback\"><pre>LogisticRegression()</pre><b>In a Jupyter environment, please rerun this cell to show the HTML representation or trust the notebook. <br />On GitHub, the HTML representation is unable to render, please try loading this page with nbviewer.org.</b></div><div class=\"sk-container\" hidden><div class=\"sk-item\"><div class=\"sk-estimator sk-toggleable\"><input class=\"sk-toggleable__control sk-hidden--visually\" id=\"sk-estimator-id-52\" type=\"checkbox\" checked><label for=\"sk-estimator-id-52\" class=\"sk-toggleable__label sk-toggleable__label-arrow\">LogisticRegression</label><div class=\"sk-toggleable__content\"><pre>LogisticRegression()</pre></div></div></div></div></div>"
            ]
          },
          "metadata": {},
          "execution_count": 660
        }
      ]
    },
    {
      "cell_type": "code",
      "source": [
        "predictions_log_reg = log_reg.predict(X_test)"
      ],
      "metadata": {
        "id": "Xpb4y8z-IxUp"
      },
      "execution_count": 661,
      "outputs": []
    },
    {
      "cell_type": "code",
      "source": [
        "# Training the KNN Model\n",
        "from sklearn.neighbors import KNeighborsClassifier\n",
        "knn = KNeighborsClassifier()\n",
        "knn.fit(X_train, y_train)"
      ],
      "metadata": {
        "colab": {
          "base_uri": "https://localhost:8080/",
          "height": 75
        },
        "id": "L8mE9aZJI--8",
        "outputId": "36811b3d-c7c7-40a1-de5e-f8fe461c63ff"
      },
      "execution_count": 662,
      "outputs": [
        {
          "output_type": "execute_result",
          "data": {
            "text/plain": [
              "KNeighborsClassifier()"
            ],
            "text/html": [
              "<style>#sk-container-id-29 {color: black;background-color: white;}#sk-container-id-29 pre{padding: 0;}#sk-container-id-29 div.sk-toggleable {background-color: white;}#sk-container-id-29 label.sk-toggleable__label {cursor: pointer;display: block;width: 100%;margin-bottom: 0;padding: 0.3em;box-sizing: border-box;text-align: center;}#sk-container-id-29 label.sk-toggleable__label-arrow:before {content: \"▸\";float: left;margin-right: 0.25em;color: #696969;}#sk-container-id-29 label.sk-toggleable__label-arrow:hover:before {color: black;}#sk-container-id-29 div.sk-estimator:hover label.sk-toggleable__label-arrow:before {color: black;}#sk-container-id-29 div.sk-toggleable__content {max-height: 0;max-width: 0;overflow: hidden;text-align: left;background-color: #f0f8ff;}#sk-container-id-29 div.sk-toggleable__content pre {margin: 0.2em;color: black;border-radius: 0.25em;background-color: #f0f8ff;}#sk-container-id-29 input.sk-toggleable__control:checked~div.sk-toggleable__content {max-height: 200px;max-width: 100%;overflow: auto;}#sk-container-id-29 input.sk-toggleable__control:checked~label.sk-toggleable__label-arrow:before {content: \"▾\";}#sk-container-id-29 div.sk-estimator input.sk-toggleable__control:checked~label.sk-toggleable__label {background-color: #d4ebff;}#sk-container-id-29 div.sk-label input.sk-toggleable__control:checked~label.sk-toggleable__label {background-color: #d4ebff;}#sk-container-id-29 input.sk-hidden--visually {border: 0;clip: rect(1px 1px 1px 1px);clip: rect(1px, 1px, 1px, 1px);height: 1px;margin: -1px;overflow: hidden;padding: 0;position: absolute;width: 1px;}#sk-container-id-29 div.sk-estimator {font-family: monospace;background-color: #f0f8ff;border: 1px dotted black;border-radius: 0.25em;box-sizing: border-box;margin-bottom: 0.5em;}#sk-container-id-29 div.sk-estimator:hover {background-color: #d4ebff;}#sk-container-id-29 div.sk-parallel-item::after {content: \"\";width: 100%;border-bottom: 1px solid gray;flex-grow: 1;}#sk-container-id-29 div.sk-label:hover label.sk-toggleable__label {background-color: #d4ebff;}#sk-container-id-29 div.sk-serial::before {content: \"\";position: absolute;border-left: 1px solid gray;box-sizing: border-box;top: 0;bottom: 0;left: 50%;z-index: 0;}#sk-container-id-29 div.sk-serial {display: flex;flex-direction: column;align-items: center;background-color: white;padding-right: 0.2em;padding-left: 0.2em;position: relative;}#sk-container-id-29 div.sk-item {position: relative;z-index: 1;}#sk-container-id-29 div.sk-parallel {display: flex;align-items: stretch;justify-content: center;background-color: white;position: relative;}#sk-container-id-29 div.sk-item::before, #sk-container-id-29 div.sk-parallel-item::before {content: \"\";position: absolute;border-left: 1px solid gray;box-sizing: border-box;top: 0;bottom: 0;left: 50%;z-index: -1;}#sk-container-id-29 div.sk-parallel-item {display: flex;flex-direction: column;z-index: 1;position: relative;background-color: white;}#sk-container-id-29 div.sk-parallel-item:first-child::after {align-self: flex-end;width: 50%;}#sk-container-id-29 div.sk-parallel-item:last-child::after {align-self: flex-start;width: 50%;}#sk-container-id-29 div.sk-parallel-item:only-child::after {width: 0;}#sk-container-id-29 div.sk-dashed-wrapped {border: 1px dashed gray;margin: 0 0.4em 0.5em 0.4em;box-sizing: border-box;padding-bottom: 0.4em;background-color: white;}#sk-container-id-29 div.sk-label label {font-family: monospace;font-weight: bold;display: inline-block;line-height: 1.2em;}#sk-container-id-29 div.sk-label-container {text-align: center;}#sk-container-id-29 div.sk-container {/* jupyter's `normalize.less` sets `[hidden] { display: none; }` but bootstrap.min.css set `[hidden] { display: none !important; }` so we also need the `!important` here to be able to override the default hidden behavior on the sphinx rendered scikit-learn.org. See: https://github.com/scikit-learn/scikit-learn/issues/21755 */display: inline-block !important;position: relative;}#sk-container-id-29 div.sk-text-repr-fallback {display: none;}</style><div id=\"sk-container-id-29\" class=\"sk-top-container\"><div class=\"sk-text-repr-fallback\"><pre>KNeighborsClassifier()</pre><b>In a Jupyter environment, please rerun this cell to show the HTML representation or trust the notebook. <br />On GitHub, the HTML representation is unable to render, please try loading this page with nbviewer.org.</b></div><div class=\"sk-container\" hidden><div class=\"sk-item\"><div class=\"sk-estimator sk-toggleable\"><input class=\"sk-toggleable__control sk-hidden--visually\" id=\"sk-estimator-id-53\" type=\"checkbox\" checked><label for=\"sk-estimator-id-53\" class=\"sk-toggleable__label sk-toggleable__label-arrow\">KNeighborsClassifier</label><div class=\"sk-toggleable__content\"><pre>KNeighborsClassifier()</pre></div></div></div></div></div>"
            ]
          },
          "metadata": {},
          "execution_count": 662
        }
      ]
    },
    {
      "cell_type": "code",
      "source": [
        "predictions_knn = knn.predict(X_test)"
      ],
      "metadata": {
        "id": "mh1B67hiJ_ju"
      },
      "execution_count": 663,
      "outputs": []
    },
    {
      "cell_type": "code",
      "source": [
        "results_df = pd.DataFrame({\"Actual_Predictions\":y_test,\n",
        "                           \"log_reg_predictions\":predictions_log_reg,\n",
        "                           \"KNN_predictions\":predictions_knn})"
      ],
      "metadata": {
        "id": "ASS_v45nKFKZ"
      },
      "execution_count": 664,
      "outputs": []
    },
    {
      "cell_type": "code",
      "source": [
        "results_df"
      ],
      "metadata": {
        "colab": {
          "base_uri": "https://localhost:8080/",
          "height": 424
        },
        "id": "CSlcxBmkKXGo",
        "outputId": "85ace8d2-12d3-4a97-b749-6686ed7168f3"
      },
      "execution_count": 665,
      "outputs": [
        {
          "output_type": "execute_result",
          "data": {
            "text/plain": [
              "     Actual_Predictions  log_reg_predictions  KNN_predictions\n",
              "298                   0                    0                0\n",
              "210                   0                    0                0\n",
              "223                   0                    0                0\n",
              "301                   0                    0                0\n",
              "60                    0                    0                0\n",
              "..                  ...                  ...              ...\n",
              "363                   0                    0                1\n",
              "9                     0                    0                0\n",
              "359                   1                    0                0\n",
              "17                    0                    0                0\n",
              "188                   1                    0                0\n",
              "\n",
              "[105 rows x 3 columns]"
            ],
            "text/html": [
              "\n",
              "  <div id=\"df-db2aca42-82d3-4fa5-b70d-562074c113a4\">\n",
              "    <div class=\"colab-df-container\">\n",
              "      <div>\n",
              "<style scoped>\n",
              "    .dataframe tbody tr th:only-of-type {\n",
              "        vertical-align: middle;\n",
              "    }\n",
              "\n",
              "    .dataframe tbody tr th {\n",
              "        vertical-align: top;\n",
              "    }\n",
              "\n",
              "    .dataframe thead th {\n",
              "        text-align: right;\n",
              "    }\n",
              "</style>\n",
              "<table border=\"1\" class=\"dataframe\">\n",
              "  <thead>\n",
              "    <tr style=\"text-align: right;\">\n",
              "      <th></th>\n",
              "      <th>Actual_Predictions</th>\n",
              "      <th>log_reg_predictions</th>\n",
              "      <th>KNN_predictions</th>\n",
              "    </tr>\n",
              "  </thead>\n",
              "  <tbody>\n",
              "    <tr>\n",
              "      <th>298</th>\n",
              "      <td>0</td>\n",
              "      <td>0</td>\n",
              "      <td>0</td>\n",
              "    </tr>\n",
              "    <tr>\n",
              "      <th>210</th>\n",
              "      <td>0</td>\n",
              "      <td>0</td>\n",
              "      <td>0</td>\n",
              "    </tr>\n",
              "    <tr>\n",
              "      <th>223</th>\n",
              "      <td>0</td>\n",
              "      <td>0</td>\n",
              "      <td>0</td>\n",
              "    </tr>\n",
              "    <tr>\n",
              "      <th>301</th>\n",
              "      <td>0</td>\n",
              "      <td>0</td>\n",
              "      <td>0</td>\n",
              "    </tr>\n",
              "    <tr>\n",
              "      <th>60</th>\n",
              "      <td>0</td>\n",
              "      <td>0</td>\n",
              "      <td>0</td>\n",
              "    </tr>\n",
              "    <tr>\n",
              "      <th>...</th>\n",
              "      <td>...</td>\n",
              "      <td>...</td>\n",
              "      <td>...</td>\n",
              "    </tr>\n",
              "    <tr>\n",
              "      <th>363</th>\n",
              "      <td>0</td>\n",
              "      <td>0</td>\n",
              "      <td>1</td>\n",
              "    </tr>\n",
              "    <tr>\n",
              "      <th>9</th>\n",
              "      <td>0</td>\n",
              "      <td>0</td>\n",
              "      <td>0</td>\n",
              "    </tr>\n",
              "    <tr>\n",
              "      <th>359</th>\n",
              "      <td>1</td>\n",
              "      <td>0</td>\n",
              "      <td>0</td>\n",
              "    </tr>\n",
              "    <tr>\n",
              "      <th>17</th>\n",
              "      <td>0</td>\n",
              "      <td>0</td>\n",
              "      <td>0</td>\n",
              "    </tr>\n",
              "    <tr>\n",
              "      <th>188</th>\n",
              "      <td>1</td>\n",
              "      <td>0</td>\n",
              "      <td>0</td>\n",
              "    </tr>\n",
              "  </tbody>\n",
              "</table>\n",
              "<p>105 rows × 3 columns</p>\n",
              "</div>\n",
              "      <button class=\"colab-df-convert\" onclick=\"convertToInteractive('df-db2aca42-82d3-4fa5-b70d-562074c113a4')\"\n",
              "              title=\"Convert this dataframe to an interactive table.\"\n",
              "              style=\"display:none;\">\n",
              "        \n",
              "  <svg xmlns=\"http://www.w3.org/2000/svg\" height=\"24px\"viewBox=\"0 0 24 24\"\n",
              "       width=\"24px\">\n",
              "    <path d=\"M0 0h24v24H0V0z\" fill=\"none\"/>\n",
              "    <path d=\"M18.56 5.44l.94 2.06.94-2.06 2.06-.94-2.06-.94-.94-2.06-.94 2.06-2.06.94zm-11 1L8.5 8.5l.94-2.06 2.06-.94-2.06-.94L8.5 2.5l-.94 2.06-2.06.94zm10 10l.94 2.06.94-2.06 2.06-.94-2.06-.94-.94-2.06-.94 2.06-2.06.94z\"/><path d=\"M17.41 7.96l-1.37-1.37c-.4-.4-.92-.59-1.43-.59-.52 0-1.04.2-1.43.59L10.3 9.45l-7.72 7.72c-.78.78-.78 2.05 0 2.83L4 21.41c.39.39.9.59 1.41.59.51 0 1.02-.2 1.41-.59l7.78-7.78 2.81-2.81c.8-.78.8-2.07 0-2.86zM5.41 20L4 18.59l7.72-7.72 1.47 1.35L5.41 20z\"/>\n",
              "  </svg>\n",
              "      </button>\n",
              "      \n",
              "  <style>\n",
              "    .colab-df-container {\n",
              "      display:flex;\n",
              "      flex-wrap:wrap;\n",
              "      gap: 12px;\n",
              "    }\n",
              "\n",
              "    .colab-df-convert {\n",
              "      background-color: #E8F0FE;\n",
              "      border: none;\n",
              "      border-radius: 50%;\n",
              "      cursor: pointer;\n",
              "      display: none;\n",
              "      fill: #1967D2;\n",
              "      height: 32px;\n",
              "      padding: 0 0 0 0;\n",
              "      width: 32px;\n",
              "    }\n",
              "\n",
              "    .colab-df-convert:hover {\n",
              "      background-color: #E2EBFA;\n",
              "      box-shadow: 0px 1px 2px rgba(60, 64, 67, 0.3), 0px 1px 3px 1px rgba(60, 64, 67, 0.15);\n",
              "      fill: #174EA6;\n",
              "    }\n",
              "\n",
              "    [theme=dark] .colab-df-convert {\n",
              "      background-color: #3B4455;\n",
              "      fill: #D2E3FC;\n",
              "    }\n",
              "\n",
              "    [theme=dark] .colab-df-convert:hover {\n",
              "      background-color: #434B5C;\n",
              "      box-shadow: 0px 1px 3px 1px rgba(0, 0, 0, 0.15);\n",
              "      filter: drop-shadow(0px 1px 2px rgba(0, 0, 0, 0.3));\n",
              "      fill: #FFFFFF;\n",
              "    }\n",
              "  </style>\n",
              "\n",
              "      <script>\n",
              "        const buttonEl =\n",
              "          document.querySelector('#df-db2aca42-82d3-4fa5-b70d-562074c113a4 button.colab-df-convert');\n",
              "        buttonEl.style.display =\n",
              "          google.colab.kernel.accessAllowed ? 'block' : 'none';\n",
              "\n",
              "        async function convertToInteractive(key) {\n",
              "          const element = document.querySelector('#df-db2aca42-82d3-4fa5-b70d-562074c113a4');\n",
              "          const dataTable =\n",
              "            await google.colab.kernel.invokeFunction('convertToInteractive',\n",
              "                                                     [key], {});\n",
              "          if (!dataTable) return;\n",
              "\n",
              "          const docLinkHtml = 'Like what you see? Visit the ' +\n",
              "            '<a target=\"_blank\" href=https://colab.research.google.com/notebooks/data_table.ipynb>data table notebook</a>'\n",
              "            + ' to learn more about interactive tables.';\n",
              "          element.innerHTML = '';\n",
              "          dataTable['output_type'] = 'display_data';\n",
              "          await google.colab.output.renderOutput(dataTable, element);\n",
              "          const docLink = document.createElement('div');\n",
              "          docLink.innerHTML = docLinkHtml;\n",
              "          element.appendChild(docLink);\n",
              "        }\n",
              "      </script>\n",
              "    </div>\n",
              "  </div>\n",
              "  "
            ]
          },
          "metadata": {},
          "execution_count": 665
        }
      ]
    },
    {
      "cell_type": "code",
      "source": [
        "from sklearn.model_selection import GridSearchCV\n",
        "param_grid = {'penalty':[\"l1\", \"l2\", \"elasticnet\", None],\n",
        "              'dual':[True,False]}\n",
        "              "
      ],
      "metadata": {
        "id": "nmcIeAE1p9zO"
      },
      "execution_count": 666,
      "outputs": []
    },
    {
      "cell_type": "code",
      "source": [
        "grid_search = GridSearchCV"
      ],
      "metadata": {
        "id": "Wk-4TORhqeT2"
      },
      "execution_count": 667,
      "outputs": []
    },
    {
      "cell_type": "code",
      "source": [
        "from sklearn import svm, datasets\n",
        "from sklearn.model_selection import GridSearchCV\n",
        "iris = datasets.load_iris()\n",
        "parameters = {'kernel':('linear', 'rbf'), 'C':[1, 10]}\n",
        "svc = svm.SVC()\n",
        "clf = GridSearchCV(svc, parameters)\n",
        "clf.fit(iris.data, iris.target)\n",
        "\n"
      ],
      "metadata": {
        "colab": {
          "base_uri": "https://localhost:8080/",
          "height": 118
        },
        "id": "Ss3nU1U0qjzJ",
        "outputId": "40dfca17-1f1c-4b89-c245-db5c53e8078c"
      },
      "execution_count": 668,
      "outputs": [
        {
          "output_type": "execute_result",
          "data": {
            "text/plain": [
              "GridSearchCV(estimator=SVC(),\n",
              "             param_grid={'C': [1, 10], 'kernel': ('linear', 'rbf')})"
            ],
            "text/html": [
              "<style>#sk-container-id-30 {color: black;background-color: white;}#sk-container-id-30 pre{padding: 0;}#sk-container-id-30 div.sk-toggleable {background-color: white;}#sk-container-id-30 label.sk-toggleable__label {cursor: pointer;display: block;width: 100%;margin-bottom: 0;padding: 0.3em;box-sizing: border-box;text-align: center;}#sk-container-id-30 label.sk-toggleable__label-arrow:before {content: \"▸\";float: left;margin-right: 0.25em;color: #696969;}#sk-container-id-30 label.sk-toggleable__label-arrow:hover:before {color: black;}#sk-container-id-30 div.sk-estimator:hover label.sk-toggleable__label-arrow:before {color: black;}#sk-container-id-30 div.sk-toggleable__content {max-height: 0;max-width: 0;overflow: hidden;text-align: left;background-color: #f0f8ff;}#sk-container-id-30 div.sk-toggleable__content pre {margin: 0.2em;color: black;border-radius: 0.25em;background-color: #f0f8ff;}#sk-container-id-30 input.sk-toggleable__control:checked~div.sk-toggleable__content {max-height: 200px;max-width: 100%;overflow: auto;}#sk-container-id-30 input.sk-toggleable__control:checked~label.sk-toggleable__label-arrow:before {content: \"▾\";}#sk-container-id-30 div.sk-estimator input.sk-toggleable__control:checked~label.sk-toggleable__label {background-color: #d4ebff;}#sk-container-id-30 div.sk-label input.sk-toggleable__control:checked~label.sk-toggleable__label {background-color: #d4ebff;}#sk-container-id-30 input.sk-hidden--visually {border: 0;clip: rect(1px 1px 1px 1px);clip: rect(1px, 1px, 1px, 1px);height: 1px;margin: -1px;overflow: hidden;padding: 0;position: absolute;width: 1px;}#sk-container-id-30 div.sk-estimator {font-family: monospace;background-color: #f0f8ff;border: 1px dotted black;border-radius: 0.25em;box-sizing: border-box;margin-bottom: 0.5em;}#sk-container-id-30 div.sk-estimator:hover {background-color: #d4ebff;}#sk-container-id-30 div.sk-parallel-item::after {content: \"\";width: 100%;border-bottom: 1px solid gray;flex-grow: 1;}#sk-container-id-30 div.sk-label:hover label.sk-toggleable__label {background-color: #d4ebff;}#sk-container-id-30 div.sk-serial::before {content: \"\";position: absolute;border-left: 1px solid gray;box-sizing: border-box;top: 0;bottom: 0;left: 50%;z-index: 0;}#sk-container-id-30 div.sk-serial {display: flex;flex-direction: column;align-items: center;background-color: white;padding-right: 0.2em;padding-left: 0.2em;position: relative;}#sk-container-id-30 div.sk-item {position: relative;z-index: 1;}#sk-container-id-30 div.sk-parallel {display: flex;align-items: stretch;justify-content: center;background-color: white;position: relative;}#sk-container-id-30 div.sk-item::before, #sk-container-id-30 div.sk-parallel-item::before {content: \"\";position: absolute;border-left: 1px solid gray;box-sizing: border-box;top: 0;bottom: 0;left: 50%;z-index: -1;}#sk-container-id-30 div.sk-parallel-item {display: flex;flex-direction: column;z-index: 1;position: relative;background-color: white;}#sk-container-id-30 div.sk-parallel-item:first-child::after {align-self: flex-end;width: 50%;}#sk-container-id-30 div.sk-parallel-item:last-child::after {align-self: flex-start;width: 50%;}#sk-container-id-30 div.sk-parallel-item:only-child::after {width: 0;}#sk-container-id-30 div.sk-dashed-wrapped {border: 1px dashed gray;margin: 0 0.4em 0.5em 0.4em;box-sizing: border-box;padding-bottom: 0.4em;background-color: white;}#sk-container-id-30 div.sk-label label {font-family: monospace;font-weight: bold;display: inline-block;line-height: 1.2em;}#sk-container-id-30 div.sk-label-container {text-align: center;}#sk-container-id-30 div.sk-container {/* jupyter's `normalize.less` sets `[hidden] { display: none; }` but bootstrap.min.css set `[hidden] { display: none !important; }` so we also need the `!important` here to be able to override the default hidden behavior on the sphinx rendered scikit-learn.org. See: https://github.com/scikit-learn/scikit-learn/issues/21755 */display: inline-block !important;position: relative;}#sk-container-id-30 div.sk-text-repr-fallback {display: none;}</style><div id=\"sk-container-id-30\" class=\"sk-top-container\"><div class=\"sk-text-repr-fallback\"><pre>GridSearchCV(estimator=SVC(),\n",
              "             param_grid={&#x27;C&#x27;: [1, 10], &#x27;kernel&#x27;: (&#x27;linear&#x27;, &#x27;rbf&#x27;)})</pre><b>In a Jupyter environment, please rerun this cell to show the HTML representation or trust the notebook. <br />On GitHub, the HTML representation is unable to render, please try loading this page with nbviewer.org.</b></div><div class=\"sk-container\" hidden><div class=\"sk-item sk-dashed-wrapped\"><div class=\"sk-label-container\"><div class=\"sk-label sk-toggleable\"><input class=\"sk-toggleable__control sk-hidden--visually\" id=\"sk-estimator-id-54\" type=\"checkbox\" ><label for=\"sk-estimator-id-54\" class=\"sk-toggleable__label sk-toggleable__label-arrow\">GridSearchCV</label><div class=\"sk-toggleable__content\"><pre>GridSearchCV(estimator=SVC(),\n",
              "             param_grid={&#x27;C&#x27;: [1, 10], &#x27;kernel&#x27;: (&#x27;linear&#x27;, &#x27;rbf&#x27;)})</pre></div></div></div><div class=\"sk-parallel\"><div class=\"sk-parallel-item\"><div class=\"sk-item\"><div class=\"sk-label-container\"><div class=\"sk-label sk-toggleable\"><input class=\"sk-toggleable__control sk-hidden--visually\" id=\"sk-estimator-id-55\" type=\"checkbox\" ><label for=\"sk-estimator-id-55\" class=\"sk-toggleable__label sk-toggleable__label-arrow\">estimator: SVC</label><div class=\"sk-toggleable__content\"><pre>SVC()</pre></div></div></div><div class=\"sk-serial\"><div class=\"sk-item\"><div class=\"sk-estimator sk-toggleable\"><input class=\"sk-toggleable__control sk-hidden--visually\" id=\"sk-estimator-id-56\" type=\"checkbox\" ><label for=\"sk-estimator-id-56\" class=\"sk-toggleable__label sk-toggleable__label-arrow\">SVC</label><div class=\"sk-toggleable__content\"><pre>SVC()</pre></div></div></div></div></div></div></div></div></div></div>"
            ]
          },
          "metadata": {},
          "execution_count": 668
        }
      ]
    },
    {
      "cell_type": "code",
      "source": [
        "param_grid\n"
      ],
      "metadata": {
        "colab": {
          "base_uri": "https://localhost:8080/"
        },
        "id": "jKoqgugPwIY2",
        "outputId": "db148f7d-ea2b-4f30-c40c-4d7c08f29295"
      },
      "execution_count": 669,
      "outputs": [
        {
          "output_type": "execute_result",
          "data": {
            "text/plain": [
              "{'penalty': ['l1', 'l2', 'elasticnet', None], 'dual': [True, False]}"
            ]
          },
          "metadata": {},
          "execution_count": 669
        }
      ]
    },
    {
      "cell_type": "code",
      "source": [
        "grid_search"
      ],
      "metadata": {
        "colab": {
          "base_uri": "https://localhost:8080/"
        },
        "id": "OX5fTzgGwZi-",
        "outputId": "8e5b756e-603b-47f0-e75a-cf0f43d29ac2"
      },
      "execution_count": 670,
      "outputs": [
        {
          "output_type": "execute_result",
          "data": {
            "text/plain": [
              "sklearn.model_selection._search.GridSearchCV"
            ]
          },
          "metadata": {},
          "execution_count": 670
        }
      ]
    },
    {
      "cell_type": "code",
      "source": [
        "grid_search.fit"
      ],
      "metadata": {
        "colab": {
          "base_uri": "https://localhost:8080/"
        },
        "id": "NwkP7fp9xDYf",
        "outputId": "2c77ba51-35da-4f6c-e589-5796ed2ddbe3"
      },
      "execution_count": 671,
      "outputs": [
        {
          "output_type": "execute_result",
          "data": {
            "text/plain": [
              "<function sklearn.model_selection._search.BaseSearchCV.fit(self, X, y=None, *, groups=None, **fit_params)>"
            ]
          },
          "metadata": {},
          "execution_count": 671
        }
      ]
    },
    {
      "cell_type": "code",
      "source": [
        "print(clf.best_params_)"
      ],
      "metadata": {
        "colab": {
          "base_uri": "https://localhost:8080/"
        },
        "id": "Wlgt_HK1xN2_",
        "outputId": "a10c3113-0fee-4414-c947-593385eef6d1"
      },
      "execution_count": 672,
      "outputs": [
        {
          "output_type": "stream",
          "name": "stdout",
          "text": [
            "{'C': 1, 'kernel': 'linear'}\n"
          ]
        }
      ]
    },
    {
      "cell_type": "code",
      "source": [
        "forest_params = [{'max_depth': list(range(10,15)), 'max_features': list(range(0,14))}]\n",
        "\n",
        "clf.fit(X_train, y_train)"
      ],
      "metadata": {
        "colab": {
          "base_uri": "https://localhost:8080/",
          "height": 118
        },
        "id": "7grt7f9axZVp",
        "outputId": "f73be280-1c58-4d9c-8b5f-d9c0339fbcd1"
      },
      "execution_count": 673,
      "outputs": [
        {
          "output_type": "execute_result",
          "data": {
            "text/plain": [
              "GridSearchCV(estimator=SVC(),\n",
              "             param_grid={'C': [1, 10], 'kernel': ('linear', 'rbf')})"
            ],
            "text/html": [
              "<style>#sk-container-id-31 {color: black;background-color: white;}#sk-container-id-31 pre{padding: 0;}#sk-container-id-31 div.sk-toggleable {background-color: white;}#sk-container-id-31 label.sk-toggleable__label {cursor: pointer;display: block;width: 100%;margin-bottom: 0;padding: 0.3em;box-sizing: border-box;text-align: center;}#sk-container-id-31 label.sk-toggleable__label-arrow:before {content: \"▸\";float: left;margin-right: 0.25em;color: #696969;}#sk-container-id-31 label.sk-toggleable__label-arrow:hover:before {color: black;}#sk-container-id-31 div.sk-estimator:hover label.sk-toggleable__label-arrow:before {color: black;}#sk-container-id-31 div.sk-toggleable__content {max-height: 0;max-width: 0;overflow: hidden;text-align: left;background-color: #f0f8ff;}#sk-container-id-31 div.sk-toggleable__content pre {margin: 0.2em;color: black;border-radius: 0.25em;background-color: #f0f8ff;}#sk-container-id-31 input.sk-toggleable__control:checked~div.sk-toggleable__content {max-height: 200px;max-width: 100%;overflow: auto;}#sk-container-id-31 input.sk-toggleable__control:checked~label.sk-toggleable__label-arrow:before {content: \"▾\";}#sk-container-id-31 div.sk-estimator input.sk-toggleable__control:checked~label.sk-toggleable__label {background-color: #d4ebff;}#sk-container-id-31 div.sk-label input.sk-toggleable__control:checked~label.sk-toggleable__label {background-color: #d4ebff;}#sk-container-id-31 input.sk-hidden--visually {border: 0;clip: rect(1px 1px 1px 1px);clip: rect(1px, 1px, 1px, 1px);height: 1px;margin: -1px;overflow: hidden;padding: 0;position: absolute;width: 1px;}#sk-container-id-31 div.sk-estimator {font-family: monospace;background-color: #f0f8ff;border: 1px dotted black;border-radius: 0.25em;box-sizing: border-box;margin-bottom: 0.5em;}#sk-container-id-31 div.sk-estimator:hover {background-color: #d4ebff;}#sk-container-id-31 div.sk-parallel-item::after {content: \"\";width: 100%;border-bottom: 1px solid gray;flex-grow: 1;}#sk-container-id-31 div.sk-label:hover label.sk-toggleable__label {background-color: #d4ebff;}#sk-container-id-31 div.sk-serial::before {content: \"\";position: absolute;border-left: 1px solid gray;box-sizing: border-box;top: 0;bottom: 0;left: 50%;z-index: 0;}#sk-container-id-31 div.sk-serial {display: flex;flex-direction: column;align-items: center;background-color: white;padding-right: 0.2em;padding-left: 0.2em;position: relative;}#sk-container-id-31 div.sk-item {position: relative;z-index: 1;}#sk-container-id-31 div.sk-parallel {display: flex;align-items: stretch;justify-content: center;background-color: white;position: relative;}#sk-container-id-31 div.sk-item::before, #sk-container-id-31 div.sk-parallel-item::before {content: \"\";position: absolute;border-left: 1px solid gray;box-sizing: border-box;top: 0;bottom: 0;left: 50%;z-index: -1;}#sk-container-id-31 div.sk-parallel-item {display: flex;flex-direction: column;z-index: 1;position: relative;background-color: white;}#sk-container-id-31 div.sk-parallel-item:first-child::after {align-self: flex-end;width: 50%;}#sk-container-id-31 div.sk-parallel-item:last-child::after {align-self: flex-start;width: 50%;}#sk-container-id-31 div.sk-parallel-item:only-child::after {width: 0;}#sk-container-id-31 div.sk-dashed-wrapped {border: 1px dashed gray;margin: 0 0.4em 0.5em 0.4em;box-sizing: border-box;padding-bottom: 0.4em;background-color: white;}#sk-container-id-31 div.sk-label label {font-family: monospace;font-weight: bold;display: inline-block;line-height: 1.2em;}#sk-container-id-31 div.sk-label-container {text-align: center;}#sk-container-id-31 div.sk-container {/* jupyter's `normalize.less` sets `[hidden] { display: none; }` but bootstrap.min.css set `[hidden] { display: none !important; }` so we also need the `!important` here to be able to override the default hidden behavior on the sphinx rendered scikit-learn.org. See: https://github.com/scikit-learn/scikit-learn/issues/21755 */display: inline-block !important;position: relative;}#sk-container-id-31 div.sk-text-repr-fallback {display: none;}</style><div id=\"sk-container-id-31\" class=\"sk-top-container\"><div class=\"sk-text-repr-fallback\"><pre>GridSearchCV(estimator=SVC(),\n",
              "             param_grid={&#x27;C&#x27;: [1, 10], &#x27;kernel&#x27;: (&#x27;linear&#x27;, &#x27;rbf&#x27;)})</pre><b>In a Jupyter environment, please rerun this cell to show the HTML representation or trust the notebook. <br />On GitHub, the HTML representation is unable to render, please try loading this page with nbviewer.org.</b></div><div class=\"sk-container\" hidden><div class=\"sk-item sk-dashed-wrapped\"><div class=\"sk-label-container\"><div class=\"sk-label sk-toggleable\"><input class=\"sk-toggleable__control sk-hidden--visually\" id=\"sk-estimator-id-57\" type=\"checkbox\" ><label for=\"sk-estimator-id-57\" class=\"sk-toggleable__label sk-toggleable__label-arrow\">GridSearchCV</label><div class=\"sk-toggleable__content\"><pre>GridSearchCV(estimator=SVC(),\n",
              "             param_grid={&#x27;C&#x27;: [1, 10], &#x27;kernel&#x27;: (&#x27;linear&#x27;, &#x27;rbf&#x27;)})</pre></div></div></div><div class=\"sk-parallel\"><div class=\"sk-parallel-item\"><div class=\"sk-item\"><div class=\"sk-label-container\"><div class=\"sk-label sk-toggleable\"><input class=\"sk-toggleable__control sk-hidden--visually\" id=\"sk-estimator-id-58\" type=\"checkbox\" ><label for=\"sk-estimator-id-58\" class=\"sk-toggleable__label sk-toggleable__label-arrow\">estimator: SVC</label><div class=\"sk-toggleable__content\"><pre>SVC()</pre></div></div></div><div class=\"sk-serial\"><div class=\"sk-item\"><div class=\"sk-estimator sk-toggleable\"><input class=\"sk-toggleable__control sk-hidden--visually\" id=\"sk-estimator-id-59\" type=\"checkbox\" ><label for=\"sk-estimator-id-59\" class=\"sk-toggleable__label sk-toggleable__label-arrow\">SVC</label><div class=\"sk-toggleable__content\"><pre>SVC()</pre></div></div></div></div></div></div></div></div></div></div>"
            ]
          },
          "metadata": {},
          "execution_count": 673
        }
      ]
    },
    {
      "cell_type": "code",
      "source": [
        "best_model = LogisticRegression({'dual':False, 'penalty': '12'})"
      ],
      "metadata": {
        "id": "iyro4gbdy6EC"
      },
      "execution_count": 674,
      "outputs": []
    },
    {
      "cell_type": "code",
      "source": [
        "best_model.fit"
      ],
      "metadata": {
        "colab": {
          "base_uri": "https://localhost:8080/"
        },
        "id": "9-QY6fxOX0tQ",
        "outputId": "58995683-665f-4557-83fd-694f595afc4e"
      },
      "execution_count": 675,
      "outputs": [
        {
          "output_type": "execute_result",
          "data": {
            "text/plain": [
              "<bound method LogisticRegression.fit of LogisticRegression(penalty={'dual': False, 'penalty': '12'})>"
            ]
          },
          "metadata": {},
          "execution_count": 675
        }
      ]
    },
    {
      "cell_type": "markdown",
      "source": [
        "**Creating New Features**"
      ],
      "metadata": {
        "id": "ZJtOCZiGbbvA"
      }
    },
    {
      "cell_type": "code",
      "source": [
        "from sklearn import preprocessing\n",
        "data = load_iris()\n",
        "\n",
        "X_data = data.data\n",
        "target = data.target\n",
        "\n",
        "standard = preprocessing.scale(X_data)\n",
        "print(standard)"
      ],
      "metadata": {
        "colab": {
          "base_uri": "https://localhost:8080/"
        },
        "id": "_VOzI2c9SEH2",
        "outputId": "0dc2d382-1765-4f25-8ad8-4bf56f150563"
      },
      "execution_count": 676,
      "outputs": [
        {
          "output_type": "stream",
          "name": "stdout",
          "text": [
            "[[-9.00681170e-01  1.01900435e+00 -1.34022653e+00 -1.31544430e+00]\n",
            " [-1.14301691e+00 -1.31979479e-01 -1.34022653e+00 -1.31544430e+00]\n",
            " [-1.38535265e+00  3.28414053e-01 -1.39706395e+00 -1.31544430e+00]\n",
            " [-1.50652052e+00  9.82172869e-02 -1.28338910e+00 -1.31544430e+00]\n",
            " [-1.02184904e+00  1.24920112e+00 -1.34022653e+00 -1.31544430e+00]\n",
            " [-5.37177559e-01  1.93979142e+00 -1.16971425e+00 -1.05217993e+00]\n",
            " [-1.50652052e+00  7.88807586e-01 -1.34022653e+00 -1.18381211e+00]\n",
            " [-1.02184904e+00  7.88807586e-01 -1.28338910e+00 -1.31544430e+00]\n",
            " [-1.74885626e+00 -3.62176246e-01 -1.34022653e+00 -1.31544430e+00]\n",
            " [-1.14301691e+00  9.82172869e-02 -1.28338910e+00 -1.44707648e+00]\n",
            " [-5.37177559e-01  1.47939788e+00 -1.28338910e+00 -1.31544430e+00]\n",
            " [-1.26418478e+00  7.88807586e-01 -1.22655167e+00 -1.31544430e+00]\n",
            " [-1.26418478e+00 -1.31979479e-01 -1.34022653e+00 -1.44707648e+00]\n",
            " [-1.87002413e+00 -1.31979479e-01 -1.51073881e+00 -1.44707648e+00]\n",
            " [-5.25060772e-02  2.16998818e+00 -1.45390138e+00 -1.31544430e+00]\n",
            " [-1.73673948e-01  3.09077525e+00 -1.28338910e+00 -1.05217993e+00]\n",
            " [-5.37177559e-01  1.93979142e+00 -1.39706395e+00 -1.05217993e+00]\n",
            " [-9.00681170e-01  1.01900435e+00 -1.34022653e+00 -1.18381211e+00]\n",
            " [-1.73673948e-01  1.70959465e+00 -1.16971425e+00 -1.18381211e+00]\n",
            " [-9.00681170e-01  1.70959465e+00 -1.28338910e+00 -1.18381211e+00]\n",
            " [-5.37177559e-01  7.88807586e-01 -1.16971425e+00 -1.31544430e+00]\n",
            " [-9.00681170e-01  1.47939788e+00 -1.28338910e+00 -1.05217993e+00]\n",
            " [-1.50652052e+00  1.24920112e+00 -1.56757623e+00 -1.31544430e+00]\n",
            " [-9.00681170e-01  5.58610819e-01 -1.16971425e+00 -9.20547742e-01]\n",
            " [-1.26418478e+00  7.88807586e-01 -1.05603939e+00 -1.31544430e+00]\n",
            " [-1.02184904e+00 -1.31979479e-01 -1.22655167e+00 -1.31544430e+00]\n",
            " [-1.02184904e+00  7.88807586e-01 -1.22655167e+00 -1.05217993e+00]\n",
            " [-7.79513300e-01  1.01900435e+00 -1.28338910e+00 -1.31544430e+00]\n",
            " [-7.79513300e-01  7.88807586e-01 -1.34022653e+00 -1.31544430e+00]\n",
            " [-1.38535265e+00  3.28414053e-01 -1.22655167e+00 -1.31544430e+00]\n",
            " [-1.26418478e+00  9.82172869e-02 -1.22655167e+00 -1.31544430e+00]\n",
            " [-5.37177559e-01  7.88807586e-01 -1.28338910e+00 -1.05217993e+00]\n",
            " [-7.79513300e-01  2.40018495e+00 -1.28338910e+00 -1.44707648e+00]\n",
            " [-4.16009689e-01  2.63038172e+00 -1.34022653e+00 -1.31544430e+00]\n",
            " [-1.14301691e+00  9.82172869e-02 -1.28338910e+00 -1.31544430e+00]\n",
            " [-1.02184904e+00  3.28414053e-01 -1.45390138e+00 -1.31544430e+00]\n",
            " [-4.16009689e-01  1.01900435e+00 -1.39706395e+00 -1.31544430e+00]\n",
            " [-1.14301691e+00  1.24920112e+00 -1.34022653e+00 -1.44707648e+00]\n",
            " [-1.74885626e+00 -1.31979479e-01 -1.39706395e+00 -1.31544430e+00]\n",
            " [-9.00681170e-01  7.88807586e-01 -1.28338910e+00 -1.31544430e+00]\n",
            " [-1.02184904e+00  1.01900435e+00 -1.39706395e+00 -1.18381211e+00]\n",
            " [-1.62768839e+00 -1.74335684e+00 -1.39706395e+00 -1.18381211e+00]\n",
            " [-1.74885626e+00  3.28414053e-01 -1.39706395e+00 -1.31544430e+00]\n",
            " [-1.02184904e+00  1.01900435e+00 -1.22655167e+00 -7.88915558e-01]\n",
            " [-9.00681170e-01  1.70959465e+00 -1.05603939e+00 -1.05217993e+00]\n",
            " [-1.26418478e+00 -1.31979479e-01 -1.34022653e+00 -1.18381211e+00]\n",
            " [-9.00681170e-01  1.70959465e+00 -1.22655167e+00 -1.31544430e+00]\n",
            " [-1.50652052e+00  3.28414053e-01 -1.34022653e+00 -1.31544430e+00]\n",
            " [-6.58345429e-01  1.47939788e+00 -1.28338910e+00 -1.31544430e+00]\n",
            " [-1.02184904e+00  5.58610819e-01 -1.34022653e+00 -1.31544430e+00]\n",
            " [ 1.40150837e+00  3.28414053e-01  5.35408562e-01  2.64141916e-01]\n",
            " [ 6.74501145e-01  3.28414053e-01  4.21733708e-01  3.95774101e-01]\n",
            " [ 1.28034050e+00  9.82172869e-02  6.49083415e-01  3.95774101e-01]\n",
            " [-4.16009689e-01 -1.74335684e+00  1.37546573e-01  1.32509732e-01]\n",
            " [ 7.95669016e-01 -5.92373012e-01  4.78571135e-01  3.95774101e-01]\n",
            " [-1.73673948e-01 -5.92373012e-01  4.21733708e-01  1.32509732e-01]\n",
            " [ 5.53333275e-01  5.58610819e-01  5.35408562e-01  5.27406285e-01]\n",
            " [-1.14301691e+00 -1.51316008e+00 -2.60315415e-01 -2.62386821e-01]\n",
            " [ 9.16836886e-01 -3.62176246e-01  4.78571135e-01  1.32509732e-01]\n",
            " [-7.79513300e-01 -8.22569778e-01  8.07091462e-02  2.64141916e-01]\n",
            " [-1.02184904e+00 -2.43394714e+00 -1.46640561e-01 -2.62386821e-01]\n",
            " [ 6.86617933e-02 -1.31979479e-01  2.51221427e-01  3.95774101e-01]\n",
            " [ 1.89829664e-01 -1.97355361e+00  1.37546573e-01 -2.62386821e-01]\n",
            " [ 3.10997534e-01 -3.62176246e-01  5.35408562e-01  2.64141916e-01]\n",
            " [-2.94841818e-01 -3.62176246e-01 -8.98031345e-02  1.32509732e-01]\n",
            " [ 1.03800476e+00  9.82172869e-02  3.64896281e-01  2.64141916e-01]\n",
            " [-2.94841818e-01 -1.31979479e-01  4.21733708e-01  3.95774101e-01]\n",
            " [-5.25060772e-02 -8.22569778e-01  1.94384000e-01 -2.62386821e-01]\n",
            " [ 4.32165405e-01 -1.97355361e+00  4.21733708e-01  3.95774101e-01]\n",
            " [-2.94841818e-01 -1.28296331e+00  8.07091462e-02 -1.30754636e-01]\n",
            " [ 6.86617933e-02  3.28414053e-01  5.92245988e-01  7.90670654e-01]\n",
            " [ 3.10997534e-01 -5.92373012e-01  1.37546573e-01  1.32509732e-01]\n",
            " [ 5.53333275e-01 -1.28296331e+00  6.49083415e-01  3.95774101e-01]\n",
            " [ 3.10997534e-01 -5.92373012e-01  5.35408562e-01  8.77547895e-04]\n",
            " [ 6.74501145e-01 -3.62176246e-01  3.08058854e-01  1.32509732e-01]\n",
            " [ 9.16836886e-01 -1.31979479e-01  3.64896281e-01  2.64141916e-01]\n",
            " [ 1.15917263e+00 -5.92373012e-01  5.92245988e-01  2.64141916e-01]\n",
            " [ 1.03800476e+00 -1.31979479e-01  7.05920842e-01  6.59038469e-01]\n",
            " [ 1.89829664e-01 -3.62176246e-01  4.21733708e-01  3.95774101e-01]\n",
            " [-1.73673948e-01 -1.05276654e+00 -1.46640561e-01 -2.62386821e-01]\n",
            " [-4.16009689e-01 -1.51316008e+00  2.38717193e-02 -1.30754636e-01]\n",
            " [-4.16009689e-01 -1.51316008e+00 -3.29657076e-02 -2.62386821e-01]\n",
            " [-5.25060772e-02 -8.22569778e-01  8.07091462e-02  8.77547895e-04]\n",
            " [ 1.89829664e-01 -8.22569778e-01  7.62758269e-01  5.27406285e-01]\n",
            " [-5.37177559e-01 -1.31979479e-01  4.21733708e-01  3.95774101e-01]\n",
            " [ 1.89829664e-01  7.88807586e-01  4.21733708e-01  5.27406285e-01]\n",
            " [ 1.03800476e+00  9.82172869e-02  5.35408562e-01  3.95774101e-01]\n",
            " [ 5.53333275e-01 -1.74335684e+00  3.64896281e-01  1.32509732e-01]\n",
            " [-2.94841818e-01 -1.31979479e-01  1.94384000e-01  1.32509732e-01]\n",
            " [-4.16009689e-01 -1.28296331e+00  1.37546573e-01  1.32509732e-01]\n",
            " [-4.16009689e-01 -1.05276654e+00  3.64896281e-01  8.77547895e-04]\n",
            " [ 3.10997534e-01 -1.31979479e-01  4.78571135e-01  2.64141916e-01]\n",
            " [-5.25060772e-02 -1.05276654e+00  1.37546573e-01  8.77547895e-04]\n",
            " [-1.02184904e+00 -1.74335684e+00 -2.60315415e-01 -2.62386821e-01]\n",
            " [-2.94841818e-01 -8.22569778e-01  2.51221427e-01  1.32509732e-01]\n",
            " [-1.73673948e-01 -1.31979479e-01  2.51221427e-01  8.77547895e-04]\n",
            " [-1.73673948e-01 -3.62176246e-01  2.51221427e-01  1.32509732e-01]\n",
            " [ 4.32165405e-01 -3.62176246e-01  3.08058854e-01  1.32509732e-01]\n",
            " [-9.00681170e-01 -1.28296331e+00 -4.30827696e-01 -1.30754636e-01]\n",
            " [-1.73673948e-01 -5.92373012e-01  1.94384000e-01  1.32509732e-01]\n",
            " [ 5.53333275e-01  5.58610819e-01  1.27429511e+00  1.71209594e+00]\n",
            " [-5.25060772e-02 -8.22569778e-01  7.62758269e-01  9.22302838e-01]\n",
            " [ 1.52267624e+00 -1.31979479e-01  1.21745768e+00  1.18556721e+00]\n",
            " [ 5.53333275e-01 -3.62176246e-01  1.04694540e+00  7.90670654e-01]\n",
            " [ 7.95669016e-01 -1.31979479e-01  1.16062026e+00  1.31719939e+00]\n",
            " [ 2.12851559e+00 -1.31979479e-01  1.61531967e+00  1.18556721e+00]\n",
            " [-1.14301691e+00 -1.28296331e+00  4.21733708e-01  6.59038469e-01]\n",
            " [ 1.76501198e+00 -3.62176246e-01  1.44480739e+00  7.90670654e-01]\n",
            " [ 1.03800476e+00 -1.28296331e+00  1.16062026e+00  7.90670654e-01]\n",
            " [ 1.64384411e+00  1.24920112e+00  1.33113254e+00  1.71209594e+00]\n",
            " [ 7.95669016e-01  3.28414053e-01  7.62758269e-01  1.05393502e+00]\n",
            " [ 6.74501145e-01 -8.22569778e-01  8.76433123e-01  9.22302838e-01]\n",
            " [ 1.15917263e+00 -1.31979479e-01  9.90107977e-01  1.18556721e+00]\n",
            " [-1.73673948e-01 -1.28296331e+00  7.05920842e-01  1.05393502e+00]\n",
            " [-5.25060772e-02 -5.92373012e-01  7.62758269e-01  1.58046376e+00]\n",
            " [ 6.74501145e-01  3.28414053e-01  8.76433123e-01  1.44883158e+00]\n",
            " [ 7.95669016e-01 -1.31979479e-01  9.90107977e-01  7.90670654e-01]\n",
            " [ 2.24968346e+00  1.70959465e+00  1.67215710e+00  1.31719939e+00]\n",
            " [ 2.24968346e+00 -1.05276654e+00  1.78583195e+00  1.44883158e+00]\n",
            " [ 1.89829664e-01 -1.97355361e+00  7.05920842e-01  3.95774101e-01]\n",
            " [ 1.28034050e+00  3.28414053e-01  1.10378283e+00  1.44883158e+00]\n",
            " [-2.94841818e-01 -5.92373012e-01  6.49083415e-01  1.05393502e+00]\n",
            " [ 2.24968346e+00 -5.92373012e-01  1.67215710e+00  1.05393502e+00]\n",
            " [ 5.53333275e-01 -8.22569778e-01  6.49083415e-01  7.90670654e-01]\n",
            " [ 1.03800476e+00  5.58610819e-01  1.10378283e+00  1.18556721e+00]\n",
            " [ 1.64384411e+00  3.28414053e-01  1.27429511e+00  7.90670654e-01]\n",
            " [ 4.32165405e-01 -5.92373012e-01  5.92245988e-01  7.90670654e-01]\n",
            " [ 3.10997534e-01 -1.31979479e-01  6.49083415e-01  7.90670654e-01]\n",
            " [ 6.74501145e-01 -5.92373012e-01  1.04694540e+00  1.18556721e+00]\n",
            " [ 1.64384411e+00 -1.31979479e-01  1.16062026e+00  5.27406285e-01]\n",
            " [ 1.88617985e+00 -5.92373012e-01  1.33113254e+00  9.22302838e-01]\n",
            " [ 2.49201920e+00  1.70959465e+00  1.50164482e+00  1.05393502e+00]\n",
            " [ 6.74501145e-01 -5.92373012e-01  1.04694540e+00  1.31719939e+00]\n",
            " [ 5.53333275e-01 -5.92373012e-01  7.62758269e-01  3.95774101e-01]\n",
            " [ 3.10997534e-01 -1.05276654e+00  1.04694540e+00  2.64141916e-01]\n",
            " [ 2.24968346e+00 -1.31979479e-01  1.33113254e+00  1.44883158e+00]\n",
            " [ 5.53333275e-01  7.88807586e-01  1.04694540e+00  1.58046376e+00]\n",
            " [ 6.74501145e-01  9.82172869e-02  9.90107977e-01  7.90670654e-01]\n",
            " [ 1.89829664e-01 -1.31979479e-01  5.92245988e-01  7.90670654e-01]\n",
            " [ 1.28034050e+00  9.82172869e-02  9.33270550e-01  1.18556721e+00]\n",
            " [ 1.03800476e+00  9.82172869e-02  1.04694540e+00  1.58046376e+00]\n",
            " [ 1.28034050e+00  9.82172869e-02  7.62758269e-01  1.44883158e+00]\n",
            " [-5.25060772e-02 -8.22569778e-01  7.62758269e-01  9.22302838e-01]\n",
            " [ 1.15917263e+00  3.28414053e-01  1.21745768e+00  1.44883158e+00]\n",
            " [ 1.03800476e+00  5.58610819e-01  1.10378283e+00  1.71209594e+00]\n",
            " [ 1.03800476e+00 -1.31979479e-01  8.19595696e-01  1.44883158e+00]\n",
            " [ 5.53333275e-01 -1.28296331e+00  7.05920842e-01  9.22302838e-01]\n",
            " [ 7.95669016e-01 -1.31979479e-01  8.19595696e-01  1.05393502e+00]\n",
            " [ 4.32165405e-01  7.88807586e-01  9.33270550e-01  1.44883158e+00]\n",
            " [ 6.86617933e-02 -1.31979479e-01  7.62758269e-01  7.90670654e-01]]\n"
          ]
        }
      ]
    },
    {
      "cell_type": "code",
      "source": [
        "from sklearn.datasets import load_iris"
      ],
      "metadata": {
        "id": "NeySja_uOFI2"
      },
      "execution_count": 677,
      "outputs": []
    },
    {
      "cell_type": "code",
      "source": [
        "from sklearn.datasets import load_iris\n",
        "from sklearn.preprocessing import StandardScaler\n",
        "\n",
        "data = load_iris()\n",
        "scale = StandardScaler()\n",
        "\n",
        "X_data = data.data\n",
        "target = data.target\n",
        "\n",
        "scaled_data = scale.fit_transform(X_data)\n",
        "print(scaled_data)\n",
        "\n"
      ],
      "metadata": {
        "id": "db-GtTpyWcio",
        "colab": {
          "base_uri": "https://localhost:8080/"
        },
        "outputId": "b00df822-82d7-4b42-9177-de4923592412"
      },
      "execution_count": 678,
      "outputs": [
        {
          "output_type": "stream",
          "name": "stdout",
          "text": [
            "[[-9.00681170e-01  1.01900435e+00 -1.34022653e+00 -1.31544430e+00]\n",
            " [-1.14301691e+00 -1.31979479e-01 -1.34022653e+00 -1.31544430e+00]\n",
            " [-1.38535265e+00  3.28414053e-01 -1.39706395e+00 -1.31544430e+00]\n",
            " [-1.50652052e+00  9.82172869e-02 -1.28338910e+00 -1.31544430e+00]\n",
            " [-1.02184904e+00  1.24920112e+00 -1.34022653e+00 -1.31544430e+00]\n",
            " [-5.37177559e-01  1.93979142e+00 -1.16971425e+00 -1.05217993e+00]\n",
            " [-1.50652052e+00  7.88807586e-01 -1.34022653e+00 -1.18381211e+00]\n",
            " [-1.02184904e+00  7.88807586e-01 -1.28338910e+00 -1.31544430e+00]\n",
            " [-1.74885626e+00 -3.62176246e-01 -1.34022653e+00 -1.31544430e+00]\n",
            " [-1.14301691e+00  9.82172869e-02 -1.28338910e+00 -1.44707648e+00]\n",
            " [-5.37177559e-01  1.47939788e+00 -1.28338910e+00 -1.31544430e+00]\n",
            " [-1.26418478e+00  7.88807586e-01 -1.22655167e+00 -1.31544430e+00]\n",
            " [-1.26418478e+00 -1.31979479e-01 -1.34022653e+00 -1.44707648e+00]\n",
            " [-1.87002413e+00 -1.31979479e-01 -1.51073881e+00 -1.44707648e+00]\n",
            " [-5.25060772e-02  2.16998818e+00 -1.45390138e+00 -1.31544430e+00]\n",
            " [-1.73673948e-01  3.09077525e+00 -1.28338910e+00 -1.05217993e+00]\n",
            " [-5.37177559e-01  1.93979142e+00 -1.39706395e+00 -1.05217993e+00]\n",
            " [-9.00681170e-01  1.01900435e+00 -1.34022653e+00 -1.18381211e+00]\n",
            " [-1.73673948e-01  1.70959465e+00 -1.16971425e+00 -1.18381211e+00]\n",
            " [-9.00681170e-01  1.70959465e+00 -1.28338910e+00 -1.18381211e+00]\n",
            " [-5.37177559e-01  7.88807586e-01 -1.16971425e+00 -1.31544430e+00]\n",
            " [-9.00681170e-01  1.47939788e+00 -1.28338910e+00 -1.05217993e+00]\n",
            " [-1.50652052e+00  1.24920112e+00 -1.56757623e+00 -1.31544430e+00]\n",
            " [-9.00681170e-01  5.58610819e-01 -1.16971425e+00 -9.20547742e-01]\n",
            " [-1.26418478e+00  7.88807586e-01 -1.05603939e+00 -1.31544430e+00]\n",
            " [-1.02184904e+00 -1.31979479e-01 -1.22655167e+00 -1.31544430e+00]\n",
            " [-1.02184904e+00  7.88807586e-01 -1.22655167e+00 -1.05217993e+00]\n",
            " [-7.79513300e-01  1.01900435e+00 -1.28338910e+00 -1.31544430e+00]\n",
            " [-7.79513300e-01  7.88807586e-01 -1.34022653e+00 -1.31544430e+00]\n",
            " [-1.38535265e+00  3.28414053e-01 -1.22655167e+00 -1.31544430e+00]\n",
            " [-1.26418478e+00  9.82172869e-02 -1.22655167e+00 -1.31544430e+00]\n",
            " [-5.37177559e-01  7.88807586e-01 -1.28338910e+00 -1.05217993e+00]\n",
            " [-7.79513300e-01  2.40018495e+00 -1.28338910e+00 -1.44707648e+00]\n",
            " [-4.16009689e-01  2.63038172e+00 -1.34022653e+00 -1.31544430e+00]\n",
            " [-1.14301691e+00  9.82172869e-02 -1.28338910e+00 -1.31544430e+00]\n",
            " [-1.02184904e+00  3.28414053e-01 -1.45390138e+00 -1.31544430e+00]\n",
            " [-4.16009689e-01  1.01900435e+00 -1.39706395e+00 -1.31544430e+00]\n",
            " [-1.14301691e+00  1.24920112e+00 -1.34022653e+00 -1.44707648e+00]\n",
            " [-1.74885626e+00 -1.31979479e-01 -1.39706395e+00 -1.31544430e+00]\n",
            " [-9.00681170e-01  7.88807586e-01 -1.28338910e+00 -1.31544430e+00]\n",
            " [-1.02184904e+00  1.01900435e+00 -1.39706395e+00 -1.18381211e+00]\n",
            " [-1.62768839e+00 -1.74335684e+00 -1.39706395e+00 -1.18381211e+00]\n",
            " [-1.74885626e+00  3.28414053e-01 -1.39706395e+00 -1.31544430e+00]\n",
            " [-1.02184904e+00  1.01900435e+00 -1.22655167e+00 -7.88915558e-01]\n",
            " [-9.00681170e-01  1.70959465e+00 -1.05603939e+00 -1.05217993e+00]\n",
            " [-1.26418478e+00 -1.31979479e-01 -1.34022653e+00 -1.18381211e+00]\n",
            " [-9.00681170e-01  1.70959465e+00 -1.22655167e+00 -1.31544430e+00]\n",
            " [-1.50652052e+00  3.28414053e-01 -1.34022653e+00 -1.31544430e+00]\n",
            " [-6.58345429e-01  1.47939788e+00 -1.28338910e+00 -1.31544430e+00]\n",
            " [-1.02184904e+00  5.58610819e-01 -1.34022653e+00 -1.31544430e+00]\n",
            " [ 1.40150837e+00  3.28414053e-01  5.35408562e-01  2.64141916e-01]\n",
            " [ 6.74501145e-01  3.28414053e-01  4.21733708e-01  3.95774101e-01]\n",
            " [ 1.28034050e+00  9.82172869e-02  6.49083415e-01  3.95774101e-01]\n",
            " [-4.16009689e-01 -1.74335684e+00  1.37546573e-01  1.32509732e-01]\n",
            " [ 7.95669016e-01 -5.92373012e-01  4.78571135e-01  3.95774101e-01]\n",
            " [-1.73673948e-01 -5.92373012e-01  4.21733708e-01  1.32509732e-01]\n",
            " [ 5.53333275e-01  5.58610819e-01  5.35408562e-01  5.27406285e-01]\n",
            " [-1.14301691e+00 -1.51316008e+00 -2.60315415e-01 -2.62386821e-01]\n",
            " [ 9.16836886e-01 -3.62176246e-01  4.78571135e-01  1.32509732e-01]\n",
            " [-7.79513300e-01 -8.22569778e-01  8.07091462e-02  2.64141916e-01]\n",
            " [-1.02184904e+00 -2.43394714e+00 -1.46640561e-01 -2.62386821e-01]\n",
            " [ 6.86617933e-02 -1.31979479e-01  2.51221427e-01  3.95774101e-01]\n",
            " [ 1.89829664e-01 -1.97355361e+00  1.37546573e-01 -2.62386821e-01]\n",
            " [ 3.10997534e-01 -3.62176246e-01  5.35408562e-01  2.64141916e-01]\n",
            " [-2.94841818e-01 -3.62176246e-01 -8.98031345e-02  1.32509732e-01]\n",
            " [ 1.03800476e+00  9.82172869e-02  3.64896281e-01  2.64141916e-01]\n",
            " [-2.94841818e-01 -1.31979479e-01  4.21733708e-01  3.95774101e-01]\n",
            " [-5.25060772e-02 -8.22569778e-01  1.94384000e-01 -2.62386821e-01]\n",
            " [ 4.32165405e-01 -1.97355361e+00  4.21733708e-01  3.95774101e-01]\n",
            " [-2.94841818e-01 -1.28296331e+00  8.07091462e-02 -1.30754636e-01]\n",
            " [ 6.86617933e-02  3.28414053e-01  5.92245988e-01  7.90670654e-01]\n",
            " [ 3.10997534e-01 -5.92373012e-01  1.37546573e-01  1.32509732e-01]\n",
            " [ 5.53333275e-01 -1.28296331e+00  6.49083415e-01  3.95774101e-01]\n",
            " [ 3.10997534e-01 -5.92373012e-01  5.35408562e-01  8.77547895e-04]\n",
            " [ 6.74501145e-01 -3.62176246e-01  3.08058854e-01  1.32509732e-01]\n",
            " [ 9.16836886e-01 -1.31979479e-01  3.64896281e-01  2.64141916e-01]\n",
            " [ 1.15917263e+00 -5.92373012e-01  5.92245988e-01  2.64141916e-01]\n",
            " [ 1.03800476e+00 -1.31979479e-01  7.05920842e-01  6.59038469e-01]\n",
            " [ 1.89829664e-01 -3.62176246e-01  4.21733708e-01  3.95774101e-01]\n",
            " [-1.73673948e-01 -1.05276654e+00 -1.46640561e-01 -2.62386821e-01]\n",
            " [-4.16009689e-01 -1.51316008e+00  2.38717193e-02 -1.30754636e-01]\n",
            " [-4.16009689e-01 -1.51316008e+00 -3.29657076e-02 -2.62386821e-01]\n",
            " [-5.25060772e-02 -8.22569778e-01  8.07091462e-02  8.77547895e-04]\n",
            " [ 1.89829664e-01 -8.22569778e-01  7.62758269e-01  5.27406285e-01]\n",
            " [-5.37177559e-01 -1.31979479e-01  4.21733708e-01  3.95774101e-01]\n",
            " [ 1.89829664e-01  7.88807586e-01  4.21733708e-01  5.27406285e-01]\n",
            " [ 1.03800476e+00  9.82172869e-02  5.35408562e-01  3.95774101e-01]\n",
            " [ 5.53333275e-01 -1.74335684e+00  3.64896281e-01  1.32509732e-01]\n",
            " [-2.94841818e-01 -1.31979479e-01  1.94384000e-01  1.32509732e-01]\n",
            " [-4.16009689e-01 -1.28296331e+00  1.37546573e-01  1.32509732e-01]\n",
            " [-4.16009689e-01 -1.05276654e+00  3.64896281e-01  8.77547895e-04]\n",
            " [ 3.10997534e-01 -1.31979479e-01  4.78571135e-01  2.64141916e-01]\n",
            " [-5.25060772e-02 -1.05276654e+00  1.37546573e-01  8.77547895e-04]\n",
            " [-1.02184904e+00 -1.74335684e+00 -2.60315415e-01 -2.62386821e-01]\n",
            " [-2.94841818e-01 -8.22569778e-01  2.51221427e-01  1.32509732e-01]\n",
            " [-1.73673948e-01 -1.31979479e-01  2.51221427e-01  8.77547895e-04]\n",
            " [-1.73673948e-01 -3.62176246e-01  2.51221427e-01  1.32509732e-01]\n",
            " [ 4.32165405e-01 -3.62176246e-01  3.08058854e-01  1.32509732e-01]\n",
            " [-9.00681170e-01 -1.28296331e+00 -4.30827696e-01 -1.30754636e-01]\n",
            " [-1.73673948e-01 -5.92373012e-01  1.94384000e-01  1.32509732e-01]\n",
            " [ 5.53333275e-01  5.58610819e-01  1.27429511e+00  1.71209594e+00]\n",
            " [-5.25060772e-02 -8.22569778e-01  7.62758269e-01  9.22302838e-01]\n",
            " [ 1.52267624e+00 -1.31979479e-01  1.21745768e+00  1.18556721e+00]\n",
            " [ 5.53333275e-01 -3.62176246e-01  1.04694540e+00  7.90670654e-01]\n",
            " [ 7.95669016e-01 -1.31979479e-01  1.16062026e+00  1.31719939e+00]\n",
            " [ 2.12851559e+00 -1.31979479e-01  1.61531967e+00  1.18556721e+00]\n",
            " [-1.14301691e+00 -1.28296331e+00  4.21733708e-01  6.59038469e-01]\n",
            " [ 1.76501198e+00 -3.62176246e-01  1.44480739e+00  7.90670654e-01]\n",
            " [ 1.03800476e+00 -1.28296331e+00  1.16062026e+00  7.90670654e-01]\n",
            " [ 1.64384411e+00  1.24920112e+00  1.33113254e+00  1.71209594e+00]\n",
            " [ 7.95669016e-01  3.28414053e-01  7.62758269e-01  1.05393502e+00]\n",
            " [ 6.74501145e-01 -8.22569778e-01  8.76433123e-01  9.22302838e-01]\n",
            " [ 1.15917263e+00 -1.31979479e-01  9.90107977e-01  1.18556721e+00]\n",
            " [-1.73673948e-01 -1.28296331e+00  7.05920842e-01  1.05393502e+00]\n",
            " [-5.25060772e-02 -5.92373012e-01  7.62758269e-01  1.58046376e+00]\n",
            " [ 6.74501145e-01  3.28414053e-01  8.76433123e-01  1.44883158e+00]\n",
            " [ 7.95669016e-01 -1.31979479e-01  9.90107977e-01  7.90670654e-01]\n",
            " [ 2.24968346e+00  1.70959465e+00  1.67215710e+00  1.31719939e+00]\n",
            " [ 2.24968346e+00 -1.05276654e+00  1.78583195e+00  1.44883158e+00]\n",
            " [ 1.89829664e-01 -1.97355361e+00  7.05920842e-01  3.95774101e-01]\n",
            " [ 1.28034050e+00  3.28414053e-01  1.10378283e+00  1.44883158e+00]\n",
            " [-2.94841818e-01 -5.92373012e-01  6.49083415e-01  1.05393502e+00]\n",
            " [ 2.24968346e+00 -5.92373012e-01  1.67215710e+00  1.05393502e+00]\n",
            " [ 5.53333275e-01 -8.22569778e-01  6.49083415e-01  7.90670654e-01]\n",
            " [ 1.03800476e+00  5.58610819e-01  1.10378283e+00  1.18556721e+00]\n",
            " [ 1.64384411e+00  3.28414053e-01  1.27429511e+00  7.90670654e-01]\n",
            " [ 4.32165405e-01 -5.92373012e-01  5.92245988e-01  7.90670654e-01]\n",
            " [ 3.10997534e-01 -1.31979479e-01  6.49083415e-01  7.90670654e-01]\n",
            " [ 6.74501145e-01 -5.92373012e-01  1.04694540e+00  1.18556721e+00]\n",
            " [ 1.64384411e+00 -1.31979479e-01  1.16062026e+00  5.27406285e-01]\n",
            " [ 1.88617985e+00 -5.92373012e-01  1.33113254e+00  9.22302838e-01]\n",
            " [ 2.49201920e+00  1.70959465e+00  1.50164482e+00  1.05393502e+00]\n",
            " [ 6.74501145e-01 -5.92373012e-01  1.04694540e+00  1.31719939e+00]\n",
            " [ 5.53333275e-01 -5.92373012e-01  7.62758269e-01  3.95774101e-01]\n",
            " [ 3.10997534e-01 -1.05276654e+00  1.04694540e+00  2.64141916e-01]\n",
            " [ 2.24968346e+00 -1.31979479e-01  1.33113254e+00  1.44883158e+00]\n",
            " [ 5.53333275e-01  7.88807586e-01  1.04694540e+00  1.58046376e+00]\n",
            " [ 6.74501145e-01  9.82172869e-02  9.90107977e-01  7.90670654e-01]\n",
            " [ 1.89829664e-01 -1.31979479e-01  5.92245988e-01  7.90670654e-01]\n",
            " [ 1.28034050e+00  9.82172869e-02  9.33270550e-01  1.18556721e+00]\n",
            " [ 1.03800476e+00  9.82172869e-02  1.04694540e+00  1.58046376e+00]\n",
            " [ 1.28034050e+00  9.82172869e-02  7.62758269e-01  1.44883158e+00]\n",
            " [-5.25060772e-02 -8.22569778e-01  7.62758269e-01  9.22302838e-01]\n",
            " [ 1.15917263e+00  3.28414053e-01  1.21745768e+00  1.44883158e+00]\n",
            " [ 1.03800476e+00  5.58610819e-01  1.10378283e+00  1.71209594e+00]\n",
            " [ 1.03800476e+00 -1.31979479e-01  8.19595696e-01  1.44883158e+00]\n",
            " [ 5.53333275e-01 -1.28296331e+00  7.05920842e-01  9.22302838e-01]\n",
            " [ 7.95669016e-01 -1.31979479e-01  8.19595696e-01  1.05393502e+00]\n",
            " [ 4.32165405e-01  7.88807586e-01  9.33270550e-01  1.44883158e+00]\n",
            " [ 6.86617933e-02 -1.31979479e-01  7.62758269e-01  7.90670654e-01]]\n"
          ]
        }
      ]
    },
    {
      "cell_type": "code",
      "source": [
        "pd.DataFrame(scaled_data)"
      ],
      "metadata": {
        "id": "yh5oJ7PTXTUs",
        "colab": {
          "base_uri": "https://localhost:8080/",
          "height": 424
        },
        "outputId": "ed74ec78-bb3c-45fd-ce4b-e3a904684e80"
      },
      "execution_count": 679,
      "outputs": [
        {
          "output_type": "execute_result",
          "data": {
            "text/plain": [
              "            0         1         2         3\n",
              "0   -0.900681  1.019004 -1.340227 -1.315444\n",
              "1   -1.143017 -0.131979 -1.340227 -1.315444\n",
              "2   -1.385353  0.328414 -1.397064 -1.315444\n",
              "3   -1.506521  0.098217 -1.283389 -1.315444\n",
              "4   -1.021849  1.249201 -1.340227 -1.315444\n",
              "..        ...       ...       ...       ...\n",
              "145  1.038005 -0.131979  0.819596  1.448832\n",
              "146  0.553333 -1.282963  0.705921  0.922303\n",
              "147  0.795669 -0.131979  0.819596  1.053935\n",
              "148  0.432165  0.788808  0.933271  1.448832\n",
              "149  0.068662 -0.131979  0.762758  0.790671\n",
              "\n",
              "[150 rows x 4 columns]"
            ],
            "text/html": [
              "\n",
              "  <div id=\"df-c6b7a230-1b54-48f0-b5d0-9d3b12549f15\">\n",
              "    <div class=\"colab-df-container\">\n",
              "      <div>\n",
              "<style scoped>\n",
              "    .dataframe tbody tr th:only-of-type {\n",
              "        vertical-align: middle;\n",
              "    }\n",
              "\n",
              "    .dataframe tbody tr th {\n",
              "        vertical-align: top;\n",
              "    }\n",
              "\n",
              "    .dataframe thead th {\n",
              "        text-align: right;\n",
              "    }\n",
              "</style>\n",
              "<table border=\"1\" class=\"dataframe\">\n",
              "  <thead>\n",
              "    <tr style=\"text-align: right;\">\n",
              "      <th></th>\n",
              "      <th>0</th>\n",
              "      <th>1</th>\n",
              "      <th>2</th>\n",
              "      <th>3</th>\n",
              "    </tr>\n",
              "  </thead>\n",
              "  <tbody>\n",
              "    <tr>\n",
              "      <th>0</th>\n",
              "      <td>-0.900681</td>\n",
              "      <td>1.019004</td>\n",
              "      <td>-1.340227</td>\n",
              "      <td>-1.315444</td>\n",
              "    </tr>\n",
              "    <tr>\n",
              "      <th>1</th>\n",
              "      <td>-1.143017</td>\n",
              "      <td>-0.131979</td>\n",
              "      <td>-1.340227</td>\n",
              "      <td>-1.315444</td>\n",
              "    </tr>\n",
              "    <tr>\n",
              "      <th>2</th>\n",
              "      <td>-1.385353</td>\n",
              "      <td>0.328414</td>\n",
              "      <td>-1.397064</td>\n",
              "      <td>-1.315444</td>\n",
              "    </tr>\n",
              "    <tr>\n",
              "      <th>3</th>\n",
              "      <td>-1.506521</td>\n",
              "      <td>0.098217</td>\n",
              "      <td>-1.283389</td>\n",
              "      <td>-1.315444</td>\n",
              "    </tr>\n",
              "    <tr>\n",
              "      <th>4</th>\n",
              "      <td>-1.021849</td>\n",
              "      <td>1.249201</td>\n",
              "      <td>-1.340227</td>\n",
              "      <td>-1.315444</td>\n",
              "    </tr>\n",
              "    <tr>\n",
              "      <th>...</th>\n",
              "      <td>...</td>\n",
              "      <td>...</td>\n",
              "      <td>...</td>\n",
              "      <td>...</td>\n",
              "    </tr>\n",
              "    <tr>\n",
              "      <th>145</th>\n",
              "      <td>1.038005</td>\n",
              "      <td>-0.131979</td>\n",
              "      <td>0.819596</td>\n",
              "      <td>1.448832</td>\n",
              "    </tr>\n",
              "    <tr>\n",
              "      <th>146</th>\n",
              "      <td>0.553333</td>\n",
              "      <td>-1.282963</td>\n",
              "      <td>0.705921</td>\n",
              "      <td>0.922303</td>\n",
              "    </tr>\n",
              "    <tr>\n",
              "      <th>147</th>\n",
              "      <td>0.795669</td>\n",
              "      <td>-0.131979</td>\n",
              "      <td>0.819596</td>\n",
              "      <td>1.053935</td>\n",
              "    </tr>\n",
              "    <tr>\n",
              "      <th>148</th>\n",
              "      <td>0.432165</td>\n",
              "      <td>0.788808</td>\n",
              "      <td>0.933271</td>\n",
              "      <td>1.448832</td>\n",
              "    </tr>\n",
              "    <tr>\n",
              "      <th>149</th>\n",
              "      <td>0.068662</td>\n",
              "      <td>-0.131979</td>\n",
              "      <td>0.762758</td>\n",
              "      <td>0.790671</td>\n",
              "    </tr>\n",
              "  </tbody>\n",
              "</table>\n",
              "<p>150 rows × 4 columns</p>\n",
              "</div>\n",
              "      <button class=\"colab-df-convert\" onclick=\"convertToInteractive('df-c6b7a230-1b54-48f0-b5d0-9d3b12549f15')\"\n",
              "              title=\"Convert this dataframe to an interactive table.\"\n",
              "              style=\"display:none;\">\n",
              "        \n",
              "  <svg xmlns=\"http://www.w3.org/2000/svg\" height=\"24px\"viewBox=\"0 0 24 24\"\n",
              "       width=\"24px\">\n",
              "    <path d=\"M0 0h24v24H0V0z\" fill=\"none\"/>\n",
              "    <path d=\"M18.56 5.44l.94 2.06.94-2.06 2.06-.94-2.06-.94-.94-2.06-.94 2.06-2.06.94zm-11 1L8.5 8.5l.94-2.06 2.06-.94-2.06-.94L8.5 2.5l-.94 2.06-2.06.94zm10 10l.94 2.06.94-2.06 2.06-.94-2.06-.94-.94-2.06-.94 2.06-2.06.94z\"/><path d=\"M17.41 7.96l-1.37-1.37c-.4-.4-.92-.59-1.43-.59-.52 0-1.04.2-1.43.59L10.3 9.45l-7.72 7.72c-.78.78-.78 2.05 0 2.83L4 21.41c.39.39.9.59 1.41.59.51 0 1.02-.2 1.41-.59l7.78-7.78 2.81-2.81c.8-.78.8-2.07 0-2.86zM5.41 20L4 18.59l7.72-7.72 1.47 1.35L5.41 20z\"/>\n",
              "  </svg>\n",
              "      </button>\n",
              "      \n",
              "  <style>\n",
              "    .colab-df-container {\n",
              "      display:flex;\n",
              "      flex-wrap:wrap;\n",
              "      gap: 12px;\n",
              "    }\n",
              "\n",
              "    .colab-df-convert {\n",
              "      background-color: #E8F0FE;\n",
              "      border: none;\n",
              "      border-radius: 50%;\n",
              "      cursor: pointer;\n",
              "      display: none;\n",
              "      fill: #1967D2;\n",
              "      height: 32px;\n",
              "      padding: 0 0 0 0;\n",
              "      width: 32px;\n",
              "    }\n",
              "\n",
              "    .colab-df-convert:hover {\n",
              "      background-color: #E2EBFA;\n",
              "      box-shadow: 0px 1px 2px rgba(60, 64, 67, 0.3), 0px 1px 3px 1px rgba(60, 64, 67, 0.15);\n",
              "      fill: #174EA6;\n",
              "    }\n",
              "\n",
              "    [theme=dark] .colab-df-convert {\n",
              "      background-color: #3B4455;\n",
              "      fill: #D2E3FC;\n",
              "    }\n",
              "\n",
              "    [theme=dark] .colab-df-convert:hover {\n",
              "      background-color: #434B5C;\n",
              "      box-shadow: 0px 1px 3px 1px rgba(0, 0, 0, 0.15);\n",
              "      filter: drop-shadow(0px 1px 2px rgba(0, 0, 0, 0.3));\n",
              "      fill: #FFFFFF;\n",
              "    }\n",
              "  </style>\n",
              "\n",
              "      <script>\n",
              "        const buttonEl =\n",
              "          document.querySelector('#df-c6b7a230-1b54-48f0-b5d0-9d3b12549f15 button.colab-df-convert');\n",
              "        buttonEl.style.display =\n",
              "          google.colab.kernel.accessAllowed ? 'block' : 'none';\n",
              "\n",
              "        async function convertToInteractive(key) {\n",
              "          const element = document.querySelector('#df-c6b7a230-1b54-48f0-b5d0-9d3b12549f15');\n",
              "          const dataTable =\n",
              "            await google.colab.kernel.invokeFunction('convertToInteractive',\n",
              "                                                     [key], {});\n",
              "          if (!dataTable) return;\n",
              "\n",
              "          const docLinkHtml = 'Like what you see? Visit the ' +\n",
              "            '<a target=\"_blank\" href=https://colab.research.google.com/notebooks/data_table.ipynb>data table notebook</a>'\n",
              "            + ' to learn more about interactive tables.';\n",
              "          element.innerHTML = '';\n",
              "          dataTable['output_type'] = 'display_data';\n",
              "          await google.colab.output.renderOutput(dataTable, element);\n",
              "          const docLink = document.createElement('div');\n",
              "          docLink.innerHTML = docLinkHtml;\n",
              "          element.appendChild(docLink);\n",
              "        }\n",
              "      </script>\n",
              "    </div>\n",
              "  </div>\n",
              "  "
            ]
          },
          "metadata": {},
          "execution_count": 679
        }
      ]
    },
    {
      "cell_type": "code",
      "source": [
        "scaled_data"
      ],
      "metadata": {
        "colab": {
          "base_uri": "https://localhost:8080/"
        },
        "id": "e73EcEhoZHDd",
        "outputId": "fbf2ae58-4c28-4ade-c978-0c602a1e3059"
      },
      "execution_count": 680,
      "outputs": [
        {
          "output_type": "execute_result",
          "data": {
            "text/plain": [
              "array([[-9.00681170e-01,  1.01900435e+00, -1.34022653e+00,\n",
              "        -1.31544430e+00],\n",
              "       [-1.14301691e+00, -1.31979479e-01, -1.34022653e+00,\n",
              "        -1.31544430e+00],\n",
              "       [-1.38535265e+00,  3.28414053e-01, -1.39706395e+00,\n",
              "        -1.31544430e+00],\n",
              "       [-1.50652052e+00,  9.82172869e-02, -1.28338910e+00,\n",
              "        -1.31544430e+00],\n",
              "       [-1.02184904e+00,  1.24920112e+00, -1.34022653e+00,\n",
              "        -1.31544430e+00],\n",
              "       [-5.37177559e-01,  1.93979142e+00, -1.16971425e+00,\n",
              "        -1.05217993e+00],\n",
              "       [-1.50652052e+00,  7.88807586e-01, -1.34022653e+00,\n",
              "        -1.18381211e+00],\n",
              "       [-1.02184904e+00,  7.88807586e-01, -1.28338910e+00,\n",
              "        -1.31544430e+00],\n",
              "       [-1.74885626e+00, -3.62176246e-01, -1.34022653e+00,\n",
              "        -1.31544430e+00],\n",
              "       [-1.14301691e+00,  9.82172869e-02, -1.28338910e+00,\n",
              "        -1.44707648e+00],\n",
              "       [-5.37177559e-01,  1.47939788e+00, -1.28338910e+00,\n",
              "        -1.31544430e+00],\n",
              "       [-1.26418478e+00,  7.88807586e-01, -1.22655167e+00,\n",
              "        -1.31544430e+00],\n",
              "       [-1.26418478e+00, -1.31979479e-01, -1.34022653e+00,\n",
              "        -1.44707648e+00],\n",
              "       [-1.87002413e+00, -1.31979479e-01, -1.51073881e+00,\n",
              "        -1.44707648e+00],\n",
              "       [-5.25060772e-02,  2.16998818e+00, -1.45390138e+00,\n",
              "        -1.31544430e+00],\n",
              "       [-1.73673948e-01,  3.09077525e+00, -1.28338910e+00,\n",
              "        -1.05217993e+00],\n",
              "       [-5.37177559e-01,  1.93979142e+00, -1.39706395e+00,\n",
              "        -1.05217993e+00],\n",
              "       [-9.00681170e-01,  1.01900435e+00, -1.34022653e+00,\n",
              "        -1.18381211e+00],\n",
              "       [-1.73673948e-01,  1.70959465e+00, -1.16971425e+00,\n",
              "        -1.18381211e+00],\n",
              "       [-9.00681170e-01,  1.70959465e+00, -1.28338910e+00,\n",
              "        -1.18381211e+00],\n",
              "       [-5.37177559e-01,  7.88807586e-01, -1.16971425e+00,\n",
              "        -1.31544430e+00],\n",
              "       [-9.00681170e-01,  1.47939788e+00, -1.28338910e+00,\n",
              "        -1.05217993e+00],\n",
              "       [-1.50652052e+00,  1.24920112e+00, -1.56757623e+00,\n",
              "        -1.31544430e+00],\n",
              "       [-9.00681170e-01,  5.58610819e-01, -1.16971425e+00,\n",
              "        -9.20547742e-01],\n",
              "       [-1.26418478e+00,  7.88807586e-01, -1.05603939e+00,\n",
              "        -1.31544430e+00],\n",
              "       [-1.02184904e+00, -1.31979479e-01, -1.22655167e+00,\n",
              "        -1.31544430e+00],\n",
              "       [-1.02184904e+00,  7.88807586e-01, -1.22655167e+00,\n",
              "        -1.05217993e+00],\n",
              "       [-7.79513300e-01,  1.01900435e+00, -1.28338910e+00,\n",
              "        -1.31544430e+00],\n",
              "       [-7.79513300e-01,  7.88807586e-01, -1.34022653e+00,\n",
              "        -1.31544430e+00],\n",
              "       [-1.38535265e+00,  3.28414053e-01, -1.22655167e+00,\n",
              "        -1.31544430e+00],\n",
              "       [-1.26418478e+00,  9.82172869e-02, -1.22655167e+00,\n",
              "        -1.31544430e+00],\n",
              "       [-5.37177559e-01,  7.88807586e-01, -1.28338910e+00,\n",
              "        -1.05217993e+00],\n",
              "       [-7.79513300e-01,  2.40018495e+00, -1.28338910e+00,\n",
              "        -1.44707648e+00],\n",
              "       [-4.16009689e-01,  2.63038172e+00, -1.34022653e+00,\n",
              "        -1.31544430e+00],\n",
              "       [-1.14301691e+00,  9.82172869e-02, -1.28338910e+00,\n",
              "        -1.31544430e+00],\n",
              "       [-1.02184904e+00,  3.28414053e-01, -1.45390138e+00,\n",
              "        -1.31544430e+00],\n",
              "       [-4.16009689e-01,  1.01900435e+00, -1.39706395e+00,\n",
              "        -1.31544430e+00],\n",
              "       [-1.14301691e+00,  1.24920112e+00, -1.34022653e+00,\n",
              "        -1.44707648e+00],\n",
              "       [-1.74885626e+00, -1.31979479e-01, -1.39706395e+00,\n",
              "        -1.31544430e+00],\n",
              "       [-9.00681170e-01,  7.88807586e-01, -1.28338910e+00,\n",
              "        -1.31544430e+00],\n",
              "       [-1.02184904e+00,  1.01900435e+00, -1.39706395e+00,\n",
              "        -1.18381211e+00],\n",
              "       [-1.62768839e+00, -1.74335684e+00, -1.39706395e+00,\n",
              "        -1.18381211e+00],\n",
              "       [-1.74885626e+00,  3.28414053e-01, -1.39706395e+00,\n",
              "        -1.31544430e+00],\n",
              "       [-1.02184904e+00,  1.01900435e+00, -1.22655167e+00,\n",
              "        -7.88915558e-01],\n",
              "       [-9.00681170e-01,  1.70959465e+00, -1.05603939e+00,\n",
              "        -1.05217993e+00],\n",
              "       [-1.26418478e+00, -1.31979479e-01, -1.34022653e+00,\n",
              "        -1.18381211e+00],\n",
              "       [-9.00681170e-01,  1.70959465e+00, -1.22655167e+00,\n",
              "        -1.31544430e+00],\n",
              "       [-1.50652052e+00,  3.28414053e-01, -1.34022653e+00,\n",
              "        -1.31544430e+00],\n",
              "       [-6.58345429e-01,  1.47939788e+00, -1.28338910e+00,\n",
              "        -1.31544430e+00],\n",
              "       [-1.02184904e+00,  5.58610819e-01, -1.34022653e+00,\n",
              "        -1.31544430e+00],\n",
              "       [ 1.40150837e+00,  3.28414053e-01,  5.35408562e-01,\n",
              "         2.64141916e-01],\n",
              "       [ 6.74501145e-01,  3.28414053e-01,  4.21733708e-01,\n",
              "         3.95774101e-01],\n",
              "       [ 1.28034050e+00,  9.82172869e-02,  6.49083415e-01,\n",
              "         3.95774101e-01],\n",
              "       [-4.16009689e-01, -1.74335684e+00,  1.37546573e-01,\n",
              "         1.32509732e-01],\n",
              "       [ 7.95669016e-01, -5.92373012e-01,  4.78571135e-01,\n",
              "         3.95774101e-01],\n",
              "       [-1.73673948e-01, -5.92373012e-01,  4.21733708e-01,\n",
              "         1.32509732e-01],\n",
              "       [ 5.53333275e-01,  5.58610819e-01,  5.35408562e-01,\n",
              "         5.27406285e-01],\n",
              "       [-1.14301691e+00, -1.51316008e+00, -2.60315415e-01,\n",
              "        -2.62386821e-01],\n",
              "       [ 9.16836886e-01, -3.62176246e-01,  4.78571135e-01,\n",
              "         1.32509732e-01],\n",
              "       [-7.79513300e-01, -8.22569778e-01,  8.07091462e-02,\n",
              "         2.64141916e-01],\n",
              "       [-1.02184904e+00, -2.43394714e+00, -1.46640561e-01,\n",
              "        -2.62386821e-01],\n",
              "       [ 6.86617933e-02, -1.31979479e-01,  2.51221427e-01,\n",
              "         3.95774101e-01],\n",
              "       [ 1.89829664e-01, -1.97355361e+00,  1.37546573e-01,\n",
              "        -2.62386821e-01],\n",
              "       [ 3.10997534e-01, -3.62176246e-01,  5.35408562e-01,\n",
              "         2.64141916e-01],\n",
              "       [-2.94841818e-01, -3.62176246e-01, -8.98031345e-02,\n",
              "         1.32509732e-01],\n",
              "       [ 1.03800476e+00,  9.82172869e-02,  3.64896281e-01,\n",
              "         2.64141916e-01],\n",
              "       [-2.94841818e-01, -1.31979479e-01,  4.21733708e-01,\n",
              "         3.95774101e-01],\n",
              "       [-5.25060772e-02, -8.22569778e-01,  1.94384000e-01,\n",
              "        -2.62386821e-01],\n",
              "       [ 4.32165405e-01, -1.97355361e+00,  4.21733708e-01,\n",
              "         3.95774101e-01],\n",
              "       [-2.94841818e-01, -1.28296331e+00,  8.07091462e-02,\n",
              "        -1.30754636e-01],\n",
              "       [ 6.86617933e-02,  3.28414053e-01,  5.92245988e-01,\n",
              "         7.90670654e-01],\n",
              "       [ 3.10997534e-01, -5.92373012e-01,  1.37546573e-01,\n",
              "         1.32509732e-01],\n",
              "       [ 5.53333275e-01, -1.28296331e+00,  6.49083415e-01,\n",
              "         3.95774101e-01],\n",
              "       [ 3.10997534e-01, -5.92373012e-01,  5.35408562e-01,\n",
              "         8.77547895e-04],\n",
              "       [ 6.74501145e-01, -3.62176246e-01,  3.08058854e-01,\n",
              "         1.32509732e-01],\n",
              "       [ 9.16836886e-01, -1.31979479e-01,  3.64896281e-01,\n",
              "         2.64141916e-01],\n",
              "       [ 1.15917263e+00, -5.92373012e-01,  5.92245988e-01,\n",
              "         2.64141916e-01],\n",
              "       [ 1.03800476e+00, -1.31979479e-01,  7.05920842e-01,\n",
              "         6.59038469e-01],\n",
              "       [ 1.89829664e-01, -3.62176246e-01,  4.21733708e-01,\n",
              "         3.95774101e-01],\n",
              "       [-1.73673948e-01, -1.05276654e+00, -1.46640561e-01,\n",
              "        -2.62386821e-01],\n",
              "       [-4.16009689e-01, -1.51316008e+00,  2.38717193e-02,\n",
              "        -1.30754636e-01],\n",
              "       [-4.16009689e-01, -1.51316008e+00, -3.29657076e-02,\n",
              "        -2.62386821e-01],\n",
              "       [-5.25060772e-02, -8.22569778e-01,  8.07091462e-02,\n",
              "         8.77547895e-04],\n",
              "       [ 1.89829664e-01, -8.22569778e-01,  7.62758269e-01,\n",
              "         5.27406285e-01],\n",
              "       [-5.37177559e-01, -1.31979479e-01,  4.21733708e-01,\n",
              "         3.95774101e-01],\n",
              "       [ 1.89829664e-01,  7.88807586e-01,  4.21733708e-01,\n",
              "         5.27406285e-01],\n",
              "       [ 1.03800476e+00,  9.82172869e-02,  5.35408562e-01,\n",
              "         3.95774101e-01],\n",
              "       [ 5.53333275e-01, -1.74335684e+00,  3.64896281e-01,\n",
              "         1.32509732e-01],\n",
              "       [-2.94841818e-01, -1.31979479e-01,  1.94384000e-01,\n",
              "         1.32509732e-01],\n",
              "       [-4.16009689e-01, -1.28296331e+00,  1.37546573e-01,\n",
              "         1.32509732e-01],\n",
              "       [-4.16009689e-01, -1.05276654e+00,  3.64896281e-01,\n",
              "         8.77547895e-04],\n",
              "       [ 3.10997534e-01, -1.31979479e-01,  4.78571135e-01,\n",
              "         2.64141916e-01],\n",
              "       [-5.25060772e-02, -1.05276654e+00,  1.37546573e-01,\n",
              "         8.77547895e-04],\n",
              "       [-1.02184904e+00, -1.74335684e+00, -2.60315415e-01,\n",
              "        -2.62386821e-01],\n",
              "       [-2.94841818e-01, -8.22569778e-01,  2.51221427e-01,\n",
              "         1.32509732e-01],\n",
              "       [-1.73673948e-01, -1.31979479e-01,  2.51221427e-01,\n",
              "         8.77547895e-04],\n",
              "       [-1.73673948e-01, -3.62176246e-01,  2.51221427e-01,\n",
              "         1.32509732e-01],\n",
              "       [ 4.32165405e-01, -3.62176246e-01,  3.08058854e-01,\n",
              "         1.32509732e-01],\n",
              "       [-9.00681170e-01, -1.28296331e+00, -4.30827696e-01,\n",
              "        -1.30754636e-01],\n",
              "       [-1.73673948e-01, -5.92373012e-01,  1.94384000e-01,\n",
              "         1.32509732e-01],\n",
              "       [ 5.53333275e-01,  5.58610819e-01,  1.27429511e+00,\n",
              "         1.71209594e+00],\n",
              "       [-5.25060772e-02, -8.22569778e-01,  7.62758269e-01,\n",
              "         9.22302838e-01],\n",
              "       [ 1.52267624e+00, -1.31979479e-01,  1.21745768e+00,\n",
              "         1.18556721e+00],\n",
              "       [ 5.53333275e-01, -3.62176246e-01,  1.04694540e+00,\n",
              "         7.90670654e-01],\n",
              "       [ 7.95669016e-01, -1.31979479e-01,  1.16062026e+00,\n",
              "         1.31719939e+00],\n",
              "       [ 2.12851559e+00, -1.31979479e-01,  1.61531967e+00,\n",
              "         1.18556721e+00],\n",
              "       [-1.14301691e+00, -1.28296331e+00,  4.21733708e-01,\n",
              "         6.59038469e-01],\n",
              "       [ 1.76501198e+00, -3.62176246e-01,  1.44480739e+00,\n",
              "         7.90670654e-01],\n",
              "       [ 1.03800476e+00, -1.28296331e+00,  1.16062026e+00,\n",
              "         7.90670654e-01],\n",
              "       [ 1.64384411e+00,  1.24920112e+00,  1.33113254e+00,\n",
              "         1.71209594e+00],\n",
              "       [ 7.95669016e-01,  3.28414053e-01,  7.62758269e-01,\n",
              "         1.05393502e+00],\n",
              "       [ 6.74501145e-01, -8.22569778e-01,  8.76433123e-01,\n",
              "         9.22302838e-01],\n",
              "       [ 1.15917263e+00, -1.31979479e-01,  9.90107977e-01,\n",
              "         1.18556721e+00],\n",
              "       [-1.73673948e-01, -1.28296331e+00,  7.05920842e-01,\n",
              "         1.05393502e+00],\n",
              "       [-5.25060772e-02, -5.92373012e-01,  7.62758269e-01,\n",
              "         1.58046376e+00],\n",
              "       [ 6.74501145e-01,  3.28414053e-01,  8.76433123e-01,\n",
              "         1.44883158e+00],\n",
              "       [ 7.95669016e-01, -1.31979479e-01,  9.90107977e-01,\n",
              "         7.90670654e-01],\n",
              "       [ 2.24968346e+00,  1.70959465e+00,  1.67215710e+00,\n",
              "         1.31719939e+00],\n",
              "       [ 2.24968346e+00, -1.05276654e+00,  1.78583195e+00,\n",
              "         1.44883158e+00],\n",
              "       [ 1.89829664e-01, -1.97355361e+00,  7.05920842e-01,\n",
              "         3.95774101e-01],\n",
              "       [ 1.28034050e+00,  3.28414053e-01,  1.10378283e+00,\n",
              "         1.44883158e+00],\n",
              "       [-2.94841818e-01, -5.92373012e-01,  6.49083415e-01,\n",
              "         1.05393502e+00],\n",
              "       [ 2.24968346e+00, -5.92373012e-01,  1.67215710e+00,\n",
              "         1.05393502e+00],\n",
              "       [ 5.53333275e-01, -8.22569778e-01,  6.49083415e-01,\n",
              "         7.90670654e-01],\n",
              "       [ 1.03800476e+00,  5.58610819e-01,  1.10378283e+00,\n",
              "         1.18556721e+00],\n",
              "       [ 1.64384411e+00,  3.28414053e-01,  1.27429511e+00,\n",
              "         7.90670654e-01],\n",
              "       [ 4.32165405e-01, -5.92373012e-01,  5.92245988e-01,\n",
              "         7.90670654e-01],\n",
              "       [ 3.10997534e-01, -1.31979479e-01,  6.49083415e-01,\n",
              "         7.90670654e-01],\n",
              "       [ 6.74501145e-01, -5.92373012e-01,  1.04694540e+00,\n",
              "         1.18556721e+00],\n",
              "       [ 1.64384411e+00, -1.31979479e-01,  1.16062026e+00,\n",
              "         5.27406285e-01],\n",
              "       [ 1.88617985e+00, -5.92373012e-01,  1.33113254e+00,\n",
              "         9.22302838e-01],\n",
              "       [ 2.49201920e+00,  1.70959465e+00,  1.50164482e+00,\n",
              "         1.05393502e+00],\n",
              "       [ 6.74501145e-01, -5.92373012e-01,  1.04694540e+00,\n",
              "         1.31719939e+00],\n",
              "       [ 5.53333275e-01, -5.92373012e-01,  7.62758269e-01,\n",
              "         3.95774101e-01],\n",
              "       [ 3.10997534e-01, -1.05276654e+00,  1.04694540e+00,\n",
              "         2.64141916e-01],\n",
              "       [ 2.24968346e+00, -1.31979479e-01,  1.33113254e+00,\n",
              "         1.44883158e+00],\n",
              "       [ 5.53333275e-01,  7.88807586e-01,  1.04694540e+00,\n",
              "         1.58046376e+00],\n",
              "       [ 6.74501145e-01,  9.82172869e-02,  9.90107977e-01,\n",
              "         7.90670654e-01],\n",
              "       [ 1.89829664e-01, -1.31979479e-01,  5.92245988e-01,\n",
              "         7.90670654e-01],\n",
              "       [ 1.28034050e+00,  9.82172869e-02,  9.33270550e-01,\n",
              "         1.18556721e+00],\n",
              "       [ 1.03800476e+00,  9.82172869e-02,  1.04694540e+00,\n",
              "         1.58046376e+00],\n",
              "       [ 1.28034050e+00,  9.82172869e-02,  7.62758269e-01,\n",
              "         1.44883158e+00],\n",
              "       [-5.25060772e-02, -8.22569778e-01,  7.62758269e-01,\n",
              "         9.22302838e-01],\n",
              "       [ 1.15917263e+00,  3.28414053e-01,  1.21745768e+00,\n",
              "         1.44883158e+00],\n",
              "       [ 1.03800476e+00,  5.58610819e-01,  1.10378283e+00,\n",
              "         1.71209594e+00],\n",
              "       [ 1.03800476e+00, -1.31979479e-01,  8.19595696e-01,\n",
              "         1.44883158e+00],\n",
              "       [ 5.53333275e-01, -1.28296331e+00,  7.05920842e-01,\n",
              "         9.22302838e-01],\n",
              "       [ 7.95669016e-01, -1.31979479e-01,  8.19595696e-01,\n",
              "         1.05393502e+00],\n",
              "       [ 4.32165405e-01,  7.88807586e-01,  9.33270550e-01,\n",
              "         1.44883158e+00],\n",
              "       [ 6.86617933e-02, -1.31979479e-01,  7.62758269e-01,\n",
              "         7.90670654e-01]])"
            ]
          },
          "metadata": {},
          "execution_count": 680
        }
      ]
    },
    {
      "cell_type": "code",
      "source": [
        "scaled_df = pd.DataFrame"
      ],
      "metadata": {
        "id": "gceDaCh2bHVQ"
      },
      "execution_count": 681,
      "outputs": []
    },
    {
      "cell_type": "code",
      "source": [
        "scaled_df = pd.DataFrame(scaled_data)"
      ],
      "metadata": {
        "id": "O2YuxnpEcchC"
      },
      "execution_count": 682,
      "outputs": []
    },
    {
      "cell_type": "code",
      "source": [
        "X"
      ],
      "metadata": {
        "colab": {
          "base_uri": "https://localhost:8080/",
          "height": 424
        },
        "id": "H5FUugEleCoh",
        "outputId": "c5ff86be-0191-4fa0-c700-d7ce7630de37"
      },
      "execution_count": 683,
      "outputs": [
        {
          "output_type": "execute_result",
          "data": {
            "text/plain": [
              "     PassengerId\n",
              "0            892\n",
              "1            893\n",
              "2            894\n",
              "3            895\n",
              "4            896\n",
              "..           ...\n",
              "413         1305\n",
              "414         1306\n",
              "415         1307\n",
              "416         1308\n",
              "417         1309\n",
              "\n",
              "[418 rows x 1 columns]"
            ],
            "text/html": [
              "\n",
              "  <div id=\"df-017c33f4-2940-44e8-a442-243d53cdef2d\">\n",
              "    <div class=\"colab-df-container\">\n",
              "      <div>\n",
              "<style scoped>\n",
              "    .dataframe tbody tr th:only-of-type {\n",
              "        vertical-align: middle;\n",
              "    }\n",
              "\n",
              "    .dataframe tbody tr th {\n",
              "        vertical-align: top;\n",
              "    }\n",
              "\n",
              "    .dataframe thead th {\n",
              "        text-align: right;\n",
              "    }\n",
              "</style>\n",
              "<table border=\"1\" class=\"dataframe\">\n",
              "  <thead>\n",
              "    <tr style=\"text-align: right;\">\n",
              "      <th></th>\n",
              "      <th>PassengerId</th>\n",
              "    </tr>\n",
              "  </thead>\n",
              "  <tbody>\n",
              "    <tr>\n",
              "      <th>0</th>\n",
              "      <td>892</td>\n",
              "    </tr>\n",
              "    <tr>\n",
              "      <th>1</th>\n",
              "      <td>893</td>\n",
              "    </tr>\n",
              "    <tr>\n",
              "      <th>2</th>\n",
              "      <td>894</td>\n",
              "    </tr>\n",
              "    <tr>\n",
              "      <th>3</th>\n",
              "      <td>895</td>\n",
              "    </tr>\n",
              "    <tr>\n",
              "      <th>4</th>\n",
              "      <td>896</td>\n",
              "    </tr>\n",
              "    <tr>\n",
              "      <th>...</th>\n",
              "      <td>...</td>\n",
              "    </tr>\n",
              "    <tr>\n",
              "      <th>413</th>\n",
              "      <td>1305</td>\n",
              "    </tr>\n",
              "    <tr>\n",
              "      <th>414</th>\n",
              "      <td>1306</td>\n",
              "    </tr>\n",
              "    <tr>\n",
              "      <th>415</th>\n",
              "      <td>1307</td>\n",
              "    </tr>\n",
              "    <tr>\n",
              "      <th>416</th>\n",
              "      <td>1308</td>\n",
              "    </tr>\n",
              "    <tr>\n",
              "      <th>417</th>\n",
              "      <td>1309</td>\n",
              "    </tr>\n",
              "  </tbody>\n",
              "</table>\n",
              "<p>418 rows × 1 columns</p>\n",
              "</div>\n",
              "      <button class=\"colab-df-convert\" onclick=\"convertToInteractive('df-017c33f4-2940-44e8-a442-243d53cdef2d')\"\n",
              "              title=\"Convert this dataframe to an interactive table.\"\n",
              "              style=\"display:none;\">\n",
              "        \n",
              "  <svg xmlns=\"http://www.w3.org/2000/svg\" height=\"24px\"viewBox=\"0 0 24 24\"\n",
              "       width=\"24px\">\n",
              "    <path d=\"M0 0h24v24H0V0z\" fill=\"none\"/>\n",
              "    <path d=\"M18.56 5.44l.94 2.06.94-2.06 2.06-.94-2.06-.94-.94-2.06-.94 2.06-2.06.94zm-11 1L8.5 8.5l.94-2.06 2.06-.94-2.06-.94L8.5 2.5l-.94 2.06-2.06.94zm10 10l.94 2.06.94-2.06 2.06-.94-2.06-.94-.94-2.06-.94 2.06-2.06.94z\"/><path d=\"M17.41 7.96l-1.37-1.37c-.4-.4-.92-.59-1.43-.59-.52 0-1.04.2-1.43.59L10.3 9.45l-7.72 7.72c-.78.78-.78 2.05 0 2.83L4 21.41c.39.39.9.59 1.41.59.51 0 1.02-.2 1.41-.59l7.78-7.78 2.81-2.81c.8-.78.8-2.07 0-2.86zM5.41 20L4 18.59l7.72-7.72 1.47 1.35L5.41 20z\"/>\n",
              "  </svg>\n",
              "      </button>\n",
              "      \n",
              "  <style>\n",
              "    .colab-df-container {\n",
              "      display:flex;\n",
              "      flex-wrap:wrap;\n",
              "      gap: 12px;\n",
              "    }\n",
              "\n",
              "    .colab-df-convert {\n",
              "      background-color: #E8F0FE;\n",
              "      border: none;\n",
              "      border-radius: 50%;\n",
              "      cursor: pointer;\n",
              "      display: none;\n",
              "      fill: #1967D2;\n",
              "      height: 32px;\n",
              "      padding: 0 0 0 0;\n",
              "      width: 32px;\n",
              "    }\n",
              "\n",
              "    .colab-df-convert:hover {\n",
              "      background-color: #E2EBFA;\n",
              "      box-shadow: 0px 1px 2px rgba(60, 64, 67, 0.3), 0px 1px 3px 1px rgba(60, 64, 67, 0.15);\n",
              "      fill: #174EA6;\n",
              "    }\n",
              "\n",
              "    [theme=dark] .colab-df-convert {\n",
              "      background-color: #3B4455;\n",
              "      fill: #D2E3FC;\n",
              "    }\n",
              "\n",
              "    [theme=dark] .colab-df-convert:hover {\n",
              "      background-color: #434B5C;\n",
              "      box-shadow: 0px 1px 3px 1px rgba(0, 0, 0, 0.15);\n",
              "      filter: drop-shadow(0px 1px 2px rgba(0, 0, 0, 0.3));\n",
              "      fill: #FFFFFF;\n",
              "    }\n",
              "  </style>\n",
              "\n",
              "      <script>\n",
              "        const buttonEl =\n",
              "          document.querySelector('#df-017c33f4-2940-44e8-a442-243d53cdef2d button.colab-df-convert');\n",
              "        buttonEl.style.display =\n",
              "          google.colab.kernel.accessAllowed ? 'block' : 'none';\n",
              "\n",
              "        async function convertToInteractive(key) {\n",
              "          const element = document.querySelector('#df-017c33f4-2940-44e8-a442-243d53cdef2d');\n",
              "          const dataTable =\n",
              "            await google.colab.kernel.invokeFunction('convertToInteractive',\n",
              "                                                     [key], {});\n",
              "          if (!dataTable) return;\n",
              "\n",
              "          const docLinkHtml = 'Like what you see? Visit the ' +\n",
              "            '<a target=\"_blank\" href=https://colab.research.google.com/notebooks/data_table.ipynb>data table notebook</a>'\n",
              "            + ' to learn more about interactive tables.';\n",
              "          element.innerHTML = '';\n",
              "          dataTable['output_type'] = 'display_data';\n",
              "          await google.colab.output.renderOutput(dataTable, element);\n",
              "          const docLink = document.createElement('div');\n",
              "          docLink.innerHTML = docLinkHtml;\n",
              "          element.appendChild(docLink);\n",
              "        }\n",
              "      </script>\n",
              "    </div>\n",
              "  </div>\n",
              "  "
            ]
          },
          "metadata": {},
          "execution_count": 683
        }
      ]
    },
    {
      "cell_type": "code",
      "source": [
        "y"
      ],
      "metadata": {
        "colab": {
          "base_uri": "https://localhost:8080/"
        },
        "id": "7iItvgdRePcE",
        "outputId": "688590e1-834e-462c-83cd-b59cb5ba88bd"
      },
      "execution_count": 684,
      "outputs": [
        {
          "output_type": "execute_result",
          "data": {
            "text/plain": [
              "0      0\n",
              "1      1\n",
              "2      0\n",
              "3      0\n",
              "4      1\n",
              "      ..\n",
              "413    0\n",
              "414    1\n",
              "415    0\n",
              "416    0\n",
              "417    0\n",
              "Name: Survived, Length: 418, dtype: int64"
            ]
          },
          "metadata": {},
          "execution_count": 684
        }
      ]
    },
    {
      "cell_type": "code",
      "source": [
        "y.shape"
      ],
      "metadata": {
        "colab": {
          "base_uri": "https://localhost:8080/"
        },
        "id": "mB3FJqx1eUOg",
        "outputId": "5e0f4e56-67ba-42e1-e569-f0d66a2350fd"
      },
      "execution_count": 685,
      "outputs": [
        {
          "output_type": "execute_result",
          "data": {
            "text/plain": [
              "(418,)"
            ]
          },
          "metadata": {},
          "execution_count": 685
        }
      ]
    },
    {
      "cell_type": "code",
      "source": [
        "from sklearn.model_selection import train_test_split\n",
        "X_train, X_test, y_train, y_test = train_test_split(X,y, test_size = 0.2)"
      ],
      "metadata": {
        "id": "oWGuMIPnfSx_"
      },
      "execution_count": 686,
      "outputs": []
    },
    {
      "cell_type": "code",
      "source": [
        "X_train"
      ],
      "metadata": {
        "colab": {
          "base_uri": "https://localhost:8080/",
          "height": 424
        },
        "id": "r4-LGXXVelsO",
        "outputId": "e7b66ff2-dada-41b8-abae-2318130a57fc"
      },
      "execution_count": 687,
      "outputs": [
        {
          "output_type": "execute_result",
          "data": {
            "text/plain": [
              "     PassengerId\n",
              "82           974\n",
              "165         1057\n",
              "362         1254\n",
              "79           971\n",
              "351         1243\n",
              "..           ...\n",
              "372         1264\n",
              "401         1293\n",
              "62           954\n",
              "200         1092\n",
              "224         1116\n",
              "\n",
              "[334 rows x 1 columns]"
            ],
            "text/html": [
              "\n",
              "  <div id=\"df-f87f8a1a-8353-4902-9a42-d2bf17aef738\">\n",
              "    <div class=\"colab-df-container\">\n",
              "      <div>\n",
              "<style scoped>\n",
              "    .dataframe tbody tr th:only-of-type {\n",
              "        vertical-align: middle;\n",
              "    }\n",
              "\n",
              "    .dataframe tbody tr th {\n",
              "        vertical-align: top;\n",
              "    }\n",
              "\n",
              "    .dataframe thead th {\n",
              "        text-align: right;\n",
              "    }\n",
              "</style>\n",
              "<table border=\"1\" class=\"dataframe\">\n",
              "  <thead>\n",
              "    <tr style=\"text-align: right;\">\n",
              "      <th></th>\n",
              "      <th>PassengerId</th>\n",
              "    </tr>\n",
              "  </thead>\n",
              "  <tbody>\n",
              "    <tr>\n",
              "      <th>82</th>\n",
              "      <td>974</td>\n",
              "    </tr>\n",
              "    <tr>\n",
              "      <th>165</th>\n",
              "      <td>1057</td>\n",
              "    </tr>\n",
              "    <tr>\n",
              "      <th>362</th>\n",
              "      <td>1254</td>\n",
              "    </tr>\n",
              "    <tr>\n",
              "      <th>79</th>\n",
              "      <td>971</td>\n",
              "    </tr>\n",
              "    <tr>\n",
              "      <th>351</th>\n",
              "      <td>1243</td>\n",
              "    </tr>\n",
              "    <tr>\n",
              "      <th>...</th>\n",
              "      <td>...</td>\n",
              "    </tr>\n",
              "    <tr>\n",
              "      <th>372</th>\n",
              "      <td>1264</td>\n",
              "    </tr>\n",
              "    <tr>\n",
              "      <th>401</th>\n",
              "      <td>1293</td>\n",
              "    </tr>\n",
              "    <tr>\n",
              "      <th>62</th>\n",
              "      <td>954</td>\n",
              "    </tr>\n",
              "    <tr>\n",
              "      <th>200</th>\n",
              "      <td>1092</td>\n",
              "    </tr>\n",
              "    <tr>\n",
              "      <th>224</th>\n",
              "      <td>1116</td>\n",
              "    </tr>\n",
              "  </tbody>\n",
              "</table>\n",
              "<p>334 rows × 1 columns</p>\n",
              "</div>\n",
              "      <button class=\"colab-df-convert\" onclick=\"convertToInteractive('df-f87f8a1a-8353-4902-9a42-d2bf17aef738')\"\n",
              "              title=\"Convert this dataframe to an interactive table.\"\n",
              "              style=\"display:none;\">\n",
              "        \n",
              "  <svg xmlns=\"http://www.w3.org/2000/svg\" height=\"24px\"viewBox=\"0 0 24 24\"\n",
              "       width=\"24px\">\n",
              "    <path d=\"M0 0h24v24H0V0z\" fill=\"none\"/>\n",
              "    <path d=\"M18.56 5.44l.94 2.06.94-2.06 2.06-.94-2.06-.94-.94-2.06-.94 2.06-2.06.94zm-11 1L8.5 8.5l.94-2.06 2.06-.94-2.06-.94L8.5 2.5l-.94 2.06-2.06.94zm10 10l.94 2.06.94-2.06 2.06-.94-2.06-.94-.94-2.06-.94 2.06-2.06.94z\"/><path d=\"M17.41 7.96l-1.37-1.37c-.4-.4-.92-.59-1.43-.59-.52 0-1.04.2-1.43.59L10.3 9.45l-7.72 7.72c-.78.78-.78 2.05 0 2.83L4 21.41c.39.39.9.59 1.41.59.51 0 1.02-.2 1.41-.59l7.78-7.78 2.81-2.81c.8-.78.8-2.07 0-2.86zM5.41 20L4 18.59l7.72-7.72 1.47 1.35L5.41 20z\"/>\n",
              "  </svg>\n",
              "      </button>\n",
              "      \n",
              "  <style>\n",
              "    .colab-df-container {\n",
              "      display:flex;\n",
              "      flex-wrap:wrap;\n",
              "      gap: 12px;\n",
              "    }\n",
              "\n",
              "    .colab-df-convert {\n",
              "      background-color: #E8F0FE;\n",
              "      border: none;\n",
              "      border-radius: 50%;\n",
              "      cursor: pointer;\n",
              "      display: none;\n",
              "      fill: #1967D2;\n",
              "      height: 32px;\n",
              "      padding: 0 0 0 0;\n",
              "      width: 32px;\n",
              "    }\n",
              "\n",
              "    .colab-df-convert:hover {\n",
              "      background-color: #E2EBFA;\n",
              "      box-shadow: 0px 1px 2px rgba(60, 64, 67, 0.3), 0px 1px 3px 1px rgba(60, 64, 67, 0.15);\n",
              "      fill: #174EA6;\n",
              "    }\n",
              "\n",
              "    [theme=dark] .colab-df-convert {\n",
              "      background-color: #3B4455;\n",
              "      fill: #D2E3FC;\n",
              "    }\n",
              "\n",
              "    [theme=dark] .colab-df-convert:hover {\n",
              "      background-color: #434B5C;\n",
              "      box-shadow: 0px 1px 3px 1px rgba(0, 0, 0, 0.15);\n",
              "      filter: drop-shadow(0px 1px 2px rgba(0, 0, 0, 0.3));\n",
              "      fill: #FFFFFF;\n",
              "    }\n",
              "  </style>\n",
              "\n",
              "      <script>\n",
              "        const buttonEl =\n",
              "          document.querySelector('#df-f87f8a1a-8353-4902-9a42-d2bf17aef738 button.colab-df-convert');\n",
              "        buttonEl.style.display =\n",
              "          google.colab.kernel.accessAllowed ? 'block' : 'none';\n",
              "\n",
              "        async function convertToInteractive(key) {\n",
              "          const element = document.querySelector('#df-f87f8a1a-8353-4902-9a42-d2bf17aef738');\n",
              "          const dataTable =\n",
              "            await google.colab.kernel.invokeFunction('convertToInteractive',\n",
              "                                                     [key], {});\n",
              "          if (!dataTable) return;\n",
              "\n",
              "          const docLinkHtml = 'Like what you see? Visit the ' +\n",
              "            '<a target=\"_blank\" href=https://colab.research.google.com/notebooks/data_table.ipynb>data table notebook</a>'\n",
              "            + ' to learn more about interactive tables.';\n",
              "          element.innerHTML = '';\n",
              "          dataTable['output_type'] = 'display_data';\n",
              "          await google.colab.output.renderOutput(dataTable, element);\n",
              "          const docLink = document.createElement('div');\n",
              "          docLink.innerHTML = docLinkHtml;\n",
              "          element.appendChild(docLink);\n",
              "        }\n",
              "      </script>\n",
              "    </div>\n",
              "  </div>\n",
              "  "
            ]
          },
          "metadata": {},
          "execution_count": 687
        }
      ]
    },
    {
      "cell_type": "code",
      "source": [
        "y_train.shape, y_test.shape"
      ],
      "metadata": {
        "colab": {
          "base_uri": "https://localhost:8080/"
        },
        "id": "NSpZUKnufqSK",
        "outputId": "ddc4003f-bf08-4c17-8175-a3f38cad66c2"
      },
      "execution_count": 688,
      "outputs": [
        {
          "output_type": "execute_result",
          "data": {
            "text/plain": [
              "((334,), (84,))"
            ]
          },
          "metadata": {},
          "execution_count": 688
        }
      ]
    },
    {
      "cell_type": "code",
      "source": [
        "y_train.values"
      ],
      "metadata": {
        "colab": {
          "base_uri": "https://localhost:8080/"
        },
        "id": "Ss_XnlmYe3mu",
        "outputId": "a6dbf4c3-12ec-4398-9784-d1d412bb8d5e"
      },
      "execution_count": 689,
      "outputs": [
        {
          "output_type": "execute_result",
          "data": {
            "text/plain": [
              "array([0, 1, 1, 1, 0, 0, 0, 0, 0, 0, 1, 0, 1, 1, 1, 0, 1, 1, 0, 0, 0, 0,\n",
              "       0, 0, 1, 1, 0, 0, 0, 0, 0, 0, 0, 0, 0, 0, 1, 1, 0, 0, 0, 0, 1, 0,\n",
              "       0, 0, 0, 0, 1, 0, 1, 1, 0, 1, 0, 0, 0, 1, 0, 0, 0, 1, 1, 0, 0, 1,\n",
              "       1, 0, 1, 0, 1, 1, 0, 1, 0, 1, 0, 1, 1, 0, 0, 0, 1, 0, 0, 1, 0, 0,\n",
              "       1, 1, 0, 0, 0, 0, 1, 0, 0, 0, 1, 0, 0, 0, 1, 0, 0, 0, 1, 0, 0, 1,\n",
              "       1, 0, 1, 0, 0, 1, 0, 0, 0, 1, 0, 0, 0, 1, 0, 1, 0, 0, 0, 0, 0, 1,\n",
              "       0, 1, 0, 1, 0, 0, 0, 0, 0, 0, 0, 0, 0, 0, 0, 0, 0, 1, 1, 0, 0, 1,\n",
              "       0, 0, 1, 0, 1, 1, 0, 0, 0, 0, 0, 1, 0, 0, 1, 0, 1, 0, 0, 1, 1, 1,\n",
              "       1, 1, 1, 0, 0, 0, 0, 0, 0, 1, 1, 1, 0, 1, 1, 0, 0, 1, 1, 0, 0, 1,\n",
              "       1, 1, 0, 0, 1, 1, 0, 0, 0, 1, 0, 1, 0, 1, 0, 1, 1, 1, 1, 0, 0, 0,\n",
              "       0, 1, 1, 0, 1, 0, 0, 0, 1, 0, 1, 0, 0, 1, 0, 0, 0, 0, 0, 1, 1, 0,\n",
              "       0, 0, 0, 1, 0, 0, 1, 0, 0, 0, 0, 0, 0, 0, 0, 1, 0, 0, 0, 1, 0, 0,\n",
              "       1, 1, 0, 0, 0, 0, 1, 0, 0, 0, 0, 0, 0, 0, 0, 0, 1, 0, 0, 1, 1, 0,\n",
              "       1, 0, 0, 0, 1, 0, 1, 0, 0, 1, 0, 1, 1, 0, 0, 0, 1, 0, 0, 0, 0, 1,\n",
              "       1, 0, 0, 1, 1, 1, 1, 0, 0, 0, 1, 1, 0, 0, 0, 0, 0, 0, 1, 0, 0, 0,\n",
              "       0, 0, 1, 1])"
            ]
          },
          "metadata": {},
          "execution_count": 689
        }
      ]
    },
    {
      "cell_type": "code",
      "source": [
        "X.shape"
      ],
      "metadata": {
        "colab": {
          "base_uri": "https://localhost:8080/"
        },
        "id": "lw3JBsCufMbx",
        "outputId": "cf92e60b-ee2e-4679-de3c-521649cc3cf9"
      },
      "execution_count": 690,
      "outputs": [
        {
          "output_type": "execute_result",
          "data": {
            "text/plain": [
              "(418, 1)"
            ]
          },
          "metadata": {},
          "execution_count": 690
        }
      ]
    },
    {
      "cell_type": "code",
      "source": [
        "from sklearn.linear_model import LogisticRegression\n",
        "model = LogisticRegression()\n",
        "\n"
      ],
      "metadata": {
        "id": "F5paitu3gC0k"
      },
      "execution_count": 691,
      "outputs": []
    },
    {
      "cell_type": "code",
      "source": [
        "model.fit"
      ],
      "metadata": {
        "colab": {
          "base_uri": "https://localhost:8080/"
        },
        "id": "tUkHOqFOg_k3",
        "outputId": "d233fe93-13ee-421c-ea17-398504733bea"
      },
      "execution_count": 692,
      "outputs": [
        {
          "output_type": "execute_result",
          "data": {
            "text/plain": [
              "<bound method LogisticRegression.fit of LogisticRegression()>"
            ]
          },
          "metadata": {},
          "execution_count": 692
        }
      ]
    },
    {
      "cell_type": "code",
      "source": [
        "model"
      ],
      "metadata": {
        "colab": {
          "base_uri": "https://localhost:8080/",
          "height": 75
        },
        "id": "Q-kghZB4fnZg",
        "outputId": "f71d34bd-2c3c-4821-9beb-8914547e3ce7"
      },
      "execution_count": 693,
      "outputs": [
        {
          "output_type": "execute_result",
          "data": {
            "text/plain": [
              "LogisticRegression()"
            ],
            "text/html": [
              "<style>#sk-container-id-32 {color: black;background-color: white;}#sk-container-id-32 pre{padding: 0;}#sk-container-id-32 div.sk-toggleable {background-color: white;}#sk-container-id-32 label.sk-toggleable__label {cursor: pointer;display: block;width: 100%;margin-bottom: 0;padding: 0.3em;box-sizing: border-box;text-align: center;}#sk-container-id-32 label.sk-toggleable__label-arrow:before {content: \"▸\";float: left;margin-right: 0.25em;color: #696969;}#sk-container-id-32 label.sk-toggleable__label-arrow:hover:before {color: black;}#sk-container-id-32 div.sk-estimator:hover label.sk-toggleable__label-arrow:before {color: black;}#sk-container-id-32 div.sk-toggleable__content {max-height: 0;max-width: 0;overflow: hidden;text-align: left;background-color: #f0f8ff;}#sk-container-id-32 div.sk-toggleable__content pre {margin: 0.2em;color: black;border-radius: 0.25em;background-color: #f0f8ff;}#sk-container-id-32 input.sk-toggleable__control:checked~div.sk-toggleable__content {max-height: 200px;max-width: 100%;overflow: auto;}#sk-container-id-32 input.sk-toggleable__control:checked~label.sk-toggleable__label-arrow:before {content: \"▾\";}#sk-container-id-32 div.sk-estimator input.sk-toggleable__control:checked~label.sk-toggleable__label {background-color: #d4ebff;}#sk-container-id-32 div.sk-label input.sk-toggleable__control:checked~label.sk-toggleable__label {background-color: #d4ebff;}#sk-container-id-32 input.sk-hidden--visually {border: 0;clip: rect(1px 1px 1px 1px);clip: rect(1px, 1px, 1px, 1px);height: 1px;margin: -1px;overflow: hidden;padding: 0;position: absolute;width: 1px;}#sk-container-id-32 div.sk-estimator {font-family: monospace;background-color: #f0f8ff;border: 1px dotted black;border-radius: 0.25em;box-sizing: border-box;margin-bottom: 0.5em;}#sk-container-id-32 div.sk-estimator:hover {background-color: #d4ebff;}#sk-container-id-32 div.sk-parallel-item::after {content: \"\";width: 100%;border-bottom: 1px solid gray;flex-grow: 1;}#sk-container-id-32 div.sk-label:hover label.sk-toggleable__label {background-color: #d4ebff;}#sk-container-id-32 div.sk-serial::before {content: \"\";position: absolute;border-left: 1px solid gray;box-sizing: border-box;top: 0;bottom: 0;left: 50%;z-index: 0;}#sk-container-id-32 div.sk-serial {display: flex;flex-direction: column;align-items: center;background-color: white;padding-right: 0.2em;padding-left: 0.2em;position: relative;}#sk-container-id-32 div.sk-item {position: relative;z-index: 1;}#sk-container-id-32 div.sk-parallel {display: flex;align-items: stretch;justify-content: center;background-color: white;position: relative;}#sk-container-id-32 div.sk-item::before, #sk-container-id-32 div.sk-parallel-item::before {content: \"\";position: absolute;border-left: 1px solid gray;box-sizing: border-box;top: 0;bottom: 0;left: 50%;z-index: -1;}#sk-container-id-32 div.sk-parallel-item {display: flex;flex-direction: column;z-index: 1;position: relative;background-color: white;}#sk-container-id-32 div.sk-parallel-item:first-child::after {align-self: flex-end;width: 50%;}#sk-container-id-32 div.sk-parallel-item:last-child::after {align-self: flex-start;width: 50%;}#sk-container-id-32 div.sk-parallel-item:only-child::after {width: 0;}#sk-container-id-32 div.sk-dashed-wrapped {border: 1px dashed gray;margin: 0 0.4em 0.5em 0.4em;box-sizing: border-box;padding-bottom: 0.4em;background-color: white;}#sk-container-id-32 div.sk-label label {font-family: monospace;font-weight: bold;display: inline-block;line-height: 1.2em;}#sk-container-id-32 div.sk-label-container {text-align: center;}#sk-container-id-32 div.sk-container {/* jupyter's `normalize.less` sets `[hidden] { display: none; }` but bootstrap.min.css set `[hidden] { display: none !important; }` so we also need the `!important` here to be able to override the default hidden behavior on the sphinx rendered scikit-learn.org. See: https://github.com/scikit-learn/scikit-learn/issues/21755 */display: inline-block !important;position: relative;}#sk-container-id-32 div.sk-text-repr-fallback {display: none;}</style><div id=\"sk-container-id-32\" class=\"sk-top-container\"><div class=\"sk-text-repr-fallback\"><pre>LogisticRegression()</pre><b>In a Jupyter environment, please rerun this cell to show the HTML representation or trust the notebook. <br />On GitHub, the HTML representation is unable to render, please try loading this page with nbviewer.org.</b></div><div class=\"sk-container\" hidden><div class=\"sk-item\"><div class=\"sk-estimator sk-toggleable\"><input class=\"sk-toggleable__control sk-hidden--visually\" id=\"sk-estimator-id-60\" type=\"checkbox\" checked><label for=\"sk-estimator-id-60\" class=\"sk-toggleable__label sk-toggleable__label-arrow\">LogisticRegression</label><div class=\"sk-toggleable__content\"><pre>LogisticRegression()</pre></div></div></div></div></div>"
            ]
          },
          "metadata": {},
          "execution_count": 693
        }
      ]
    },
    {
      "cell_type": "code",
      "source": [
        "model.predict"
      ],
      "metadata": {
        "colab": {
          "base_uri": "https://localhost:8080/"
        },
        "id": "E3uG7PVZfrDm",
        "outputId": "5634b668-5731-41c5-caa8-4923ab08874f"
      },
      "execution_count": 694,
      "outputs": [
        {
          "output_type": "execute_result",
          "data": {
            "text/plain": [
              "<bound method LinearClassifierMixin.predict of LogisticRegression()>"
            ]
          },
          "metadata": {},
          "execution_count": 694
        }
      ]
    },
    {
      "cell_type": "code",
      "source": [
        "y_test.values"
      ],
      "metadata": {
        "colab": {
          "base_uri": "https://localhost:8080/"
        },
        "id": "QC6Wc0V1fzkL",
        "outputId": "a073d470-a34f-4c21-aa4c-c3665d0a4723"
      },
      "execution_count": 695,
      "outputs": [
        {
          "output_type": "execute_result",
          "data": {
            "text/plain": [
              "array([0, 1, 0, 0, 0, 0, 1, 1, 0, 1, 0, 1, 0, 1, 0, 0, 1, 0, 0, 0, 0, 0,\n",
              "       1, 0, 1, 0, 0, 1, 1, 0, 0, 0, 1, 0, 0, 1, 0, 1, 0, 1, 1, 1, 0, 0,\n",
              "       0, 0, 1, 1, 1, 1, 0, 1, 1, 0, 0, 0, 1, 0, 1, 1, 1, 0, 0, 0, 1, 0,\n",
              "       0, 0, 0, 0, 1, 0, 0, 0, 0, 1, 1, 1, 0, 1, 1, 0, 0, 0])"
            ]
          },
          "metadata": {},
          "execution_count": 695
        }
      ]
    },
    {
      "cell_type": "code",
      "source": [
        "X_test.values"
      ],
      "metadata": {
        "colab": {
          "base_uri": "https://localhost:8080/"
        },
        "id": "kmYy_lkBf4cw",
        "outputId": "43ead335-dda9-4e90-9719-c33f8810989f"
      },
      "execution_count": 696,
      "outputs": [
        {
          "output_type": "execute_result",
          "data": {
            "text/plain": [
              "array([[1168],\n",
              "       [1294],\n",
              "       [1025],\n",
              "       [ 921],\n",
              "       [1065],\n",
              "       [1125],\n",
              "       [1106],\n",
              "       [1060],\n",
              "       [1010],\n",
              "       [1049],\n",
              "       [1111],\n",
              "       [1235],\n",
              "       [ 977],\n",
              "       [1054],\n",
              "       [1214],\n",
              "       [1104],\n",
              "       [1078],\n",
              "       [1027],\n",
              "       [1278],\n",
              "       [1276],\n",
              "       [1182],\n",
              "       [1219],\n",
              "       [1011],\n",
              "       [ 967],\n",
              "       [ 969],\n",
              "       [ 976],\n",
              "       [1298],\n",
              "       [ 984],\n",
              "       [1176],\n",
              "       [1202],\n",
              "       [ 950],\n",
              "       [1210],\n",
              "       [1154],\n",
              "       [1279],\n",
              "       [1261],\n",
              "       [1165],\n",
              "       [1220],\n",
              "       [ 978],\n",
              "       [1213],\n",
              "       [ 979],\n",
              "       [1141],\n",
              "       [ 928],\n",
              "       [1186],\n",
              "       [1284],\n",
              "       [1029],\n",
              "       [1149],\n",
              "       [1257],\n",
              "       [ 988],\n",
              "       [ 907],\n",
              "       [1098],\n",
              "       [1223],\n",
              "       [1030],\n",
              "       [ 893],\n",
              "       [1001],\n",
              "       [ 959],\n",
              "       [ 998],\n",
              "       [1133],\n",
              "       [1148],\n",
              "       [1201],\n",
              "       [1005],\n",
              "       [1292],\n",
              "       [ 913],\n",
              "       [1072],\n",
              "       [ 933],\n",
              "       [1051],\n",
              "       [1296],\n",
              "       [1255],\n",
              "       [1081],\n",
              "       [ 956],\n",
              "       [1184],\n",
              "       [1277],\n",
              "       [ 972],\n",
              "       [1038],\n",
              "       [1139],\n",
              "       [1281],\n",
              "       [1048],\n",
              "       [ 924],\n",
              "       [ 918],\n",
              "       [1203],\n",
              "       [1155],\n",
              "       [1289],\n",
              "       [ 987],\n",
              "       [1146],\n",
              "       [ 897]])"
            ]
          },
          "metadata": {},
          "execution_count": 696
        }
      ]
    },
    {
      "cell_type": "code",
      "source": [
        "from sklearn import neighbors, datasets\n",
        "iris = datasets.load_iris()\n",
        "X,y = iris.data, iris.target\n",
        "knn = neighbors.KNeighborsClassifier(n_neighbors=1)\n",
        "knn.fit(X,y)\n",
        "print(iris.target_names[knn.predict([[3,5,4,2]])])\n",
        "\n"
      ],
      "metadata": {
        "colab": {
          "base_uri": "https://localhost:8080/"
        },
        "id": "CtGb9qufjV26",
        "outputId": "c0398a1c-e7af-4993-a8ec-b09b42c1ef3d"
      },
      "execution_count": 697,
      "outputs": [
        {
          "output_type": "stream",
          "name": "stdout",
          "text": [
            "['virginica']\n"
          ]
        }
      ]
    },
    {
      "cell_type": "code",
      "source": [
        "from sklearn.linear_model import LinearRegression\n",
        "\n",
        "X = 30 * np.random.random((20,1))\n",
        "\n",
        "y = 0.5 * X + 1.0 + np.random.normal(size=X.shape)\n",
        "\n",
        "model = LinearRegression()\n",
        "model.fit(X,y)\n",
        "\n",
        "X_new = np.linspace(0, 30, 100)\n",
        "y_new = model.predict(X_new[:, np.newaxis])"
      ],
      "metadata": {
        "id": "JM1TTlN4jiVU"
      },
      "execution_count": 698,
      "outputs": []
    },
    {
      "cell_type": "code",
      "source": [
        "from sklearn.datasets import load_digits\n",
        "digits = load_digits()"
      ],
      "metadata": {
        "id": "7SnTT3-jpKnt"
      },
      "execution_count": 699,
      "outputs": []
    },
    {
      "cell_type": "code",
      "source": [
        "print(model.predict)"
      ],
      "metadata": {
        "colab": {
          "base_uri": "https://localhost:8080/"
        },
        "id": "25Dm2ur9pl9F",
        "outputId": "1169e34d-f0db-4efa-a680-0131b1d012a7"
      },
      "execution_count": 700,
      "outputs": [
        {
          "output_type": "stream",
          "name": "stdout",
          "text": [
            "<bound method LinearModel.predict of LinearRegression()>\n"
          ]
        }
      ]
    },
    {
      "cell_type": "code",
      "source": [
        "model.predict\n",
        "print(X_test)"
      ],
      "metadata": {
        "colab": {
          "base_uri": "https://localhost:8080/"
        },
        "id": "FohTRe15tYIi",
        "outputId": "62bddd30-4ae8-4412-9307-4018fe4e8bcf"
      },
      "execution_count": 701,
      "outputs": [
        {
          "output_type": "stream",
          "name": "stdout",
          "text": [
            "     PassengerId\n",
            "276         1168\n",
            "402         1294\n",
            "133         1025\n",
            "29           921\n",
            "173         1065\n",
            "..           ...\n",
            "263         1155\n",
            "397         1289\n",
            "95           987\n",
            "254         1146\n",
            "5            897\n",
            "\n",
            "[84 rows x 1 columns]\n"
          ]
        }
      ]
    },
    {
      "cell_type": "code",
      "source": [
        "predicted_data = pd.DataFrame(y_test.values)"
      ],
      "metadata": {
        "id": "athMVKs9tp4Q"
      },
      "execution_count": 702,
      "outputs": []
    },
    {
      "cell_type": "code",
      "source": [
        "predicted_data"
      ],
      "metadata": {
        "colab": {
          "base_uri": "https://localhost:8080/",
          "height": 424
        },
        "id": "KoLGgyIZu61A",
        "outputId": "8e7b7675-10eb-4f2f-c6d1-4bbe9427fa31"
      },
      "execution_count": 703,
      "outputs": [
        {
          "output_type": "execute_result",
          "data": {
            "text/plain": [
              "    0\n",
              "0   0\n",
              "1   1\n",
              "2   0\n",
              "3   0\n",
              "4   0\n",
              ".. ..\n",
              "79  1\n",
              "80  1\n",
              "81  0\n",
              "82  0\n",
              "83  0\n",
              "\n",
              "[84 rows x 1 columns]"
            ],
            "text/html": [
              "\n",
              "  <div id=\"df-c617ffc8-6de7-4e56-a0e0-e03717eacc7f\">\n",
              "    <div class=\"colab-df-container\">\n",
              "      <div>\n",
              "<style scoped>\n",
              "    .dataframe tbody tr th:only-of-type {\n",
              "        vertical-align: middle;\n",
              "    }\n",
              "\n",
              "    .dataframe tbody tr th {\n",
              "        vertical-align: top;\n",
              "    }\n",
              "\n",
              "    .dataframe thead th {\n",
              "        text-align: right;\n",
              "    }\n",
              "</style>\n",
              "<table border=\"1\" class=\"dataframe\">\n",
              "  <thead>\n",
              "    <tr style=\"text-align: right;\">\n",
              "      <th></th>\n",
              "      <th>0</th>\n",
              "    </tr>\n",
              "  </thead>\n",
              "  <tbody>\n",
              "    <tr>\n",
              "      <th>0</th>\n",
              "      <td>0</td>\n",
              "    </tr>\n",
              "    <tr>\n",
              "      <th>1</th>\n",
              "      <td>1</td>\n",
              "    </tr>\n",
              "    <tr>\n",
              "      <th>2</th>\n",
              "      <td>0</td>\n",
              "    </tr>\n",
              "    <tr>\n",
              "      <th>3</th>\n",
              "      <td>0</td>\n",
              "    </tr>\n",
              "    <tr>\n",
              "      <th>4</th>\n",
              "      <td>0</td>\n",
              "    </tr>\n",
              "    <tr>\n",
              "      <th>...</th>\n",
              "      <td>...</td>\n",
              "    </tr>\n",
              "    <tr>\n",
              "      <th>79</th>\n",
              "      <td>1</td>\n",
              "    </tr>\n",
              "    <tr>\n",
              "      <th>80</th>\n",
              "      <td>1</td>\n",
              "    </tr>\n",
              "    <tr>\n",
              "      <th>81</th>\n",
              "      <td>0</td>\n",
              "    </tr>\n",
              "    <tr>\n",
              "      <th>82</th>\n",
              "      <td>0</td>\n",
              "    </tr>\n",
              "    <tr>\n",
              "      <th>83</th>\n",
              "      <td>0</td>\n",
              "    </tr>\n",
              "  </tbody>\n",
              "</table>\n",
              "<p>84 rows × 1 columns</p>\n",
              "</div>\n",
              "      <button class=\"colab-df-convert\" onclick=\"convertToInteractive('df-c617ffc8-6de7-4e56-a0e0-e03717eacc7f')\"\n",
              "              title=\"Convert this dataframe to an interactive table.\"\n",
              "              style=\"display:none;\">\n",
              "        \n",
              "  <svg xmlns=\"http://www.w3.org/2000/svg\" height=\"24px\"viewBox=\"0 0 24 24\"\n",
              "       width=\"24px\">\n",
              "    <path d=\"M0 0h24v24H0V0z\" fill=\"none\"/>\n",
              "    <path d=\"M18.56 5.44l.94 2.06.94-2.06 2.06-.94-2.06-.94-.94-2.06-.94 2.06-2.06.94zm-11 1L8.5 8.5l.94-2.06 2.06-.94-2.06-.94L8.5 2.5l-.94 2.06-2.06.94zm10 10l.94 2.06.94-2.06 2.06-.94-2.06-.94-.94-2.06-.94 2.06-2.06.94z\"/><path d=\"M17.41 7.96l-1.37-1.37c-.4-.4-.92-.59-1.43-.59-.52 0-1.04.2-1.43.59L10.3 9.45l-7.72 7.72c-.78.78-.78 2.05 0 2.83L4 21.41c.39.39.9.59 1.41.59.51 0 1.02-.2 1.41-.59l7.78-7.78 2.81-2.81c.8-.78.8-2.07 0-2.86zM5.41 20L4 18.59l7.72-7.72 1.47 1.35L5.41 20z\"/>\n",
              "  </svg>\n",
              "      </button>\n",
              "      \n",
              "  <style>\n",
              "    .colab-df-container {\n",
              "      display:flex;\n",
              "      flex-wrap:wrap;\n",
              "      gap: 12px;\n",
              "    }\n",
              "\n",
              "    .colab-df-convert {\n",
              "      background-color: #E8F0FE;\n",
              "      border: none;\n",
              "      border-radius: 50%;\n",
              "      cursor: pointer;\n",
              "      display: none;\n",
              "      fill: #1967D2;\n",
              "      height: 32px;\n",
              "      padding: 0 0 0 0;\n",
              "      width: 32px;\n",
              "    }\n",
              "\n",
              "    .colab-df-convert:hover {\n",
              "      background-color: #E2EBFA;\n",
              "      box-shadow: 0px 1px 2px rgba(60, 64, 67, 0.3), 0px 1px 3px 1px rgba(60, 64, 67, 0.15);\n",
              "      fill: #174EA6;\n",
              "    }\n",
              "\n",
              "    [theme=dark] .colab-df-convert {\n",
              "      background-color: #3B4455;\n",
              "      fill: #D2E3FC;\n",
              "    }\n",
              "\n",
              "    [theme=dark] .colab-df-convert:hover {\n",
              "      background-color: #434B5C;\n",
              "      box-shadow: 0px 1px 3px 1px rgba(0, 0, 0, 0.15);\n",
              "      filter: drop-shadow(0px 1px 2px rgba(0, 0, 0, 0.3));\n",
              "      fill: #FFFFFF;\n",
              "    }\n",
              "  </style>\n",
              "\n",
              "      <script>\n",
              "        const buttonEl =\n",
              "          document.querySelector('#df-c617ffc8-6de7-4e56-a0e0-e03717eacc7f button.colab-df-convert');\n",
              "        buttonEl.style.display =\n",
              "          google.colab.kernel.accessAllowed ? 'block' : 'none';\n",
              "\n",
              "        async function convertToInteractive(key) {\n",
              "          const element = document.querySelector('#df-c617ffc8-6de7-4e56-a0e0-e03717eacc7f');\n",
              "          const dataTable =\n",
              "            await google.colab.kernel.invokeFunction('convertToInteractive',\n",
              "                                                     [key], {});\n",
              "          if (!dataTable) return;\n",
              "\n",
              "          const docLinkHtml = 'Like what you see? Visit the ' +\n",
              "            '<a target=\"_blank\" href=https://colab.research.google.com/notebooks/data_table.ipynb>data table notebook</a>'\n",
              "            + ' to learn more about interactive tables.';\n",
              "          element.innerHTML = '';\n",
              "          dataTable['output_type'] = 'display_data';\n",
              "          await google.colab.output.renderOutput(dataTable, element);\n",
              "          const docLink = document.createElement('div');\n",
              "          docLink.innerHTML = docLinkHtml;\n",
              "          element.appendChild(docLink);\n",
              "        }\n",
              "      </script>\n",
              "    </div>\n",
              "  </div>\n",
              "  "
            ]
          },
          "metadata": {},
          "execution_count": 703
        }
      ]
    },
    {
      "cell_type": "code",
      "source": [
        "predicted_data.reset_index()"
      ],
      "metadata": {
        "colab": {
          "base_uri": "https://localhost:8080/",
          "height": 424
        },
        "id": "pZP2Ou7CvdYW",
        "outputId": "ca323d27-488a-4087-8585-d5ae8b489766"
      },
      "execution_count": 704,
      "outputs": [
        {
          "output_type": "execute_result",
          "data": {
            "text/plain": [
              "    index  0\n",
              "0       0  0\n",
              "1       1  1\n",
              "2       2  0\n",
              "3       3  0\n",
              "4       4  0\n",
              "..    ... ..\n",
              "79     79  1\n",
              "80     80  1\n",
              "81     81  0\n",
              "82     82  0\n",
              "83     83  0\n",
              "\n",
              "[84 rows x 2 columns]"
            ],
            "text/html": [
              "\n",
              "  <div id=\"df-d35a6b20-9f99-4ae3-83e1-41d05349ffe7\">\n",
              "    <div class=\"colab-df-container\">\n",
              "      <div>\n",
              "<style scoped>\n",
              "    .dataframe tbody tr th:only-of-type {\n",
              "        vertical-align: middle;\n",
              "    }\n",
              "\n",
              "    .dataframe tbody tr th {\n",
              "        vertical-align: top;\n",
              "    }\n",
              "\n",
              "    .dataframe thead th {\n",
              "        text-align: right;\n",
              "    }\n",
              "</style>\n",
              "<table border=\"1\" class=\"dataframe\">\n",
              "  <thead>\n",
              "    <tr style=\"text-align: right;\">\n",
              "      <th></th>\n",
              "      <th>index</th>\n",
              "      <th>0</th>\n",
              "    </tr>\n",
              "  </thead>\n",
              "  <tbody>\n",
              "    <tr>\n",
              "      <th>0</th>\n",
              "      <td>0</td>\n",
              "      <td>0</td>\n",
              "    </tr>\n",
              "    <tr>\n",
              "      <th>1</th>\n",
              "      <td>1</td>\n",
              "      <td>1</td>\n",
              "    </tr>\n",
              "    <tr>\n",
              "      <th>2</th>\n",
              "      <td>2</td>\n",
              "      <td>0</td>\n",
              "    </tr>\n",
              "    <tr>\n",
              "      <th>3</th>\n",
              "      <td>3</td>\n",
              "      <td>0</td>\n",
              "    </tr>\n",
              "    <tr>\n",
              "      <th>4</th>\n",
              "      <td>4</td>\n",
              "      <td>0</td>\n",
              "    </tr>\n",
              "    <tr>\n",
              "      <th>...</th>\n",
              "      <td>...</td>\n",
              "      <td>...</td>\n",
              "    </tr>\n",
              "    <tr>\n",
              "      <th>79</th>\n",
              "      <td>79</td>\n",
              "      <td>1</td>\n",
              "    </tr>\n",
              "    <tr>\n",
              "      <th>80</th>\n",
              "      <td>80</td>\n",
              "      <td>1</td>\n",
              "    </tr>\n",
              "    <tr>\n",
              "      <th>81</th>\n",
              "      <td>81</td>\n",
              "      <td>0</td>\n",
              "    </tr>\n",
              "    <tr>\n",
              "      <th>82</th>\n",
              "      <td>82</td>\n",
              "      <td>0</td>\n",
              "    </tr>\n",
              "    <tr>\n",
              "      <th>83</th>\n",
              "      <td>83</td>\n",
              "      <td>0</td>\n",
              "    </tr>\n",
              "  </tbody>\n",
              "</table>\n",
              "<p>84 rows × 2 columns</p>\n",
              "</div>\n",
              "      <button class=\"colab-df-convert\" onclick=\"convertToInteractive('df-d35a6b20-9f99-4ae3-83e1-41d05349ffe7')\"\n",
              "              title=\"Convert this dataframe to an interactive table.\"\n",
              "              style=\"display:none;\">\n",
              "        \n",
              "  <svg xmlns=\"http://www.w3.org/2000/svg\" height=\"24px\"viewBox=\"0 0 24 24\"\n",
              "       width=\"24px\">\n",
              "    <path d=\"M0 0h24v24H0V0z\" fill=\"none\"/>\n",
              "    <path d=\"M18.56 5.44l.94 2.06.94-2.06 2.06-.94-2.06-.94-.94-2.06-.94 2.06-2.06.94zm-11 1L8.5 8.5l.94-2.06 2.06-.94-2.06-.94L8.5 2.5l-.94 2.06-2.06.94zm10 10l.94 2.06.94-2.06 2.06-.94-2.06-.94-.94-2.06-.94 2.06-2.06.94z\"/><path d=\"M17.41 7.96l-1.37-1.37c-.4-.4-.92-.59-1.43-.59-.52 0-1.04.2-1.43.59L10.3 9.45l-7.72 7.72c-.78.78-.78 2.05 0 2.83L4 21.41c.39.39.9.59 1.41.59.51 0 1.02-.2 1.41-.59l7.78-7.78 2.81-2.81c.8-.78.8-2.07 0-2.86zM5.41 20L4 18.59l7.72-7.72 1.47 1.35L5.41 20z\"/>\n",
              "  </svg>\n",
              "      </button>\n",
              "      \n",
              "  <style>\n",
              "    .colab-df-container {\n",
              "      display:flex;\n",
              "      flex-wrap:wrap;\n",
              "      gap: 12px;\n",
              "    }\n",
              "\n",
              "    .colab-df-convert {\n",
              "      background-color: #E8F0FE;\n",
              "      border: none;\n",
              "      border-radius: 50%;\n",
              "      cursor: pointer;\n",
              "      display: none;\n",
              "      fill: #1967D2;\n",
              "      height: 32px;\n",
              "      padding: 0 0 0 0;\n",
              "      width: 32px;\n",
              "    }\n",
              "\n",
              "    .colab-df-convert:hover {\n",
              "      background-color: #E2EBFA;\n",
              "      box-shadow: 0px 1px 2px rgba(60, 64, 67, 0.3), 0px 1px 3px 1px rgba(60, 64, 67, 0.15);\n",
              "      fill: #174EA6;\n",
              "    }\n",
              "\n",
              "    [theme=dark] .colab-df-convert {\n",
              "      background-color: #3B4455;\n",
              "      fill: #D2E3FC;\n",
              "    }\n",
              "\n",
              "    [theme=dark] .colab-df-convert:hover {\n",
              "      background-color: #434B5C;\n",
              "      box-shadow: 0px 1px 3px 1px rgba(0, 0, 0, 0.15);\n",
              "      filter: drop-shadow(0px 1px 2px rgba(0, 0, 0, 0.3));\n",
              "      fill: #FFFFFF;\n",
              "    }\n",
              "  </style>\n",
              "\n",
              "      <script>\n",
              "        const buttonEl =\n",
              "          document.querySelector('#df-d35a6b20-9f99-4ae3-83e1-41d05349ffe7 button.colab-df-convert');\n",
              "        buttonEl.style.display =\n",
              "          google.colab.kernel.accessAllowed ? 'block' : 'none';\n",
              "\n",
              "        async function convertToInteractive(key) {\n",
              "          const element = document.querySelector('#df-d35a6b20-9f99-4ae3-83e1-41d05349ffe7');\n",
              "          const dataTable =\n",
              "            await google.colab.kernel.invokeFunction('convertToInteractive',\n",
              "                                                     [key], {});\n",
              "          if (!dataTable) return;\n",
              "\n",
              "          const docLinkHtml = 'Like what you see? Visit the ' +\n",
              "            '<a target=\"_blank\" href=https://colab.research.google.com/notebooks/data_table.ipynb>data table notebook</a>'\n",
              "            + ' to learn more about interactive tables.';\n",
              "          element.innerHTML = '';\n",
              "          dataTable['output_type'] = 'display_data';\n",
              "          await google.colab.output.renderOutput(dataTable, element);\n",
              "          const docLink = document.createElement('div');\n",
              "          docLink.innerHTML = docLinkHtml;\n",
              "          element.appendChild(docLink);\n",
              "        }\n",
              "      </script>\n",
              "    </div>\n",
              "  </div>\n",
              "  "
            ]
          },
          "metadata": {},
          "execution_count": 704
        }
      ]
    },
    {
      "cell_type": "code",
      "source": [
        "predicted_data.reset_index(inplace = True)"
      ],
      "metadata": {
        "id": "7w6l44tIvmy2"
      },
      "execution_count": 705,
      "outputs": []
    },
    {
      "cell_type": "code",
      "source": [
        "columns = [\"Actual_Survived\", \"Predicted_survived\"]\n",
        "predicted_data.columns = columns"
      ],
      "metadata": {
        "id": "tWXRFkhdv0cz"
      },
      "execution_count": 706,
      "outputs": []
    },
    {
      "cell_type": "code",
      "source": [
        "predicted_data"
      ],
      "metadata": {
        "colab": {
          "base_uri": "https://localhost:8080/",
          "height": 424
        },
        "id": "-N_3_5wZwCGf",
        "outputId": "260f44c2-5830-4530-956b-a811eff58bf8"
      },
      "execution_count": 707,
      "outputs": [
        {
          "output_type": "execute_result",
          "data": {
            "text/plain": [
              "    Actual_Survived  Predicted_survived\n",
              "0                 0                   0\n",
              "1                 1                   1\n",
              "2                 2                   0\n",
              "3                 3                   0\n",
              "4                 4                   0\n",
              "..              ...                 ...\n",
              "79               79                   1\n",
              "80               80                   1\n",
              "81               81                   0\n",
              "82               82                   0\n",
              "83               83                   0\n",
              "\n",
              "[84 rows x 2 columns]"
            ],
            "text/html": [
              "\n",
              "  <div id=\"df-2ca7a551-b292-4d9a-b8b6-c30004e31da4\">\n",
              "    <div class=\"colab-df-container\">\n",
              "      <div>\n",
              "<style scoped>\n",
              "    .dataframe tbody tr th:only-of-type {\n",
              "        vertical-align: middle;\n",
              "    }\n",
              "\n",
              "    .dataframe tbody tr th {\n",
              "        vertical-align: top;\n",
              "    }\n",
              "\n",
              "    .dataframe thead th {\n",
              "        text-align: right;\n",
              "    }\n",
              "</style>\n",
              "<table border=\"1\" class=\"dataframe\">\n",
              "  <thead>\n",
              "    <tr style=\"text-align: right;\">\n",
              "      <th></th>\n",
              "      <th>Actual_Survived</th>\n",
              "      <th>Predicted_survived</th>\n",
              "    </tr>\n",
              "  </thead>\n",
              "  <tbody>\n",
              "    <tr>\n",
              "      <th>0</th>\n",
              "      <td>0</td>\n",
              "      <td>0</td>\n",
              "    </tr>\n",
              "    <tr>\n",
              "      <th>1</th>\n",
              "      <td>1</td>\n",
              "      <td>1</td>\n",
              "    </tr>\n",
              "    <tr>\n",
              "      <th>2</th>\n",
              "      <td>2</td>\n",
              "      <td>0</td>\n",
              "    </tr>\n",
              "    <tr>\n",
              "      <th>3</th>\n",
              "      <td>3</td>\n",
              "      <td>0</td>\n",
              "    </tr>\n",
              "    <tr>\n",
              "      <th>4</th>\n",
              "      <td>4</td>\n",
              "      <td>0</td>\n",
              "    </tr>\n",
              "    <tr>\n",
              "      <th>...</th>\n",
              "      <td>...</td>\n",
              "      <td>...</td>\n",
              "    </tr>\n",
              "    <tr>\n",
              "      <th>79</th>\n",
              "      <td>79</td>\n",
              "      <td>1</td>\n",
              "    </tr>\n",
              "    <tr>\n",
              "      <th>80</th>\n",
              "      <td>80</td>\n",
              "      <td>1</td>\n",
              "    </tr>\n",
              "    <tr>\n",
              "      <th>81</th>\n",
              "      <td>81</td>\n",
              "      <td>0</td>\n",
              "    </tr>\n",
              "    <tr>\n",
              "      <th>82</th>\n",
              "      <td>82</td>\n",
              "      <td>0</td>\n",
              "    </tr>\n",
              "    <tr>\n",
              "      <th>83</th>\n",
              "      <td>83</td>\n",
              "      <td>0</td>\n",
              "    </tr>\n",
              "  </tbody>\n",
              "</table>\n",
              "<p>84 rows × 2 columns</p>\n",
              "</div>\n",
              "      <button class=\"colab-df-convert\" onclick=\"convertToInteractive('df-2ca7a551-b292-4d9a-b8b6-c30004e31da4')\"\n",
              "              title=\"Convert this dataframe to an interactive table.\"\n",
              "              style=\"display:none;\">\n",
              "        \n",
              "  <svg xmlns=\"http://www.w3.org/2000/svg\" height=\"24px\"viewBox=\"0 0 24 24\"\n",
              "       width=\"24px\">\n",
              "    <path d=\"M0 0h24v24H0V0z\" fill=\"none\"/>\n",
              "    <path d=\"M18.56 5.44l.94 2.06.94-2.06 2.06-.94-2.06-.94-.94-2.06-.94 2.06-2.06.94zm-11 1L8.5 8.5l.94-2.06 2.06-.94-2.06-.94L8.5 2.5l-.94 2.06-2.06.94zm10 10l.94 2.06.94-2.06 2.06-.94-2.06-.94-.94-2.06-.94 2.06-2.06.94z\"/><path d=\"M17.41 7.96l-1.37-1.37c-.4-.4-.92-.59-1.43-.59-.52 0-1.04.2-1.43.59L10.3 9.45l-7.72 7.72c-.78.78-.78 2.05 0 2.83L4 21.41c.39.39.9.59 1.41.59.51 0 1.02-.2 1.41-.59l7.78-7.78 2.81-2.81c.8-.78.8-2.07 0-2.86zM5.41 20L4 18.59l7.72-7.72 1.47 1.35L5.41 20z\"/>\n",
              "  </svg>\n",
              "      </button>\n",
              "      \n",
              "  <style>\n",
              "    .colab-df-container {\n",
              "      display:flex;\n",
              "      flex-wrap:wrap;\n",
              "      gap: 12px;\n",
              "    }\n",
              "\n",
              "    .colab-df-convert {\n",
              "      background-color: #E8F0FE;\n",
              "      border: none;\n",
              "      border-radius: 50%;\n",
              "      cursor: pointer;\n",
              "      display: none;\n",
              "      fill: #1967D2;\n",
              "      height: 32px;\n",
              "      padding: 0 0 0 0;\n",
              "      width: 32px;\n",
              "    }\n",
              "\n",
              "    .colab-df-convert:hover {\n",
              "      background-color: #E2EBFA;\n",
              "      box-shadow: 0px 1px 2px rgba(60, 64, 67, 0.3), 0px 1px 3px 1px rgba(60, 64, 67, 0.15);\n",
              "      fill: #174EA6;\n",
              "    }\n",
              "\n",
              "    [theme=dark] .colab-df-convert {\n",
              "      background-color: #3B4455;\n",
              "      fill: #D2E3FC;\n",
              "    }\n",
              "\n",
              "    [theme=dark] .colab-df-convert:hover {\n",
              "      background-color: #434B5C;\n",
              "      box-shadow: 0px 1px 3px 1px rgba(0, 0, 0, 0.15);\n",
              "      filter: drop-shadow(0px 1px 2px rgba(0, 0, 0, 0.3));\n",
              "      fill: #FFFFFF;\n",
              "    }\n",
              "  </style>\n",
              "\n",
              "      <script>\n",
              "        const buttonEl =\n",
              "          document.querySelector('#df-2ca7a551-b292-4d9a-b8b6-c30004e31da4 button.colab-df-convert');\n",
              "        buttonEl.style.display =\n",
              "          google.colab.kernel.accessAllowed ? 'block' : 'none';\n",
              "\n",
              "        async function convertToInteractive(key) {\n",
              "          const element = document.querySelector('#df-2ca7a551-b292-4d9a-b8b6-c30004e31da4');\n",
              "          const dataTable =\n",
              "            await google.colab.kernel.invokeFunction('convertToInteractive',\n",
              "                                                     [key], {});\n",
              "          if (!dataTable) return;\n",
              "\n",
              "          const docLinkHtml = 'Like what you see? Visit the ' +\n",
              "            '<a target=\"_blank\" href=https://colab.research.google.com/notebooks/data_table.ipynb>data table notebook</a>'\n",
              "            + ' to learn more about interactive tables.';\n",
              "          element.innerHTML = '';\n",
              "          dataTable['output_type'] = 'display_data';\n",
              "          await google.colab.output.renderOutput(dataTable, element);\n",
              "          const docLink = document.createElement('div');\n",
              "          docLink.innerHTML = docLinkHtml;\n",
              "          element.appendChild(docLink);\n",
              "        }\n",
              "      </script>\n",
              "    </div>\n",
              "  </div>\n",
              "  "
            ]
          },
          "metadata": {},
          "execution_count": 707
        }
      ]
    },
    {
      "cell_type": "code",
      "source": [
        "from sklearn import datasets"
      ],
      "metadata": {
        "id": "E8LQx5lpiQak"
      },
      "execution_count": 708,
      "outputs": []
    },
    {
      "cell_type": "code",
      "source": [
        "from sklearn import svm"
      ],
      "metadata": {
        "id": "kuf_s2v8iUXk"
      },
      "execution_count": 709,
      "outputs": []
    },
    {
      "cell_type": "code",
      "source": [
        "X,y = datasets.load_iris(return_X_y=True)"
      ],
      "metadata": {
        "id": "ktrIMEEmiXa-"
      },
      "execution_count": 710,
      "outputs": []
    },
    {
      "cell_type": "code",
      "source": [
        "X.shape, y.shape"
      ],
      "metadata": {
        "colab": {
          "base_uri": "https://localhost:8080/"
        },
        "id": "NyNZNJO6igLl",
        "outputId": "733b85b5-ca74-498b-f506-af3ca8493220"
      },
      "execution_count": 711,
      "outputs": [
        {
          "output_type": "execute_result",
          "data": {
            "text/plain": [
              "((150, 4), (150,))"
            ]
          },
          "metadata": {},
          "execution_count": 711
        }
      ]
    },
    {
      "cell_type": "code",
      "source": [
        "X_train, X_test, y_train, y_test = train_test_split(\n",
        "    X, y, test_size=0.4, random_state=0\n",
        ")\n"
      ],
      "metadata": {
        "id": "MQK3I3FXikkj"
      },
      "execution_count": 712,
      "outputs": []
    },
    {
      "cell_type": "code",
      "source": [
        "X_train.shape, y_train.shape"
      ],
      "metadata": {
        "colab": {
          "base_uri": "https://localhost:8080/"
        },
        "id": "dm8f8b8MkdkU",
        "outputId": "95895234-8e46-473f-98f2-88e775d776f8"
      },
      "execution_count": 713,
      "outputs": [
        {
          "output_type": "execute_result",
          "data": {
            "text/plain": [
              "((90, 4), (90,))"
            ]
          },
          "metadata": {},
          "execution_count": 713
        }
      ]
    },
    {
      "cell_type": "code",
      "source": [
        "X_test.shape, y_test.shape"
      ],
      "metadata": {
        "colab": {
          "base_uri": "https://localhost:8080/"
        },
        "id": "AX9b3k9Fkjlx",
        "outputId": "6387becc-cf39-48d3-8f0f-3c7c40be6120"
      },
      "execution_count": 714,
      "outputs": [
        {
          "output_type": "execute_result",
          "data": {
            "text/plain": [
              "((60, 4), (60,))"
            ]
          },
          "metadata": {},
          "execution_count": 714
        }
      ]
    },
    {
      "cell_type": "code",
      "source": [
        "clf = svm.SVC(kernel='linear', C=1).fit(X_train, y_train)"
      ],
      "metadata": {
        "id": "KL5NQ1VnkoHq"
      },
      "execution_count": 715,
      "outputs": []
    },
    {
      "cell_type": "code",
      "source": [
        "clf.score(X_test, y_test)"
      ],
      "metadata": {
        "colab": {
          "base_uri": "https://localhost:8080/"
        },
        "id": "lzAjVI9okzsZ",
        "outputId": "e35d16ca-a6a8-43fc-f2fb-4f95a2b4fa56"
      },
      "execution_count": 716,
      "outputs": [
        {
          "output_type": "execute_result",
          "data": {
            "text/plain": [
              "0.9666666666666667"
            ]
          },
          "metadata": {},
          "execution_count": 716
        }
      ]
    },
    {
      "cell_type": "code",
      "source": [
        "from sklearn.model_selection import cross_val_score"
      ],
      "metadata": {
        "id": "pcEGd4Uzk_Ji"
      },
      "execution_count": 717,
      "outputs": []
    },
    {
      "cell_type": "code",
      "source": [
        "clf = svm.SVC(kernel='linear', C=1, random_state=42)"
      ],
      "metadata": {
        "id": "YunNaDoHlF24"
      },
      "execution_count": 718,
      "outputs": []
    },
    {
      "cell_type": "markdown",
      "source": [
        "**Cross Validation**\n"
      ],
      "metadata": {
        "id": "CeXgTbNgnUFD"
      }
    },
    {
      "cell_type": "code",
      "source": [
        "scores = cross_val_score(clf, X, y, cv=5)"
      ],
      "metadata": {
        "id": "S-OEAbEulQ0_"
      },
      "execution_count": 719,
      "outputs": []
    },
    {
      "cell_type": "code",
      "source": [
        "scores"
      ],
      "metadata": {
        "colab": {
          "base_uri": "https://localhost:8080/"
        },
        "id": "PxZibaVqlYAb",
        "outputId": "e1e54e96-8c3a-4b8a-b69c-67019469cad2"
      },
      "execution_count": 720,
      "outputs": [
        {
          "output_type": "execute_result",
          "data": {
            "text/plain": [
              "array([0.96666667, 1.        , 0.96666667, 0.96666667, 1.        ])"
            ]
          },
          "metadata": {},
          "execution_count": 720
        }
      ]
    },
    {
      "cell_type": "code",
      "source": [
        "print(\"%0.2f accuracy with a standard deviation of %0.2f\" % (scores.mean(), scores.std()))"
      ],
      "metadata": {
        "colab": {
          "base_uri": "https://localhost:8080/"
        },
        "id": "ch7pMoW7ldzy",
        "outputId": "2837d548-ff29-4c30-bde2-c70dc5b12c04"
      },
      "execution_count": 721,
      "outputs": [
        {
          "output_type": "stream",
          "name": "stdout",
          "text": [
            "0.98 accuracy with a standard deviation of 0.02\n"
          ]
        }
      ]
    },
    {
      "cell_type": "code",
      "source": [
        "from sklearn.pipeline import make_pipeline"
      ],
      "metadata": {
        "id": "vFqAXTH7mBtT"
      },
      "execution_count": 722,
      "outputs": []
    },
    {
      "cell_type": "code",
      "source": [
        "clf = make_pipeline(preprocessing.StandardScaler(), svm.SVC(C=1))"
      ],
      "metadata": {
        "id": "l8bdWEsJmHC_"
      },
      "execution_count": 723,
      "outputs": []
    },
    {
      "cell_type": "code",
      "source": [
        "from sklearn.model_selection import ShuffleSplit"
      ],
      "metadata": {
        "id": "TxXcSr9SmRrG"
      },
      "execution_count": 724,
      "outputs": []
    },
    {
      "cell_type": "code",
      "source": [
        "n_samples = X.shape[0]"
      ],
      "metadata": {
        "id": "_UwBpznwmxFc"
      },
      "execution_count": 725,
      "outputs": []
    },
    {
      "cell_type": "code",
      "source": [
        "cv = ShuffleSplit(n_splits=5, test_size=0.3, random_state=0)"
      ],
      "metadata": {
        "id": "QeN3dYy3m1e4"
      },
      "execution_count": 726,
      "outputs": []
    },
    {
      "cell_type": "code",
      "source": [
        "cross_val_score(clf, X, y, cv=cv)"
      ],
      "metadata": {
        "colab": {
          "base_uri": "https://localhost:8080/"
        },
        "id": "ygdJ9ZSznBUk",
        "outputId": "5733754c-26fd-4ba4-db11-19e9562cddfd"
      },
      "execution_count": 727,
      "outputs": [
        {
          "output_type": "execute_result",
          "data": {
            "text/plain": [
              "array([0.97777778, 0.93333333, 0.95555556, 0.93333333, 0.97777778])"
            ]
          },
          "metadata": {},
          "execution_count": 727
        }
      ]
    },
    {
      "cell_type": "code",
      "source": [
        "from sklearn.pipeline import make_pipeline"
      ],
      "metadata": {
        "id": "9V2KZ7qQneZL"
      },
      "execution_count": 728,
      "outputs": []
    },
    {
      "cell_type": "code",
      "source": [
        "clf = make_pipeline(preprocessing.StandardScaler(), svm.SVC(C=1))"
      ],
      "metadata": {
        "id": "L3TLtyNqnq4E"
      },
      "execution_count": 729,
      "outputs": []
    },
    {
      "cell_type": "markdown",
      "source": [
        "**Pipelining**"
      ],
      "metadata": {
        "id": "0do4G0J2oAua"
      }
    },
    {
      "cell_type": "code",
      "source": [
        "cross_val_score(clf, X, y, cv=cv)"
      ],
      "metadata": {
        "colab": {
          "base_uri": "https://localhost:8080/"
        },
        "id": "w5Dzgjhcn3uJ",
        "outputId": "1d345599-99fc-44f2-a1c8-02820ab29727"
      },
      "execution_count": 730,
      "outputs": [
        {
          "output_type": "execute_result",
          "data": {
            "text/plain": [
              "array([0.97777778, 0.93333333, 0.95555556, 0.93333333, 0.97777778])"
            ]
          },
          "metadata": {},
          "execution_count": 730
        }
      ]
    },
    {
      "cell_type": "code",
      "source": [
        "import numpy as np\n",
        "from sklearn.model_selection import KFold"
      ],
      "metadata": {
        "id": "0j9Wh050qamr"
      },
      "execution_count": 731,
      "outputs": []
    },
    {
      "cell_type": "code",
      "source": [
        "X = [\"a\", \"b\", \"c\", \"d\"]"
      ],
      "metadata": {
        "id": "TPWMyqlZqigp"
      },
      "execution_count": 732,
      "outputs": []
    },
    {
      "cell_type": "code",
      "source": [
        "kf = KFold(n_splits=2)"
      ],
      "metadata": {
        "id": "Yooi4Kjlqpfw"
      },
      "execution_count": 733,
      "outputs": []
    },
    {
      "cell_type": "code",
      "source": [
        "for train, test in kf.split(X):\n",
        "  print(\"%s %s\" % (train, test))"
      ],
      "metadata": {
        "colab": {
          "base_uri": "https://localhost:8080/"
        },
        "id": "TY8iCb3nqwwe",
        "outputId": "8f4e215f-de83-4359-f257-6b22ba432763"
      },
      "execution_count": 734,
      "outputs": [
        {
          "output_type": "stream",
          "name": "stdout",
          "text": [
            "[2 3] [0 1]\n",
            "[0 1] [2 3]\n"
          ]
        }
      ]
    },
    {
      "cell_type": "code",
      "source": [
        "X = np.array([[0., 0.], [1., 1.], [-1., -1.], [2., 2.]])"
      ],
      "metadata": {
        "id": "lReQAAZ5q-ga"
      },
      "execution_count": 735,
      "outputs": []
    },
    {
      "cell_type": "code",
      "source": [
        "y = np.array([0, 1, 0, 1])"
      ],
      "metadata": {
        "id": "tUYOClSirbgp"
      },
      "execution_count": 736,
      "outputs": []
    },
    {
      "cell_type": "code",
      "source": [
        "X_train, X_test, y_train, y_test = X[train], X[test], y[train], y[test]"
      ],
      "metadata": {
        "id": "DH79TP-nrh6N"
      },
      "execution_count": 737,
      "outputs": []
    },
    {
      "cell_type": "code",
      "source": [
        "from sklearn.multiclass import OneVsRestClassifier\n",
        "from sklearn.linear_model import LogisticRegression\n",
        "from sklearn.model_selection import train_test_split\n",
        "from sklearn.metrics import roc_curve\n",
        "from sklearn.metrics import roc_auc_score"
      ],
      "metadata": {
        "id": "sV-usSuUxsmo"
      },
      "execution_count": 738,
      "outputs": []
    },
    {
      "cell_type": "code",
      "source": [
        "X, y = make_classification(n_samples=1000, n_classes=3, n_features=20, n_informative=3, random_state=42)"
      ],
      "metadata": {
        "id": "6mqYZMmgya5k"
      },
      "execution_count": 739,
      "outputs": []
    },
    {
      "cell_type": "code",
      "source": [
        "X_train, X_test, y_train, y_test = train_test_split(X, y, test_size=0.4, random_state=42)"
      ],
      "metadata": {
        "id": "vYgETkbAyvCC"
      },
      "execution_count": 740,
      "outputs": []
    },
    {
      "cell_type": "code",
      "source": [
        "clf = OneVsRestClassifier(LogisticRegression())\n",
        "clf.fit(X_train, y_train)\n",
        "pred = clf.predict(X_test)\n",
        "pred_prob = clf.predict_proba(X_test)"
      ],
      "metadata": {
        "id": "IC8qSvhay8P3"
      },
      "execution_count": 741,
      "outputs": []
    },
    {
      "cell_type": "code",
      "source": [
        "fpr = {}\n",
        "tpr = {}\n",
        "thresh = {}\n",
        "\n",
        "n_class = 3\n",
        "\n",
        "for i in range(n_class):\n",
        "  fpr[i], tpr[i], thresh[i] = roc_curve(y_test, pred_prob[:,i], pos_label=i)\n",
        "  "
      ],
      "metadata": {
        "id": "kFJK1Sp_zeDa"
      },
      "execution_count": 742,
      "outputs": []
    },
    {
      "cell_type": "markdown",
      "source": [
        "**ROC Curve**"
      ],
      "metadata": {
        "id": "CzmOjir52FSr"
      }
    },
    {
      "cell_type": "code",
      "source": [
        "plt.plot(fpr[0], tpr[0], linestyle='--',color='red', label='Class 0 vs Rest')\n",
        "plt.plot(fpr[1], tpr[1], linestyle='--',color='green', label='Class 1 vs Rest')\n",
        "plt.plot(fpr[2], tpr[2], linestyle='--',color='purple', label='Class 2 vs Rest')\n",
        "plt.title('Multiclass ROC Curve')\n",
        "plt.xlabel('False Positive Rate')\n",
        "plt.ylabel('True Positive Rate')\n",
        "plt.legend(loc='best')\n",
        "plt.savefig('Multiclass ROC',dpi=300)\n"
      ],
      "metadata": {
        "colab": {
          "base_uri": "https://localhost:8080/",
          "height": 472
        },
        "id": "5PeBvBh1z7JS",
        "outputId": "3d657a06-13ab-44de-c444-6d6130c70c55"
      },
      "execution_count": 743,
      "outputs": [
        {
          "output_type": "display_data",
          "data": {
            "text/plain": [
              "<Figure size 640x480 with 1 Axes>"
            ],
            "image/png": "[encoded data removed]"
          },
          "metadata": {}
        }
      ]
    },
    {
      "cell_type": "code",
      "source": [
        "from sklearn.ensemble import RandomForestClassifier\n",
        "from sklearn.model_selection import train_test_split\n",
        "from sklearn.model_selection import GridSearchCV\n",
        "from sklearn import metrics\n",
        "import warnings\n",
        "warnings.filterwarnings('ignore')"
      ],
      "metadata": {
        "id": "cm-gS0424iy5"
      },
      "execution_count": 744,
      "outputs": []
    },
    {
      "cell_type": "code",
      "source": [
        "X_train, X_test, y_train, y_test "
      ],
      "metadata": {
        "colab": {
          "base_uri": "https://localhost:8080/"
        },
        "id": "3U24TtdTOgQ_",
        "outputId": "676b7bae-7ff4-4abb-e9b4-c5643f798507"
      },
      "execution_count": 745,
      "outputs": [
        {
          "output_type": "execute_result",
          "data": {
            "text/plain": [
              "(array([[ 1.63828118, -0.16557897, -1.54826167, ...,  0.83498943,\n",
              "          1.83794203,  0.53746209],\n",
              "        [ 1.202249  ,  0.26905269,  0.28638674, ...,  0.53289172,\n",
              "         -1.4512263 , -0.4134487 ],\n",
              "        [ 0.88169643, -0.51442582,  0.986514  , ..., -0.06711639,\n",
              "          1.93946355, -1.32123374],\n",
              "        ...,\n",
              "        [-0.03193389, -0.30031814,  1.37079183, ...,  1.92494051,\n",
              "         -1.55876225, -0.41723484],\n",
              "        [ 0.69285758, -0.79994051,  1.00163183, ...,  0.14304877,\n",
              "          0.53629091, -0.39305276],\n",
              "        [ 0.10527862, -1.50304686,  0.0903098 , ...,  0.18301293,\n",
              "          0.4664446 , -0.88143371]]),\n",
              " array([[ 2.77996362, -1.35375467, -0.23527391, ..., -1.16948063,\n",
              "          0.07567354, -2.07711985],\n",
              "        [-0.26030904, -0.22053823,  0.22328091, ...,  0.18847576,\n",
              "         -0.27241002,  0.54028794],\n",
              "        [-0.18820244, -0.21387517,  0.22058354, ...,  0.11339439,\n",
              "         -1.74277197,  0.41875996],\n",
              "        ...,\n",
              "        [-0.84928096, -2.40194694, -2.84394366, ..., -0.44672687,\n",
              "          0.86382734, -0.5095665 ],\n",
              "        [-0.6608412 , -0.01190082, -0.7131923 , ...,  0.04390053,\n",
              "         -0.56780784,  0.50801229],\n",
              "        [-0.96539616, -0.76548122,  1.89557477, ...,  1.37652266,\n",
              "         -0.26382823,  0.17289168]]),\n",
              " array([1, 2, 2, 0, 2, 0, 2, 0, 0, 0, 1, 2, 0, 2, 1, 2, 0, 0, 0, 0, 1, 2,\n",
              "        0, 1, 1, 1, 2, 0, 0, 2, 0, 1, 1, 2, 1, 0, 2, 0, 2, 2, 1, 2, 1, 0,\n",
              "        2, 2, 0, 1, 0, 1, 2, 1, 1, 0, 1, 0, 1, 1, 2, 2, 1, 2, 2, 0, 2, 1,\n",
              "        0, 2, 2, 1, 1, 2, 1, 2, 2, 1, 1, 0, 2, 0, 1, 2, 2, 1, 0, 1, 0, 2,\n",
              "        1, 1, 0, 1, 1, 1, 1, 1, 2, 2, 2, 2, 2, 0, 1, 0, 2, 2, 0, 2, 2, 0,\n",
              "        0, 1, 0, 2, 2, 0, 0, 2, 0, 0, 1, 2, 2, 1, 1, 2, 1, 0, 1, 2, 1, 1,\n",
              "        0, 2, 0, 2, 2, 0, 2, 0, 0, 0, 1, 1, 1, 1, 0, 0, 0, 0, 0, 1, 2, 2,\n",
              "        0, 2, 1, 2, 1, 1, 1, 2, 1, 2, 1, 1, 0, 0, 0, 0, 2, 2, 1, 0, 0, 1,\n",
              "        0, 1, 0, 0, 0, 1, 0, 1, 2, 0, 0, 1, 0, 0, 0, 0, 1, 0, 1, 0, 0, 1,\n",
              "        1, 2, 0, 2, 2, 1, 2, 0, 0, 0, 2, 0, 2, 2, 2, 1, 1, 0, 1, 0, 2, 2,\n",
              "        1, 0, 1, 2, 0, 1, 1, 1, 1, 1, 2, 2, 0, 1, 0, 2, 0, 2, 2, 0, 2, 0,\n",
              "        2, 2, 2, 0, 0, 0, 0, 1, 2, 1, 1, 2, 1, 1, 0, 2, 0, 0, 1, 0, 1, 2,\n",
              "        0, 1, 2, 1, 1, 0, 0, 2, 0, 2, 1, 2, 1, 2, 1, 0, 2, 2, 0, 2, 1, 2,\n",
              "        2, 1, 1, 2, 1, 1, 1, 2, 2, 1, 1, 0, 2, 2, 2, 2, 2, 0, 1, 2, 0, 0,\n",
              "        1, 0, 1, 1, 0, 2, 1, 2, 0, 0, 2, 2, 0, 0, 2, 0, 1, 0, 1, 1, 1, 1,\n",
              "        0, 0, 0, 2, 0, 1, 1, 0, 0, 1, 1, 1, 2, 1, 2, 0, 0, 1, 0, 0, 1, 2,\n",
              "        0, 2, 0, 1, 2, 0, 2, 2, 1, 2, 0, 2, 1, 1, 0, 2, 2, 1, 0, 1, 2, 0,\n",
              "        1, 2, 1, 0, 2, 2, 0, 0, 2, 2, 0, 1, 1, 1, 0, 1, 2, 1, 2, 2, 2, 0,\n",
              "        1, 1, 2, 0, 2, 2, 2, 1, 1, 2, 1, 2, 2, 0, 0, 2, 1, 1, 0, 1, 2, 0,\n",
              "        0, 2, 0, 1, 0, 0, 0, 0, 0, 1, 0, 2, 1, 0, 0, 0, 1, 0, 0, 2, 1, 2,\n",
              "        0, 0, 0, 1, 1, 0, 2, 2, 2, 2, 1, 0, 0, 2, 2, 2, 0, 0, 1, 2, 1, 0,\n",
              "        0, 1, 1, 1, 1, 2, 1, 0, 1, 1, 2, 1, 2, 2, 2, 2, 0, 1, 0, 2, 1, 2,\n",
              "        1, 1, 1, 1, 0, 0, 1, 0, 1, 2, 0, 0, 2, 1, 1, 0, 1, 1, 0, 1, 2, 0,\n",
              "        2, 0, 2, 0, 2, 1, 2, 2, 1, 1, 1, 1, 0, 1, 0, 1, 2, 1, 1, 1, 0, 2,\n",
              "        0, 2, 2, 1, 0, 2, 0, 1, 1, 0, 0, 2, 1, 0, 2, 1, 0, 2, 2, 0, 0, 1,\n",
              "        2, 0, 2, 1, 1, 0, 2, 1, 1, 2, 0, 1, 2, 1, 0, 1, 1, 0, 2, 2, 2, 1,\n",
              "        0, 2, 0, 0, 1, 0, 2, 2, 1, 1, 0, 1, 2, 1, 2, 1, 0, 2, 2, 1, 2, 2,\n",
              "        2, 2, 1, 2, 0, 1]),\n",
              " array([1, 0, 1, 0, 2, 0, 2, 1, 1, 0, 0, 1, 1, 2, 2, 0, 1, 0, 2, 1, 0, 2,\n",
              "        1, 2, 1, 1, 0, 1, 0, 2, 1, 0, 2, 0, 0, 0, 2, 0, 2, 1, 2, 0, 0, 1,\n",
              "        0, 1, 0, 1, 1, 2, 0, 0, 1, 0, 1, 0, 0, 1, 0, 1, 0, 2, 0, 2, 2, 1,\n",
              "        2, 0, 2, 1, 0, 2, 1, 0, 1, 1, 2, 2, 1, 1, 1, 2, 2, 2, 1, 0, 1, 0,\n",
              "        2, 0, 2, 2, 1, 2, 2, 0, 1, 1, 2, 1, 1, 1, 0, 0, 2, 2, 1, 2, 1, 2,\n",
              "        2, 2, 1, 0, 2, 2, 0, 2, 1, 1, 2, 1, 0, 1, 1, 0, 1, 2, 1, 2, 0, 0,\n",
              "        2, 2, 0, 1, 1, 2, 1, 1, 2, 2, 2, 2, 0, 2, 2, 2, 0, 1, 1, 0, 2, 0,\n",
              "        0, 1, 0, 1, 0, 2, 2, 1, 2, 2, 2, 1, 0, 0, 2, 1, 0, 0, 0, 0, 2, 2,\n",
              "        1, 1, 1, 0, 2, 1, 2, 2, 0, 1, 1, 2, 2, 0, 0, 0, 0, 2, 2, 0, 1, 1,\n",
              "        2, 2, 1, 0, 1, 2, 2, 1, 1, 2, 1, 2, 0, 0, 2, 2, 1, 1, 2, 0, 1, 2,\n",
              "        2, 0, 2, 2, 0, 0, 1, 2, 0, 2, 2, 1, 0, 2, 0, 0, 2, 1, 0, 0, 1, 1,\n",
              "        2, 0, 1, 0, 1, 1, 2, 2, 1, 1, 2, 2, 1, 0, 2, 0, 2, 2, 2, 0, 2, 0,\n",
              "        1, 2, 0, 0, 0, 0, 1, 0, 1, 0, 0, 0, 2, 2, 0, 0, 1, 0, 0, 1, 1, 2,\n",
              "        1, 2, 1, 0, 0, 1, 2, 0, 2, 0, 2, 2, 1, 0, 2, 1, 2, 1, 1, 1, 2, 2,\n",
              "        0, 0, 2, 1, 1, 0, 0, 1, 1, 1, 1, 0, 1, 0, 2, 0, 0, 2, 2, 2, 0, 2,\n",
              "        1, 1, 1, 1, 2, 0, 0, 2, 1, 0, 2, 1, 0, 1, 2, 1, 1, 0, 2, 0, 2, 1,\n",
              "        0, 2, 0, 0, 1, 2, 2, 0, 1, 1, 0, 2, 2, 1, 1, 1, 2, 2, 1, 0, 2, 0,\n",
              "        0, 0, 2, 2, 1, 2, 1, 0, 1, 2, 2, 2, 0, 1, 0, 0, 0, 0, 0, 0, 1, 0,\n",
              "        1, 2, 0, 2]))"
            ]
          },
          "metadata": {},
          "execution_count": 745
        }
      ]
    },
    {
      "cell_type": "code",
      "source": [
        "rfc = RandomForestClassifier()"
      ],
      "metadata": {
        "id": "2R8ZZCyQO4w7"
      },
      "execution_count": 746,
      "outputs": []
    },
    {
      "cell_type": "code",
      "source": [
        "forest_params = [{'max_depth': list(range(10, 15)), 'max_features':list(range(0,14))}]"
      ],
      "metadata": {
        "id": "TodalK8vPFkC"
      },
      "execution_count": 747,
      "outputs": []
    },
    {
      "cell_type": "code",
      "source": [
        "clf = GridSearchCV(rfc, forest_params, cv = 10, scoring='accuracy')"
      ],
      "metadata": {
        "id": "_1c54tqjPaJk"
      },
      "execution_count": 748,
      "outputs": []
    },
    {
      "cell_type": "code",
      "source": [],
      "metadata": {
        "id": "GyqjrA43xrjx"
      },
      "execution_count": 748,
      "outputs": []
    }
  ]
}